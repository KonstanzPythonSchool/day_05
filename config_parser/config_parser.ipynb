{
 "cells": [
  {
   "cell_type": "markdown",
   "metadata": {},
   "source": [
    "# Info\n",
    "- [Parsing a file](#Parsing-a-file)\n",
    "    - [Parse a line for keywords](#Parse-a-line-for-keywords)"
   ]
  },
  {
   "cell_type": "markdown",
   "metadata": {},
   "source": [
    "# Parsing a file\n",
    "\n",
    "A good example how to parse a file would be writing a parser for a config file.\n",
    "\n",
    "Let's have a look at the file first: `config.ini`.\n",
    "> Open it with your textmanager of your choice or use a shell command from inside of the notebook.\n",
    "> * Linux : `!cat config.ini`\n",
    "> * Windows : `!type config.ini`\n",
    "> * Mac : `!cat config.ini` (not tested)"
   ]
  },
  {
   "cell_type": "code",
   "execution_count": null,
   "metadata": {},
   "outputs": [],
   "source": [
    "# Linux : !cat config.ini\n",
    "# Windows : !type config.ini\n",
    "# Mac ?? : !cat config.ini\n",
    "!type config.ini"
   ]
  },
  {
   "cell_type": "markdown",
   "metadata": {},
   "source": [
    "As you can see the file is easily structured.\n",
    "\n",
    "1. section is given in `[` + **section name** + `]`\n",
    "2. values are assigned in the format : `parameter` `:` `value(s)`\n",
    "3. comments seem to start with `#`"
   ]
  },
  {
   "cell_type": "markdown",
   "metadata": {},
   "source": [
    "## open a file\n",
    "**Recall**: The typical workflow is:\n",
    "1. `open` a file\n",
    "2. `read` its content or `write` something into it\n",
    "3. `close` it"
   ]
  },
  {
   "cell_type": "code",
   "execution_count": null,
   "metadata": {},
   "outputs": [],
   "source": [
    "fp = open('config.ini')\n",
    "content = fp.read()\n",
    "fp.close()"
   ]
  },
  {
   "cell_type": "code",
   "execution_count": null,
   "metadata": {},
   "outputs": [],
   "source": [
    "print(content)"
   ]
  },
  {
   "cell_type": "markdown",
   "metadata": {},
   "source": [
    "**There has to be a better way!**"
   ]
  },
  {
   "cell_type": "code",
   "execution_count": null,
   "metadata": {},
   "outputs": [],
   "source": []
  },
  {
   "cell_type": "code",
   "execution_count": null,
   "metadata": {},
   "outputs": [],
   "source": []
  },
  {
   "cell_type": "markdown",
   "metadata": {},
   "source": [
    "Let us check if everything worked."
   ]
  },
  {
   "cell_type": "code",
   "execution_count": null,
   "metadata": {},
   "outputs": [],
   "source": [
    "with open('new_config.ini', 'r') as fp:\n",
    "    line = True\n",
    "    while line:\n",
    "        line = fp.readline()\n",
    "        print(line, end='')        "
   ]
  },
  {
   "cell_type": "markdown",
   "metadata": {},
   "source": [
    "## Parse a line for keywords\n",
    "Now, we only want to have our keywords for the given sections.\n",
    "Let's try to extract them.\n",
    "What should we do?\n",
    "\n",
    "1. Throw a way empty lines\n",
    "2. Ignore comments\n",
    "3. find out which section we are\n",
    "4. if we have a parameter line, find the parameter name and the value\n",
    "5. store it in some convenient way"
   ]
  },
  {
   "cell_type": "markdown",
   "metadata": {},
   "source": [
    "**Tools we have**\n",
    "- `dict` -> store sections <br>\n",
    "   `dict(dict(key=value))` -> store *keyword* + *value* into a `dict`\n",
    "   and store the `dict` per *section* into an other `dict`\n",
    "- `continue` in a `for` loop skips the circle"
   ]
  },
  {
   "cell_type": "markdown",
   "metadata": {},
   "source": [
    "Before we use our file, let us create some test cases. With them we can check if your logic works and we don't have to use our *complex* file."
   ]
  },
  {
   "cell_type": "code",
   "execution_count": null,
   "metadata": {
    "ExecuteTime": {
     "end_time": "2018-10-18T13:04:47.748870Z",
     "start_time": "2018-10-18T13:04:47.743453Z"
    }
   },
   "outputs": [],
   "source": [
    "test_cases = [\n",
    "    \"\", # empty\n",
    "    '  ', # empty\n",
    "    '#', # comment\n",
    "    '# more', # comment\n",
    "    ' # still a comment', # comment\n",
    "    'para1 : 1', # value\n",
    "    ' para2 : 2', # value\n",
    "    'parastring : Test: Break the system!'\n",
    "]"
   ]
  },
  {
   "cell_type": "markdown",
   "metadata": {},
   "source": [
    "Parse over the test_case."
   ]
  },
  {
   "cell_type": "code",
   "execution_count": null,
   "metadata": {
    "ExecuteTime": {
     "end_time": "2018-10-18T13:05:02.983485Z",
     "start_time": "2018-10-18T13:05:02.981097Z"
    }
   },
   "outputs": [],
   "source": [
    "for line in test_cases:\n",
    "    print('\"{}\"'.format(line))"
   ]
  },
  {
   "cell_type": "markdown",
   "metadata": {},
   "source": [
    "<div class='alert alert-block alert-info'>\n",
    "    How can we find the empty lines?\n",
    "</div>"
   ]
  },
  {
   "cell_type": "code",
   "execution_count": null,
   "metadata": {
    "ExecuteTime": {
     "end_time": "2018-10-18T13:05:35.361740Z",
     "start_time": "2018-10-18T13:05:35.359400Z"
    }
   },
   "outputs": [],
   "source": []
  },
  {
   "cell_type": "code",
   "execution_count": null,
   "metadata": {
    "ExecuteTime": {
     "end_time": "2018-10-18T13:06:00.110703Z",
     "start_time": "2018-10-18T13:06:00.100858Z"
    }
   },
   "outputs": [],
   "source": []
  },
  {
   "cell_type": "markdown",
   "metadata": {},
   "source": [
    "<div class='alert alert-block alert-info'>\n",
    "    How can we find comments?\n",
    "</div>"
   ]
  },
  {
   "cell_type": "code",
   "execution_count": null,
   "metadata": {
    "ExecuteTime": {
     "end_time": "2018-10-18T13:06:16.376878Z",
     "start_time": "2018-10-18T13:06:16.374036Z"
    }
   },
   "outputs": [],
   "source": []
  },
  {
   "cell_type": "markdown",
   "metadata": {},
   "source": [
    "<div class='alert alert-block alert-info'>\n",
    "    Can we get the values and keywords?\n",
    "</div>"
   ]
  },
  {
   "cell_type": "code",
   "execution_count": null,
   "metadata": {
    "ExecuteTime": {
     "end_time": "2018-10-18T13:06:19.471553Z",
     "start_time": "2018-10-18T13:06:19.464279Z"
    }
   },
   "outputs": [],
   "source": [
    "# as a remember how our structure looks like\n",
    "test_cases = [\n",
    "    \"\", # empty\n",
    "    '  ', # empty\n",
    "    '#', # comment\n",
    "    '# more', # comment\n",
    "    ' # still a comment', # comment\n",
    "    'para1 : 1', # value\n",
    "    ' para2 : 2', # value\n",
    "    'parastring : Test: Break the system!'\n",
    "]"
   ]
  },
  {
   "cell_type": "code",
   "execution_count": null,
   "metadata": {
    "ExecuteTime": {
     "end_time": "2018-10-18T13:06:23.370362Z",
     "start_time": "2018-10-18T13:06:23.367226Z"
    }
   },
   "outputs": [],
   "source": []
  },
  {
   "cell_type": "code",
   "execution_count": null,
   "metadata": {},
   "outputs": [],
   "source": []
  },
  {
   "cell_type": "markdown",
   "metadata": {},
   "source": [
    "<div class='alert alert-block alert-info'>\n",
    "    Let's use our file!\n",
    "</div>"
   ]
  },
  {
   "cell_type": "code",
   "execution_count": null,
   "metadata": {},
   "outputs": [],
   "source": []
  },
  {
   "cell_type": "code",
   "execution_count": null,
   "metadata": {},
   "outputs": [],
   "source": []
  },
  {
   "cell_type": "markdown",
   "metadata": {},
   "source": [
    "<div class='alert alert-block alert-info'>\n",
    "    Let's find the sections.\n",
    "</div>"
   ]
  },
  {
   "cell_type": "code",
   "execution_count": null,
   "metadata": {},
   "outputs": [],
   "source": []
  },
  {
   "cell_type": "markdown",
   "metadata": {},
   "source": [
    "<div class='alert alert-block alert-info'>\n",
    "    Let's save the values\n",
    "</div>"
   ]
  },
  {
   "cell_type": "code",
   "execution_count": null,
   "metadata": {},
   "outputs": [],
   "source": [
    "settings = {} \n",
    "section = '_all_' \n",
    "settings[section] = {} \n",
    "\n",
    "with open('config.ini', 'r') as fp:\n",
    "    for line in fp:\n",
    "        line_strip = line.strip()\n",
    "        if len(line_strip) == 0:\n",
    "            continue\n",
    "        if line_strip[0] == '#':\n",
    "            continue\n",
    "\n",
    "        # section heading\n",
    "        if line_strip[0] == '[': \n",
    "            section = line_strip[1:line_strip.find(']', -1)].strip() # get name\n",
    "            settings[section] = {}\n",
    "            continue\n",
    "        \n",
    "        # get index of :\n",
    "        ind_sep = line_strip.find(':')\n",
    "\n",
    "        # make sure every thing is formated correctly\n",
    "        assert ind_sep != -1, \"formating of the line is off\\n\"+line\n",
    "            \n",
    "        key = line_strip[:ind_sep].strip()\n",
    "        value = line_strip[ind_sep+1:].strip()\n",
    "\n",
    "        settings[section][key] = value \n",
    "settings"
   ]
  },
  {
   "cell_type": "markdown",
   "metadata": {},
   "source": [
    "Now we got a nice function to scan a `config.ini` file.\n",
    "\n",
    "For an easier use, let us store it in a function.\n",
    "\n",
    "Additionally, we can add a few lines to make remove the empty `dict` we created in the beginning.\n",
    "```python\n",
    "if len(settings['_all_']) == 0:\n",
    "   del settings['_all_']\n",
    "```"
   ]
  },
  {
   "cell_type": "markdown",
   "metadata": {},
   "source": [
    "# Put everything in a function"
   ]
  },
  {
   "cell_type": "code",
   "execution_count": null,
   "metadata": {},
   "outputs": [],
   "source": [
    "def read_settings(filename = 'config.ini'):\n",
    "    \"\"\"\n",
    "    Function to read settings\n",
    "    \"\"\"\n",
    "\n",
    "    settings = {}\n",
    "    section = '_all_'\n",
    "    settings[section] = {}\n",
    "\n",
    "    with open(filename, 'r') as fp:\n",
    "        for line in fp:\n",
    "            line_strip = line.strip()\n",
    "            if len(line_strip) == 0: continue # skip empty lines\n",
    "            if line_strip[0] == '#': continue # skip comment lines\n",
    "\n",
    "            # split line into a list\n",
    "            line_split = line_strip.split()\n",
    "\n",
    "            # section heading\n",
    "            if line_strip[0] == '[': \n",
    "                section = line_strip[1:line_strip.find(']', -1)].strip() # get name\n",
    "                settings[section] = {}\n",
    "                continue\n",
    "\n",
    "            # get index of :\n",
    "            ind_sep = line_strip.find(':')\n",
    "\n",
    "            # make sure every thing is formated correctly\n",
    "            assert ind_sep != -1, \"formating of the line is off\\n\"+line\n",
    "                \n",
    "\n",
    "            key = line_strip[:ind_sep].strip()\n",
    "            value = line_strip[ind_sep+1:].strip()\n",
    "            if value == 'False':\n",
    "                value = False\n",
    "            if value == 'True':\n",
    "                value = True\n",
    "            if value == 'None':\n",
    "                value = None\n",
    "            settings[section][key] = value\n",
    "            \n",
    "        if len(settings['_all_']) == 0:\n",
    "            del settings['_all_']\n",
    "    return settings"
   ]
  },
  {
   "cell_type": "code",
   "execution_count": null,
   "metadata": {},
   "outputs": [],
   "source": [
    "settings = read_settings(filename = 'config.ini')\n",
    "settings"
   ]
  },
  {
   "cell_type": "markdown",
   "metadata": {},
   "source": [
    "# There have to be an easier way!\n",
    "\n",
    "Let's google: [**parse config file python**](https://www.google.ch/search?q=parse+config+file+python)\n",
    "\n",
    "First hit: https://docs.python.org/3/library/configparser.html"
   ]
  },
  {
   "cell_type": "markdown",
   "metadata": {},
   "source": [
    "Let's try this"
   ]
  },
  {
   "cell_type": "code",
   "execution_count": null,
   "metadata": {},
   "outputs": [],
   "source": [
    "import configparser"
   ]
  },
  {
   "cell_type": "code",
   "execution_count": null,
   "metadata": {},
   "outputs": [],
   "source": [
    "config = configparser.ConfigParser()"
   ]
  },
  {
   "cell_type": "code",
   "execution_count": null,
   "metadata": {},
   "outputs": [],
   "source": [
    "config.sections()"
   ]
  },
  {
   "cell_type": "markdown",
   "metadata": {},
   "source": [
    "Read our config file."
   ]
  },
  {
   "cell_type": "code",
   "execution_count": null,
   "metadata": {},
   "outputs": [],
   "source": [
    "config.read('config.ini')"
   ]
  },
  {
   "cell_type": "markdown",
   "metadata": {},
   "source": [
    "Let's see its sections"
   ]
  },
  {
   "cell_type": "code",
   "execution_count": null,
   "metadata": {},
   "outputs": [],
   "source": [
    "config.sections()"
   ]
  },
  {
   "cell_type": "markdown",
   "metadata": {},
   "source": [
    "Let's parse over the parameters"
   ]
  },
  {
   "cell_type": "code",
   "execution_count": null,
   "metadata": {},
   "outputs": [],
   "source": [
    "for section in config.sections():\n",
    "    print(80*'#'+\"\\n\"+section)\n",
    "    for key, value in config[section].items():\n",
    "        print(\"{} -> {}\".format(key,value))"
   ]
  },
  {
   "cell_type": "markdown",
   "metadata": {},
   "source": [
    "### Can we remove that leading spaces?\n",
    "e.g. `' Main '` vs `'Main'` \n",
    "\n",
    "https://docs.python.org/3/library/configparser.html#configparser.SECTCRE"
   ]
  },
  {
   "cell_type": "code",
   "execution_count": null,
   "metadata": {},
   "outputs": [],
   "source": [
    "import re\n",
    "custom = configparser.ConfigParser()\n",
    "custom.SECTCRE = re.compile(r\"\\[ *(?P<header>[^]]+?) *\\]\")\n",
    "custom.read('config.ini')\n",
    "custom.sections()"
   ]
  },
  {
   "cell_type": "code",
   "execution_count": null,
   "metadata": {},
   "outputs": [],
   "source": [
    "for section in custom.sections():\n",
    "    print(80*'#'+\"\\n\"+section)\n",
    "    for key, value in custom[section].items():\n",
    "        print(\"{} -> {}\".format(key,value))"
   ]
  },
  {
   "cell_type": "code",
   "execution_count": null,
   "metadata": {},
   "outputs": [],
   "source": []
  },
  {
   "cell_type": "code",
   "execution_count": null,
   "metadata": {},
   "outputs": [],
   "source": []
  }
 ],
 "metadata": {
  "kernelspec": {
   "display_name": "Python 3",
   "language": "python",
   "name": "python3"
  },
  "language_info": {
   "codemirror_mode": {
    "name": "ipython",
    "version": 3
   },
   "file_extension": ".py",
   "mimetype": "text/x-python",
   "name": "python",
   "nbconvert_exporter": "python",
   "pygments_lexer": "ipython3",
   "version": "3.6.6"
  },
  "toc": {
   "base_numbering": 1,
   "nav_menu": {},
   "number_sections": true,
   "sideBar": true,
   "skip_h1_title": false,
   "title_cell": "Table of Contents",
   "title_sidebar": "Contents",
   "toc_cell": false,
   "toc_position": {},
   "toc_section_display": true,
   "toc_window_display": false
  }
 },
 "nbformat": 4,
 "nbformat_minor": 2
}
