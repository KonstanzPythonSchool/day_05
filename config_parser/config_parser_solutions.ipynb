{
 "cells": [
  {
   "cell_type": "markdown",
   "metadata": {},
   "source": [
    "# Info\n",
    "- [Parsing a file](#Parsing-a-file)\n",
    "    - [Parse a line for keywords](#Parse-a-line-for-keywords)"
   ]
  },
  {
   "cell_type": "markdown",
   "metadata": {},
   "source": [
    "# Parsing a file\n",
    "\n",
    "A good example how to parse a file would be writing a parser for a config file.\n",
    "\n",
    "Let's have a look at the file first: `config.ini`.\n",
    "> Open it with your textmanager of your choice or use a shell command from inside of the notebook.\n",
    "> * Linux : `!cat config.ini`\n",
    "> * Windows : `!type config.ini`\n",
    "> * Mac : `!cat config.ini` (not tested)"
   ]
  },
  {
   "cell_type": "code",
   "execution_count": 1,
   "metadata": {},
   "outputs": [
    {
     "name": "stdout",
     "output_type": "stream",
     "text": [
      "config.ini: not found\r\n"
     ]
    }
   ],
   "source": [
    "# Linux : !cat config.ini\n",
    "# Windows : !type config.ini\n",
    "# Mac ?? : !cat config.ini\n",
    "!type config.ini"
   ]
  },
  {
   "cell_type": "markdown",
   "metadata": {},
   "source": [
    "As you can see the file is easily structured.\n",
    "\n",
    "1. section is given in `[` + **section name** + `]`\n",
    "2. values are assigned in the format : `parameter` `:` `value(s)`\n",
    "3. comments seem to start with `#`"
   ]
  },
  {
   "cell_type": "markdown",
   "metadata": {},
   "source": [
    "## open a file\n",
    "**Recall**: The typical workflow is:\n",
    "1. `open` a file\n",
    "2. `read` its content or `write` something into it\n",
    "3. `close` it"
   ]
  },
  {
   "cell_type": "code",
   "execution_count": 2,
   "metadata": {},
   "outputs": [],
   "source": [
    "fp = open('config.ini')\n",
    "content = fp.read()\n",
    "fp.close()"
   ]
  },
  {
   "cell_type": "code",
   "execution_count": 3,
   "metadata": {},
   "outputs": [
    {
     "name": "stdout",
     "output_type": "stream",
     "text": [
      "[ Main ] \n",
      "path : /home/me/Documents\n",
      "Description : Python : Isn't it easy?\n",
      "\n",
      "[ Window ]\n",
      "# Information about the window\n",
      "Hight : 1000\n",
      "Width :  500\n",
      "x     :  200\n",
      "y     :  200\n",
      "\n",
      "\n",
      "[ a stupid last section ]\n",
      "alist : 10, 20, 30\n",
      "\n"
     ]
    }
   ],
   "source": [
    "print(content)"
   ]
  },
  {
   "cell_type": "markdown",
   "metadata": {},
   "source": [
    "**There has to be a better way!**"
   ]
  },
  {
   "cell_type": "markdown",
   "metadata": {},
   "source": [
    "A better way to do this is using a construct like:\n",
    "```python\n",
    "with open(\"myfile\", 'r') as fp:\n",
    "    # do stuff with fp here\n",
    "```\n",
    "In this case, everything done with the file is done here and it's closed automatically! \n",
    "\n",
    "Because this manages things automatically for you, constructs likes this are called **context manager** in python, in case you want to google it."
   ]
  },
  {
   "cell_type": "code",
   "execution_count": 4,
   "metadata": {},
   "outputs": [
    {
     "name": "stdout",
     "output_type": "stream",
     "text": [
      "[ Main ] \n",
      "path : /home/me/Documents\n",
      "Description : Python : Isn't it easy?\n",
      "\n",
      "[ Window ]\n",
      "# Information about the window\n",
      "Hight : 1000\n",
      "Width :  500\n",
      "x     :  200\n",
      "y     :  200\n",
      "\n",
      "\n",
      "[ a stupid last section ]\n",
      "alist : 10, 20, 30\n",
      "\n"
     ]
    }
   ],
   "source": [
    "#@solution\n",
    "with open('config.ini') as fp:\n",
    "    content = fp.read()\n",
    "\n",
    "print(content)"
   ]
  },
  {
   "cell_type": "markdown",
   "metadata": {},
   "source": [
    "We can even open several files and write the content of the one into the other.\n",
    "You can either call the command two time:\n",
    "```python\n",
    "with open(\"myfile\", 'r') as fp_in:\n",
    "    with open(\"myfile\", 'w') as fp_out:\n",
    " ```\n",
    "or tell the **context mangager** to handle two files for you:\n",
    "```python\n",
    "with open('config.ini', 'r') as fp_in, open('new_config.ini', 'w') as fp_out:\n",
    "```\n",
    "As you can see we also pass a second argument like\n",
    "```python\n",
    "'r', 'w', 'a', 'rb', 'wb', 'ab'\n",
    "```\n",
    "to the `open` function. This stands for **r**ead, **w**rite, **a**ppend, **b**inary."
   ]
  },
  {
   "cell_type": "code",
   "execution_count": 5,
   "metadata": {},
   "outputs": [],
   "source": [
    "#@solution\n",
    "with open('config.ini', 'r') as fp, open('new_config.ini', 'w') as out:\n",
    "    # copy read file1 -> write it to file2\n",
    "    for line in fp.readlines():\n",
    "        out.write(line)\n",
    "    # write something new to it\n",
    "    out.write('new : test\\n')"
   ]
  },
  {
   "cell_type": "markdown",
   "metadata": {},
   "source": [
    "Let us check if everything worked."
   ]
  },
  {
   "cell_type": "code",
   "execution_count": 6,
   "metadata": {},
   "outputs": [
    {
     "name": "stdout",
     "output_type": "stream",
     "text": [
      "[ Main ] \n",
      "path : /home/me/Documents\n",
      "Description : Python : Isn't it easy?\n",
      "\n",
      "[ Window ]\n",
      "# Information about the window\n",
      "Hight : 1000\n",
      "Width :  500\n",
      "x     :  200\n",
      "y     :  200\n",
      "\n",
      "\n",
      "[ a stupid last section ]\n",
      "alist : 10, 20, 30\n",
      "new : test\n"
     ]
    }
   ],
   "source": [
    "with open('new_config.ini', 'r') as fp:\n",
    "    line = True\n",
    "    while line:\n",
    "        line = fp.readline()\n",
    "        print(line, end='')        "
   ]
  },
  {
   "cell_type": "markdown",
   "metadata": {},
   "source": [
    "## Parse a line for keywords\n",
    "Now, we only want to have our keywords for the given sections.\n",
    "Let's try to extract them.\n",
    "What should we do?\n",
    "\n",
    "1. Throw a way empty lines\n",
    "2. Ignore comments\n",
    "3. find out which section we are\n",
    "4. if we have a parameter line, find the parameter name and the value\n",
    "5. store it in some convenient way"
   ]
  },
  {
   "cell_type": "markdown",
   "metadata": {},
   "source": [
    "**Tools we have**\n",
    "- `dict` -> store sections <br>\n",
    "   `dict(dict(key=value))` -> store *keyword* + *value* into a `dict`\n",
    "   and store the `dict` per *section* into an other `dict`\n",
    "- `continue` in a `for` loop skips the circle"
   ]
  },
  {
   "cell_type": "markdown",
   "metadata": {},
   "source": [
    "Before we use our file, let us create some test cases. With them we can check if your logic works and we don't have to use our *complex* file."
   ]
  },
  {
   "cell_type": "code",
   "execution_count": 7,
   "metadata": {
    "ExecuteTime": {
     "end_time": "2018-10-18T13:04:47.748870Z",
     "start_time": "2018-10-18T13:04:47.743453Z"
    }
   },
   "outputs": [],
   "source": [
    "test_cases = [\n",
    "    \"\", # empty\n",
    "    '  ', # empty\n",
    "    '#', # comment\n",
    "    '# more', # comment\n",
    "    ' # still a comment', # comment\n",
    "    'para1 : 1', # value\n",
    "    ' para2 : 2', # value\n",
    "    'parastring : Test: Break the system!'\n",
    "]"
   ]
  },
  {
   "cell_type": "markdown",
   "metadata": {},
   "source": [
    "Parse over the test_case."
   ]
  },
  {
   "cell_type": "code",
   "execution_count": 8,
   "metadata": {
    "ExecuteTime": {
     "end_time": "2018-10-18T13:05:02.983485Z",
     "start_time": "2018-10-18T13:05:02.981097Z"
    }
   },
   "outputs": [
    {
     "name": "stdout",
     "output_type": "stream",
     "text": [
      "\"\"\n",
      "\"  \"\n",
      "\"#\"\n",
      "\"# more\"\n",
      "\" # still a comment\"\n",
      "\"para1 : 1\"\n",
      "\" para2 : 2\"\n",
      "\"parastring : Test: Break the system!\"\n"
     ]
    }
   ],
   "source": [
    "for line in test_cases:\n",
    "    print('\"{}\"'.format(line))"
   ]
  },
  {
   "cell_type": "markdown",
   "metadata": {},
   "source": [
    "<div class='alert alert-block alert-info'>\n",
    "    How can we find the empty lines?\n",
    "</div>"
   ]
  },
  {
   "cell_type": "markdown",
   "metadata": {},
   "source": [
    "`.strip()` will strip the line by `blanks` and `\\n`."
   ]
  },
  {
   "cell_type": "code",
   "execution_count": 9,
   "metadata": {
    "ExecuteTime": {
     "end_time": "2018-10-18T13:05:35.361740Z",
     "start_time": "2018-10-18T13:05:35.359400Z"
    }
   },
   "outputs": [
    {
     "name": "stdout",
     "output_type": "stream",
     "text": [
      "\"  \"\n",
      "\"#\"\n",
      "\"# more\"\n",
      "\" # still a comment\"\n",
      "\"para1 : 1\"\n",
      "\" para2 : 2\"\n",
      "\"parastring : Test: Break the system!\"\n"
     ]
    }
   ],
   "source": [
    "#@solution\n",
    "for line in test_cases:\n",
    "    if len(line) == 0:\n",
    "        continue\n",
    "    print('\"{}\"'.format(line))"
   ]
  },
  {
   "cell_type": "markdown",
   "metadata": {},
   "source": [
    "As you can see this still leaves empty lines with blanks"
   ]
  },
  {
   "cell_type": "code",
   "execution_count": 10,
   "metadata": {
    "ExecuteTime": {
     "end_time": "2018-10-18T13:06:00.110703Z",
     "start_time": "2018-10-18T13:06:00.100858Z"
    }
   },
   "outputs": [
    {
     "name": "stdout",
     "output_type": "stream",
     "text": [
      "\"#\"\n",
      "\"# more\"\n",
      "\" # still a comment\"\n",
      "\"para1 : 1\"\n",
      "\" para2 : 2\"\n",
      "\"parastring : Test: Break the system!\"\n"
     ]
    }
   ],
   "source": [
    "#@solution\n",
    "for line in test_cases:\n",
    "    line_strip = line.strip()\n",
    "    if len(line_strip) == 0:\n",
    "        continue\n",
    "    print('\"{}\"'.format(line))"
   ]
  },
  {
   "cell_type": "markdown",
   "metadata": {},
   "source": [
    "<div class='alert alert-block alert-info'>\n",
    "    How can we find comments?\n",
    "</div>"
   ]
  },
  {
   "cell_type": "markdown",
   "metadata": {},
   "source": [
    "The first character of the line is a `#`, so check if it's there."
   ]
  },
  {
   "cell_type": "code",
   "execution_count": 11,
   "metadata": {
    "ExecuteTime": {
     "end_time": "2018-10-18T13:06:16.376878Z",
     "start_time": "2018-10-18T13:06:16.374036Z"
    }
   },
   "outputs": [
    {
     "name": "stdout",
     "output_type": "stream",
     "text": [
      "\"para1 : 1\"\n",
      "\" para2 : 2\"\n",
      "\"parastring : Test: Break the system!\"\n"
     ]
    }
   ],
   "source": [
    "#@solution\n",
    "for line in test_cases:\n",
    "    line_strip = line.strip()\n",
    "    if len(line_strip) == 0:\n",
    "        continue\n",
    "    if line_strip[0] == '#':\n",
    "        continue\n",
    "    print('\"{}\"'.format(line))"
   ]
  },
  {
   "cell_type": "markdown",
   "metadata": {},
   "source": [
    "<div class='alert alert-block alert-info'>\n",
    "    Can we get the values and keywords?\n",
    "</div>"
   ]
  },
  {
   "cell_type": "code",
   "execution_count": 12,
   "metadata": {
    "ExecuteTime": {
     "end_time": "2018-10-18T13:06:19.471553Z",
     "start_time": "2018-10-18T13:06:19.464279Z"
    }
   },
   "outputs": [],
   "source": [
    "# as a remember how our structure looks like\n",
    "test_cases = [\n",
    "    \"\", # empty\n",
    "    '  ', # empty\n",
    "    '#', # comment\n",
    "    '# more', # comment\n",
    "    ' # still a comment', # comment\n",
    "    'para1 : 1', # value\n",
    "    ' para2 : 2', # value\n",
    "    'parastring : Test: Break the system!'\n",
    "]"
   ]
  },
  {
   "cell_type": "markdown",
   "metadata": {},
   "source": [
    "Let's try `.split(\":\")`"
   ]
  },
  {
   "cell_type": "code",
   "execution_count": 13,
   "metadata": {
    "ExecuteTime": {
     "end_time": "2018-10-18T13:06:23.370362Z",
     "start_time": "2018-10-18T13:06:23.367226Z"
    }
   },
   "outputs": [
    {
     "name": "stdout",
     "output_type": "stream",
     "text": [
      "para1  ->  1\n",
      "para2  ->  2\n",
      "parastring  ->  Test\n"
     ]
    }
   ],
   "source": [
    "#@solution\n",
    "for line in test_cases:\n",
    "    line_strip = line.strip()\n",
    "    if len(line_strip) == 0:\n",
    "        continue\n",
    "    if line_strip[0] == '#':\n",
    "        continue\n",
    "    line_split = line_strip.split(\":\")\n",
    "    key = line_split[0]\n",
    "    value = line_split[1]\n",
    "    \n",
    "    print(\"{} -> {}\".format(key, value))"
   ]
  },
  {
   "cell_type": "markdown",
   "metadata": {},
   "source": [
    "Let's try `.find(\":\")`"
   ]
  },
  {
   "cell_type": "code",
   "execution_count": 14,
   "metadata": {},
   "outputs": [
    {
     "name": "stdout",
     "output_type": "stream",
     "text": [
      "para1 -> 1\n",
      "para2 -> 2\n",
      "parastring -> Test: Break the system!\n"
     ]
    }
   ],
   "source": [
    "#@solution\n",
    "for line in test_cases:\n",
    "    line_strip = line.strip()\n",
    "    if len(line_strip) == 0:\n",
    "        continue\n",
    "    if line_strip[0] == '#':\n",
    "        continue\n",
    "    \n",
    "    # get index of :\n",
    "    ind_sep = line_strip.index(':')\n",
    "\n",
    "    key = line_strip[:ind_sep].strip()\n",
    "    value = line_strip[ind_sep+1:].strip()\n",
    "    \n",
    "    print(\"{} -> {}\".format(key, value))"
   ]
  },
  {
   "cell_type": "markdown",
   "metadata": {},
   "source": [
    "<div class='alert alert-block alert-info'>\n",
    "    Let's use our file!\n",
    "</div>"
   ]
  },
  {
   "cell_type": "code",
   "execution_count": 15,
   "metadata": {},
   "outputs": [
    {
     "name": "stdout",
     "output_type": "stream",
     "text": [
      "[ Main -> [ Main ]\n",
      "path -> /home/me/Documents\n",
      "Description -> Python : Isn't it easy?\n",
      "[ Window -> [ Window ]\n",
      "Hight -> 1000\n",
      "Width -> 500\n",
      "x -> 200\n",
      "y -> 200\n",
      "[ a stupid last section -> [ a stupid last section ]\n",
      "alist -> 10, 20, 30\n"
     ]
    }
   ],
   "source": [
    "#@solution\n",
    "with open('config.ini', 'r') as fp:\n",
    "    for line in fp:\n",
    "        line_strip = line.strip()\n",
    "        if len(line_strip) == 0:\n",
    "            continue\n",
    "        if line_strip[0] == '#':\n",
    "            continue\n",
    "\n",
    "        # get index of :\n",
    "        ind_sep = line_strip.find(':')\n",
    "\n",
    "        key = line_strip[:ind_sep].strip()\n",
    "        value = line_strip[ind_sep+1:].strip()\n",
    "\n",
    "        print(\"{} -> {}\".format(key, value))"
   ]
  },
  {
   "cell_type": "markdown",
   "metadata": {},
   "source": [
    "Things seem to work, but we also got the sections.\n",
    "Let's make sure that it breaks if its not a `parameter : value`.\n",
    "\n",
    "Therefore, we use a construct call `assert`, which will throw an error as soon as the given condition no longer holds `True`.\n",
    "```python\n",
    "assert condition == True, \"My error Message which tells me whats wrong\"\n",
    "```\n",
    "\n",
    "This is a convenient way to make sure, that things will only work if they are structured the way you thought they should be. Otherwise, you maybe run later in an error and have to find out way things break a way later in your script."
   ]
  },
  {
   "cell_type": "code",
   "execution_count": 16,
   "metadata": {},
   "outputs": [
    {
     "ename": "AssertionError",
     "evalue": "formating of the line is off\n[ Main ] \n",
     "output_type": "error",
     "traceback": [
      "\u001b[0;31m---------------------------------------------------------------------------\u001b[0m",
      "\u001b[0;31mAssertionError\u001b[0m                            Traceback (most recent call last)",
      "\u001b[0;32m<ipython-input-16-7cedee4e1212>\u001b[0m in \u001b[0;36m<module>\u001b[0;34m()\u001b[0m\n\u001b[1;32m     12\u001b[0m \u001b[0;34m\u001b[0m\u001b[0m\n\u001b[1;32m     13\u001b[0m         \u001b[0;31m# make sure every thing is formated correctly\u001b[0m\u001b[0;34m\u001b[0m\u001b[0;34m\u001b[0m\u001b[0m\n\u001b[0;32m---> 14\u001b[0;31m         \u001b[0;32massert\u001b[0m \u001b[0mind_sep\u001b[0m \u001b[0;34m!=\u001b[0m \u001b[0;34m-\u001b[0m\u001b[0;36m1\u001b[0m\u001b[0;34m,\u001b[0m \u001b[0;34m\"formating of the line is off\\n\"\u001b[0m\u001b[0;34m+\u001b[0m\u001b[0mline\u001b[0m\u001b[0;34m\u001b[0m\u001b[0m\n\u001b[0m\u001b[1;32m     15\u001b[0m \u001b[0;34m\u001b[0m\u001b[0m\n\u001b[1;32m     16\u001b[0m         \u001b[0mkey\u001b[0m \u001b[0;34m=\u001b[0m \u001b[0mline_strip\u001b[0m\u001b[0;34m[\u001b[0m\u001b[0;34m:\u001b[0m\u001b[0mind_sep\u001b[0m\u001b[0;34m]\u001b[0m\u001b[0;34m.\u001b[0m\u001b[0mstrip\u001b[0m\u001b[0;34m(\u001b[0m\u001b[0;34m)\u001b[0m\u001b[0;34m\u001b[0m\u001b[0m\n",
      "\u001b[0;31mAssertionError\u001b[0m: formating of the line is off\n[ Main ] \n"
     ]
    }
   ],
   "source": [
    "#@solution\n",
    "with open('config.ini', 'r') as fp:\n",
    "    for line in fp:\n",
    "        line_strip = line.strip()\n",
    "        if len(line_strip) == 0:\n",
    "            continue\n",
    "        if line_strip[0] == '#':\n",
    "            continue\n",
    "\n",
    "        # get index of :\n",
    "        ind_sep = line_strip.find(':')\n",
    "\n",
    "        # make sure every thing is formated correctly\n",
    "        assert ind_sep != -1, \"formating of the line is off\\n\"+line\n",
    "            \n",
    "        key = line_strip[:ind_sep].strip()\n",
    "        value = line_strip[ind_sep+1:].strip()\n",
    "\n",
    "        print(\"{} -> {}\".format(key, value))"
   ]
  },
  {
   "cell_type": "markdown",
   "metadata": {},
   "source": [
    "<div class='alert alert-block alert-info'>\n",
    "    Let's find the sections.\n",
    "</div>"
   ]
  },
  {
   "cell_type": "code",
   "execution_count": 17,
   "metadata": {},
   "outputs": [
    {
     "name": "stdout",
     "output_type": "stream",
     "text": [
      "path -> /home/me/Documents\n",
      "Description -> Python : Isn't it easy?\n",
      "Hight -> 1000\n",
      "Width -> 500\n",
      "x -> 200\n",
      "y -> 200\n",
      "alist -> 10, 20, 30\n"
     ]
    }
   ],
   "source": [
    "#@solution\n",
    "with open('config.ini', 'r') as fp:\n",
    "    for line in fp:\n",
    "        line_strip = line.strip()\n",
    "        if len(line_strip) == 0:\n",
    "            continue\n",
    "        if line_strip[0] == '#':\n",
    "            continue\n",
    "\n",
    "        # section heading\n",
    "        if line_strip[0] == '[': \n",
    "            section = line_strip[1:line_strip.find(']', -1)].strip() # get name\n",
    "            continue\n",
    "        \n",
    "        # get index of :\n",
    "        ind_sep = line_strip.find(':')\n",
    "\n",
    "        # make sure every thing is formated correctly\n",
    "        assert ind_sep != -1, \"formating of the line is off\\n\"+line\n",
    "            \n",
    "        key = line_strip[:ind_sep].strip()\n",
    "        value = line_strip[ind_sep+1:].strip()\n",
    "\n",
    "        print(\"{} -> {}\".format(key, value))"
   ]
  },
  {
   "cell_type": "markdown",
   "metadata": {},
   "source": [
    "<div class='alert alert-block alert-info'>\n",
    "    Let's save the values\n",
    "</div>"
   ]
  },
  {
   "cell_type": "markdown",
   "metadata": {},
   "source": [
    "Let's use a `dict` for it with key = `section_name`.\n",
    "\n",
    "The value of each `section_name` will be another `dict` but this time with key = `key` from the settings and value = `setting`.\n",
    "\n",
    "We have to make sure that we also handle things outside of a section.\n",
    "Let's define a dummy section `_all_` where we can put things in if they don't belong to a section."
   ]
  },
  {
   "cell_type": "code",
   "execution_count": 18,
   "metadata": {},
   "outputs": [
    {
     "data": {
      "text/plain": [
       "{'_all_': {},\n",
       " 'Main': {'path': '/home/me/Documents',\n",
       "  'Description': \"Python : Isn't it easy?\"},\n",
       " 'Window': {'Hight': '1000', 'Width': '500', 'x': '200', 'y': '200'},\n",
       " 'a stupid last section': {'alist': '10, 20, 30'}}"
      ]
     },
     "execution_count": 18,
     "metadata": {},
     "output_type": "execute_result"
    }
   ],
   "source": [
    "settings = {} \n",
    "section = '_all_' \n",
    "settings[section] = {} \n",
    "\n",
    "with open('config.ini', 'r') as fp:\n",
    "    for line in fp:\n",
    "        line_strip = line.strip()\n",
    "        if len(line_strip) == 0:\n",
    "            continue\n",
    "        if line_strip[0] == '#':\n",
    "            continue\n",
    "\n",
    "        # section heading\n",
    "        if line_strip[0] == '[': \n",
    "            section = line_strip[1:line_strip.find(']', -1)].strip() # get name\n",
    "            settings[section] = {}\n",
    "            continue\n",
    "        \n",
    "        # get index of :\n",
    "        ind_sep = line_strip.find(':')\n",
    "\n",
    "        # make sure every thing is formated correctly\n",
    "        assert ind_sep != -1, \"formating of the line is off\\n\"+line\n",
    "            \n",
    "        key = line_strip[:ind_sep].strip()\n",
    "        value = line_strip[ind_sep+1:].strip()\n",
    "\n",
    "        settings[section][key] = value \n",
    "settings"
   ]
  },
  {
   "cell_type": "markdown",
   "metadata": {},
   "source": [
    "Now we got a nice function to scan a `config.ini` file.\n",
    "\n",
    "For an easier use, let us store it in a function.\n",
    "\n",
    "Additionally, we can add a few lines to make remove the empty `dict` we created in the beginning.\n",
    "```python\n",
    "if len(settings['_all_']) == 0:\n",
    "   del settings['_all_']\n",
    "```"
   ]
  },
  {
   "cell_type": "markdown",
   "metadata": {},
   "source": [
    "# Put everything in a function"
   ]
  },
  {
   "cell_type": "code",
   "execution_count": 19,
   "metadata": {},
   "outputs": [],
   "source": [
    "def read_settings(filename = 'config.ini'):\n",
    "    \"\"\"\n",
    "    Function to read settings\n",
    "    \"\"\"\n",
    "\n",
    "    settings = {}\n",
    "    section = '_all_'\n",
    "    settings[section] = {}\n",
    "\n",
    "    with open(filename, 'r') as fp:\n",
    "        for line in fp:\n",
    "            line_strip = line.strip()\n",
    "            if len(line_strip) == 0: continue # skip empty lines\n",
    "            if line_strip[0] == '#': continue # skip comment lines\n",
    "\n",
    "            # split line into a list\n",
    "            line_split = line_strip.split()\n",
    "\n",
    "            # section heading\n",
    "            if line_strip[0] == '[': \n",
    "                section = line_strip[1:line_strip.find(']', -1)].strip() # get name\n",
    "                settings[section] = {}\n",
    "                continue\n",
    "\n",
    "            # get index of :\n",
    "            ind_sep = line_strip.find(':')\n",
    "\n",
    "            # make sure every thing is formated correctly\n",
    "            assert ind_sep != -1, \"formating of the line is off\\n\"+line\n",
    "                \n",
    "\n",
    "            key = line_strip[:ind_sep].strip()\n",
    "            value = line_strip[ind_sep+1:].strip()\n",
    "            if value == 'False':\n",
    "                value = False\n",
    "            if value == 'True':\n",
    "                value = True\n",
    "            if value == 'None':\n",
    "                value = None\n",
    "            settings[section][key] = value\n",
    "            \n",
    "        if len(settings['_all_']) == 0:\n",
    "            del settings['_all_']\n",
    "    return settings"
   ]
  },
  {
   "cell_type": "code",
   "execution_count": 20,
   "metadata": {},
   "outputs": [
    {
     "data": {
      "text/plain": [
       "{'Main': {'path': '/home/me/Documents',\n",
       "  'Description': \"Python : Isn't it easy?\"},\n",
       " 'Window': {'Hight': '1000', 'Width': '500', 'x': '200', 'y': '200'},\n",
       " 'a stupid last section': {'alist': '10, 20, 30'}}"
      ]
     },
     "execution_count": 20,
     "metadata": {},
     "output_type": "execute_result"
    }
   ],
   "source": [
    "settings = read_settings(filename = 'config.ini')\n",
    "settings"
   ]
  },
  {
   "cell_type": "markdown",
   "metadata": {},
   "source": [
    "# There have to be an easier way!\n",
    "\n",
    "Let's google: [**parse config file python**](https://www.google.ch/search?q=parse+config+file+python)\n",
    "\n",
    "First hit: https://docs.python.org/3/library/configparser.html"
   ]
  },
  {
   "cell_type": "markdown",
   "metadata": {},
   "source": [
    "Let's try this"
   ]
  },
  {
   "cell_type": "code",
   "execution_count": 21,
   "metadata": {},
   "outputs": [],
   "source": [
    "import configparser"
   ]
  },
  {
   "cell_type": "code",
   "execution_count": 22,
   "metadata": {},
   "outputs": [],
   "source": [
    "config = configparser.ConfigParser()"
   ]
  },
  {
   "cell_type": "code",
   "execution_count": 23,
   "metadata": {},
   "outputs": [
    {
     "data": {
      "text/plain": [
       "[]"
      ]
     },
     "execution_count": 23,
     "metadata": {},
     "output_type": "execute_result"
    }
   ],
   "source": [
    "config.sections()"
   ]
  },
  {
   "cell_type": "markdown",
   "metadata": {},
   "source": [
    "Read our config file."
   ]
  },
  {
   "cell_type": "code",
   "execution_count": 24,
   "metadata": {},
   "outputs": [
    {
     "data": {
      "text/plain": [
       "['config.ini']"
      ]
     },
     "execution_count": 24,
     "metadata": {},
     "output_type": "execute_result"
    }
   ],
   "source": [
    "config.read('config.ini')"
   ]
  },
  {
   "cell_type": "markdown",
   "metadata": {},
   "source": [
    "Let's see its sections"
   ]
  },
  {
   "cell_type": "code",
   "execution_count": 25,
   "metadata": {},
   "outputs": [
    {
     "data": {
      "text/plain": [
       "[' Main ', ' Window ', ' a stupid last section ']"
      ]
     },
     "execution_count": 25,
     "metadata": {},
     "output_type": "execute_result"
    }
   ],
   "source": [
    "config.sections()"
   ]
  },
  {
   "cell_type": "markdown",
   "metadata": {},
   "source": [
    "Let's parse over the parameters"
   ]
  },
  {
   "cell_type": "code",
   "execution_count": 26,
   "metadata": {},
   "outputs": [
    {
     "name": "stdout",
     "output_type": "stream",
     "text": [
      "################################################################################\n",
      " Main \n",
      "path -> /home/me/Documents\n",
      "description -> Python : Isn't it easy?\n",
      "################################################################################\n",
      " Window \n",
      "hight -> 1000\n",
      "width -> 500\n",
      "x -> 200\n",
      "y -> 200\n",
      "################################################################################\n",
      " a stupid last section \n",
      "alist -> 10, 20, 30\n"
     ]
    }
   ],
   "source": [
    "for section in config.sections():\n",
    "    print(80*'#'+\"\\n\"+section)\n",
    "    for key, value in config[section].items():\n",
    "        print(\"{} -> {}\".format(key,value))"
   ]
  },
  {
   "cell_type": "markdown",
   "metadata": {},
   "source": [
    "### Can we remove that leading spaces?\n",
    "e.g. `' Main '` vs `'Main'` \n",
    "\n",
    "https://docs.python.org/3/library/configparser.html#configparser.SECTCRE"
   ]
  },
  {
   "cell_type": "code",
   "execution_count": 27,
   "metadata": {},
   "outputs": [
    {
     "data": {
      "text/plain": [
       "['Main', 'Window', 'a stupid last section']"
      ]
     },
     "execution_count": 27,
     "metadata": {},
     "output_type": "execute_result"
    }
   ],
   "source": [
    "import re\n",
    "custom = configparser.ConfigParser()\n",
    "custom.SECTCRE = re.compile(r\"\\[ *(?P<header>[^]]+?) *\\]\")\n",
    "custom.read('config.ini')\n",
    "custom.sections()"
   ]
  },
  {
   "cell_type": "code",
   "execution_count": 28,
   "metadata": {},
   "outputs": [
    {
     "name": "stdout",
     "output_type": "stream",
     "text": [
      "################################################################################\n",
      "Main\n",
      "path -> /home/me/Documents\n",
      "description -> Python : Isn't it easy?\n",
      "################################################################################\n",
      "Window\n",
      "hight -> 1000\n",
      "width -> 500\n",
      "x -> 200\n",
      "y -> 200\n",
      "################################################################################\n",
      "a stupid last section\n",
      "alist -> 10, 20, 30\n"
     ]
    }
   ],
   "source": [
    "for section in custom.sections():\n",
    "    print(80*'#'+\"\\n\"+section)\n",
    "    for key, value in custom[section].items():\n",
    "        print(\"{} -> {}\".format(key,value))"
   ]
  },
  {
   "cell_type": "code",
   "execution_count": 29,
   "metadata": {},
   "outputs": [],
   "source": []
  },
  {
   "cell_type": "code",
   "execution_count": 29,
   "metadata": {},
   "outputs": [],
   "source": []
  }
 ],
 "metadata": {
  "kernelspec": {
   "display_name": "Python 3",
   "language": "python",
   "name": "python3"
  },
  "language_info": {
   "codemirror_mode": {
    "name": "ipython",
    "version": 3
   },
   "file_extension": ".py",
   "mimetype": "text/x-python",
   "name": "python",
   "nbconvert_exporter": "python",
   "pygments_lexer": "ipython3",
   "version": "3.6.6"
  },
  "toc": {
   "base_numbering": 1,
   "nav_menu": {},
   "number_sections": true,
   "sideBar": true,
   "skip_h1_title": false,
   "title_cell": "Table of Contents",
   "title_sidebar": "Contents",
   "toc_cell": false,
   "toc_position": {},
   "toc_section_display": true,
   "toc_window_display": false
  }
 },
 "nbformat": 4,
 "nbformat_minor": 2
}
