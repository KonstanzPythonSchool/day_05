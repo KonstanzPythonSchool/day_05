{
 "cells": [
  {
   "cell_type": "markdown",
   "metadata": {},
   "source": [
    " ## What is a REST API ?\n",
    " \n",
    " **REST** is an acronym for **RE**presentational **S**tate **T**ransfer, **API** **A**pplication **P**rogramming **I**nterface.\n",
    " \n",
    "This means its an interface with a certain architecture that allows the communication between a **client** and a **server**, e.g. *you* with a *database* or a *user* with *your database*.\n",
    "\n",
    "The REST architectural style were originally communicated by Roy Fielding in his doctoral dissertation (see https://www.ics.uci.edu/~fielding/pubs/dissertation/rest_arch_style.htm).\n",
    "\n",
    "If you want to learn more about:\n",
    "* [What Is REST?](https://www.restapitutorial.com/lessons/whatisrest.html#)\n",
    "* [Was ist eine REST API](https://www.cloudcomputing-insider.de/was-ist-eine-rest-api-a-611116/) (german)\n",
    "\n",
    "As you may imagine this is an important way to automatically get data from servers or distribute data.\n",
    "\n",
    "It normally can handle **requests** of the type\n",
    "* **GET** - request data from the server\n",
    "* **POST** - sends data to the server\n",
    "* **PUT / PATCH** - changes data on the server\n",
    "* **DELETE** - deletes existing data on the server"
   ]
  },
  {
   "cell_type": "markdown",
   "metadata": {},
   "source": [
    "The easiest way is to learn how to get data from a REST API is when we build a rest server and then try to get data from it.\n",
    "\n",
    "This way, you have access to the datastructure of the server. In normal cases, you will have to read the documentation of the database / website how to use their REST api. Namingly how to fill in **requests**.\n",
    "\n",
    "This can sometimes be a bit of a try and error game. If you are lucky you will find a written REST-API in `python` for our database of choice and just have to learn how to use their `python module`"
   ]
  },
  {
   "cell_type": "markdown",
   "metadata": {},
   "source": [
    "An easy way to build a server with a **REST API** in python is to use the module `flask_restful`.\n",
    "\n",
    "With:\n",
    "```python\n",
    "from flask import Flask\n",
    "```\n",
    "we have a package to easily create a server.\n",
    "\n",
    "With:\n",
    "```python\n",
    "from flask_restful  import Api, Resource, reqparse\n",
    "```\n",
    "we get all tools to build a own API.\n",
    "\n",
    "An example api is provided in the file `rest_api/app.py`.\n",
    "\n",
    "If you want you can later have a look into the file how such a server is setup up.\n",
    "Today, we will only use this server."
   ]
  },
  {
   "cell_type": "markdown",
   "metadata": {},
   "source": [
    "# Our REST - server (`app.py`)\n",
    "Here we have created a server that should provide some data for some users:\n",
    "## Data\n",
    "```python\n",
    "users = [\n",
    "    {\n",
    "        'name' : 'Nicholas',\n",
    "        'age' : 42,\n",
    "        'occupation' : 'Network Engineer'\n",
    "    },\n",
    "    {\n",
    "        'name' : \"Elvin\",\n",
    "        'age' : 32,\n",
    "        'occupation' : 'Doctor'\n",
    "    },\n",
    "    {\n",
    "        'name' : \"Jass\",\n",
    "        'age' : 22,\n",
    "        'occupation' : 'Web Developer'\n",
    "    },\n",
    "]\n",
    "```\n",
    "\n",
    "## Methods \n",
    "We have implemented the different methods in the format:\n",
    "```python\n",
    "return information, exitcode\n",
    "```\n",
    "* `information` : the information transfered\n",
    "* `exitcode` : some integer number that gives the status of the request\n",
    "\n",
    "### specific user\n",
    "\n",
    "Interface: `/user/<string:name>`\n",
    "* **GET**: returns the information about the user <br>\n",
    "exitcode\n",
    "    * `200` OK, user found\n",
    "    * `404` user not found\n",
    "* **POST**: create a new user <br>\n",
    "exitcode\n",
    "    * `201` user created\n",
    "    * `400` user already exists\n",
    "* **PUT**: updates user information or creates one if not exists <br>\n",
    "exitcode\n",
    "    * `200` OK, updated\n",
    "    * `401` user created\n",
    "* **DELETE**: deletes a user <br>\n",
    "exitcode\n",
    "    * `200` OK, user deleted\n",
    "\n",
    "\n",
    "### all users\n",
    "\n",
    "Interface: `/user/`\n",
    "* **GET**: returns a list of all users <br>\n",
    "exitcode\n",
    "    * `200` OK\n",
    " * **DELETE**: deletes a user <br>\n",
    "exitcode\n",
    "    * `200` All users deleted"
   ]
  },
  {
   "cell_type": "markdown",
   "metadata": {},
   "source": [
    "## Let us begin"
   ]
  },
  {
   "cell_type": "markdown",
   "metadata": {},
   "source": [
    "## Start the server"
   ]
  },
  {
   "cell_type": "markdown",
   "metadata": {},
   "source": [
    "First we need to have the server running.\n",
    "Therefor, we now navigate into the `rest_api` in our `jupyter-notebook` interface.\n",
    "* e.g. by right clicking on the **jupyter** logo on the top left corner and open in a new tab.\n",
    "\n",
    "Now, we click on `New` (top right) and select `Terminal` (under *other*).\n",
    "* if everything worked you should now be in the folder where the `app.py` file is.\n",
    "* **Note**: if you are not there navigate there with `cd FOLDERNAME`\n",
    "\n",
    "Type `python app.py` in the terminal to run the python script.\n",
    "\n",
    "It should run now an give you an output like:\n",
    "<div style='background:black; color:white'>\n",
    "\n",
    " \\* Serving Flask app \"app\" (lazy loading) <br>\n",
    " \\* Environment: production <br>\n",
    " <span style='color:red'>WARNING: Do not use the development server in a production environment.</span> <br>\n",
    "   Use a production WSGI server instead.\n",
    " \\* Debug mode: on <br>\n",
    " \\* Running on http://127.0.0.1:5000/ (Press CTRL+C to quit) <br>\n",
    " \\* Restarting with stat <br>\n",
    " \\* Debugger is active! <br>\n",
    " \\* Debugger PIN: 374-630-348 <br>\n",
    "</div>\n",
    "\n",
    "Here you can see that the server is running on address: `http://127.0.0.1:5000/`"
   ]
  },
  {
   "cell_type": "markdown",
   "metadata": {},
   "source": [
    "Or open a new jupyter-notebook.\n",
    "and type\n",
    "```python\n",
    "%run app.py\n",
    "```\n",
    "in a cell."
   ]
  },
  {
   "cell_type": "markdown",
   "metadata": {},
   "source": [
    "## Test the server with insomia\n",
    "There are several methods to test now our REST interface. The easiest method to get to a hand on REST is\n",
    "to a use a program like [**insomnia**](https://insomnia.rest/).\n",
    "Here you can easily click and test different requests to your REST - API.\n",
    "\n",
    "We now have a look into it.\n",
    "\n",
    "### Insomnia\n",
    "![picture of insomnia](./insomnia/01_insomnia.png)"
   ]
  },
  {
   "cell_type": "markdown",
   "metadata": {},
   "source": [
    "### Create a new GET request\n",
    "![02_get_request](./insomnia/02_get_request.png)\n",
    "\n",
    "### add our address and interface\n",
    "**address** : `http://127.0.0.1:5000/`\n",
    "\n",
    "**interface** : `/user/<string:name>`\n",
    "\n",
    "**user** : `Nicholas`\n",
    "=> `http://127.0.0.1:5000/user/Nicholas`\n",
    "![03_get_request_1.](./insomnia/03_get_request_1.png)\n",
    "\n",
    "if we now `send` the request we get back our exitcode: `200` **OK** and the information about `Nicholas`\n",
    "```json\n",
    "{\n",
    "\t\"age\": 42,\n",
    "\t\"name\": \"Nicholas\",\n",
    "\t\"occupation\": \"Network Engineer\"\n",
    "}\n",
    "```\n",
    "For not existing users we will get `404` **NOT FOUND**."
   ]
  },
  {
   "cell_type": "markdown",
   "metadata": {},
   "source": [
    "### Create a new POST request\n",
    "\n",
    "\n",
    "<div class=\"alert alert-block alert-danger\">\n",
    "<b>We choose Multipart as option!!</b>\n",
    "</div>\n",
    "\n",
    "![04_post_request_1](./insomnia/04_post_request_1.png)\n",
    "**address** : `http://127.0.0.1:5000/`\n",
    "\n",
    "**interface** : `/user/<string:name>`\n",
    "\n",
    "**user** : `Micha`\n",
    "=> `http://127.0.0.1:5000/user/Micha`\n",
    "\n",
    "![04_post_request_2](./insomnia/04_post_request_2.png)\n",
    "\n",
    "<div class=\"alert alert-block alert-danger\">\n",
    "<b>Note</b>: the field name is optional since the name in the address bar will be used!\n",
    "</div>\n",
    "\n",
    "\n",
    "We can see that insomnia automatically creates a POST request in the JSON format (similar to a `dict` in python) as shown below:\n",
    "```json\n",
    "{\n",
    "\t\"age\": \"28\",\n",
    "\t\"name\": \"Micha\",\n",
    "\t\"occupation\": \"PhD Student\"\n",
    "}\n",
    "```\n",
    "This information is `send` then to the server, returning `201` **CREATED**.\n",
    "A second `send` will return `400` **BAD REQUEST**.\n",
    "\n",
    "Similar, the other types of requests also work.\n",
    "This gives us a convenient way to test our API and learn a bit about it."
   ]
  },
  {
   "cell_type": "markdown",
   "metadata": {},
   "source": [
    "### What can we learn?\n",
    "\n",
    "1. We have to select a **type** for the request (**GET, POST, PUT, DELETE**)\n",
    "2. We have to set our interace address, consisting of:\n",
    "    * server address (`http://127.0.0.1:5000/`)\n",
    "    * interface (`/user/<string:name>`)\n",
    "    * user (`Nicholas`)\n",
    "3. We get back some informations and an exitcode.\n",
    "    * **`200` OK**\n",
    "    * **`201` CREATED**\n",
    "    * **`400` BAD REQUEST** (e.g. user already exist)\n",
    "    * **`404` NOT FOUND** \n",
    "4. For the **GET** request we seem only to need the user name\n",
    "5. For the **POST** request we seem to need to provide the information in a **json** format, looking similar to a python `dict`"
   ]
  },
  {
   "cell_type": "markdown",
   "metadata": {},
   "source": [
    "# Let us fill in our own requests with python!\n",
    "\n",
    "Here for we have to communicate with the server.\n",
    "\n",
    "One way to do it is the `request` package."
   ]
  },
  {
   "cell_type": "code",
   "execution_count": null,
   "metadata": {},
   "outputs": [],
   "source": [
    "import requests"
   ]
  },
  {
   "cell_type": "markdown",
   "metadata": {},
   "source": [
    "For a request we have to define our `server`, `interface`, and a `user`.\n",
    "\n",
    "So we first create the URL."
   ]
  },
  {
   "cell_type": "code",
   "execution_count": null,
   "metadata": {},
   "outputs": [],
   "source": [
    "server = 'http://127.0.0.1:5000'\n",
    "interface = '/user/'\n",
    "user = 'Nicholas'\n",
    "\n",
    "URL = server + interface + user\n",
    "print(URL)"
   ]
  },
  {
   "cell_type": "markdown",
   "metadata": {},
   "source": [
    "Then we can make a **GET** request to the server using the request package."
   ]
  },
  {
   "cell_type": "code",
   "execution_count": null,
   "metadata": {},
   "outputs": [],
   "source": []
  },
  {
   "cell_type": "code",
   "execution_count": null,
   "metadata": {},
   "outputs": [],
   "source": []
  },
  {
   "cell_type": "code",
   "execution_count": null,
   "metadata": {},
   "outputs": [],
   "source": []
  },
  {
   "cell_type": "markdown",
   "metadata": {},
   "source": [
    "Let's check our response!"
   ]
  },
  {
   "cell_type": "code",
   "execution_count": null,
   "metadata": {},
   "outputs": [],
   "source": [
    "print(\"Exitcode: {}\".format(resp.status_code))\n",
    "# we can also handle if errors occur\n",
    "if resp.status_code != 200:\n",
    "    raise Exception(\"GET /user/ {}\".format(user))\n",
    "print(\"Information:\\n\", resp.json())"
   ]
  },
  {
   "cell_type": "markdown",
   "metadata": {},
   "source": [
    "If we want to create a user we have to use a **POST** request."
   ]
  },
  {
   "cell_type": "code",
   "execution_count": null,
   "metadata": {},
   "outputs": [],
   "source": [
    "user = 'Micha'\n",
    "age = 28\n",
    "occupation = 'PhD-Student'\n",
    "\n",
    "# create a dict with the data\n",
    "data = dict(\n",
    "    name = user,\n",
    "    age = age,\n",
    "    occupation = occupation,\n",
    ")\n",
    "\n",
    "URL = server + interface + user\n",
    "resp = requests.post(URL, json=data)"
   ]
  },
  {
   "cell_type": "markdown",
   "metadata": {},
   "source": [
    "Let's check our response!"
   ]
  },
  {
   "cell_type": "code",
   "execution_count": null,
   "metadata": {},
   "outputs": [],
   "source": [
    "if resp.status_code == 400:\n",
    "    print(\"User already exists\", resp.status_code)\n",
    "elif resp.status_code == 201:\n",
    "    print(\"Created User {}\".format(user), resp.status_code)\n",
    "else:\n",
    "    raise Exception(\"Some unexpected ERROR code: {}\".format(resp.status_code))"
   ]
  },
  {
   "cell_type": "markdown",
   "metadata": {},
   "source": [
    "What did our server return beside the exit code in a **POST** request?"
   ]
  },
  {
   "cell_type": "code",
   "execution_count": null,
   "metadata": {
    "scrolled": true
   },
   "outputs": [],
   "source": [
    "resp.json()"
   ]
  },
  {
   "cell_type": "markdown",
   "metadata": {},
   "source": [
    "# Client API"
   ]
  },
  {
   "cell_type": "code",
   "execution_count": null,
   "metadata": {},
   "outputs": [],
   "source": []
  },
  {
   "cell_type": "code",
   "execution_count": null,
   "metadata": {},
   "outputs": [],
   "source": []
  },
  {
   "cell_type": "markdown",
   "metadata": {},
   "source": [
    "As you can see we have two functions `create_user(name, age, occupation)` and `get_user(name)`.\n",
    "\n",
    "Let's do a **GET** request."
   ]
  },
  {
   "cell_type": "code",
   "execution_count": null,
   "metadata": {},
   "outputs": [],
   "source": []
  },
  {
   "cell_type": "code",
   "execution_count": null,
   "metadata": {},
   "outputs": [],
   "source": []
  },
  {
   "cell_type": "markdown",
   "metadata": {},
   "source": [
    "Let's create a user!"
   ]
  },
  {
   "cell_type": "code",
   "execution_count": null,
   "metadata": {},
   "outputs": [],
   "source": []
  },
  {
   "cell_type": "code",
   "execution_count": null,
   "metadata": {},
   "outputs": [],
   "source": []
  },
  {
   "cell_type": "code",
   "execution_count": null,
   "metadata": {},
   "outputs": [],
   "source": []
  },
  {
   "cell_type": "code",
   "execution_count": null,
   "metadata": {},
   "outputs": [],
   "source": []
  }
 ],
 "metadata": {
  "kernelspec": {
   "display_name": "Python [conda env:Anaconda3]",
   "language": "python",
   "name": "conda-env-Anaconda3-py"
  },
  "language_info": {
   "codemirror_mode": {
    "name": "ipython",
    "version": 3
   },
   "file_extension": ".py",
   "mimetype": "text/x-python",
   "name": "python",
   "nbconvert_exporter": "python",
   "pygments_lexer": "ipython3",
   "version": "3.6.4"
  },
  "toc": {
   "base_numbering": 1,
   "nav_menu": {},
   "number_sections": true,
   "sideBar": true,
   "skip_h1_title": false,
   "title_cell": "Table of Contents",
   "title_sidebar": "Contents",
   "toc_cell": false,
   "toc_position": {},
   "toc_section_display": "block",
   "toc_window_display": false
  }
 },
 "nbformat": 4,
 "nbformat_minor": 2
}
