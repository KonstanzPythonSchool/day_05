{
 "cells": [
  {
   "cell_type": "markdown",
   "metadata": {},
   "source": [
    "# Parse a website\n",
    "\n",
    "Now we want to put the things together we know and parse a website!\n",
    "\n",
    "## Example idea\n",
    "We want to search for a new flat in Konstanz. <br>\n",
    "Therefore, we need a all available exposes matching our search criterias and save them in a pandas table,\n",
    "so we could later call the script every **X** minutes to check for new exposes and send us a mail.\n",
    "\n",
    "\n",
    "### whole workflow for the idea\n",
    "1. choose a website\n",
    "- find the whole query to the website\n",
    "- scan the website for exposes\n",
    "- store them in a pandas table\n",
    "- load a pandas table of the old search\n",
    "- compare the new search to the old\n",
    "- if we have new exposes:\n",
    "    - send a mail with the overview of the new exposes\n",
    "    - extra: send a list of details for the new exposes\n",
    "- save the new table\n",
    "- make the script automatically called every **X** minutes\n",
    "\n",
    "### our Tasks for today\n",
    "1. choose a website\n",
    "- find the whole query to the website\n",
    "- scan the website for exposes\n",
    "- store them in a pandas table\n",
    "- recover them from a pandas table\n",
    "- compare the new search to the old"
   ]
  },
  {
   "cell_type": "markdown",
   "metadata": {},
   "source": [
    "## Choose a website\n",
    "As example we take: https://www.immobilienscout24.de/"
   ]
  },
  {
   "cell_type": "markdown",
   "metadata": {},
   "source": [
    "## find the whole query to the website\n",
    "Let's fill out the query to look for a flat matchin our conditions.\n",
    "- Location: `Konstanz`\n",
    "- Price: `< 500`\n",
    "\n",
    "Example:<br>\n",
    "https://www.immobilienscout24.de/Suche/S-T/Wohnung-Miete/Baden-Wuerttemberg/Konstanz-Kreis/-/-/-/EURO--500,00\n",
    "\n",
    "and copy the URL."
   ]
  },
  {
   "cell_type": "code",
   "execution_count": null,
   "metadata": {
    "ExecuteTime": {
     "end_time": "2018-10-18T13:14:45.623308Z",
     "start_time": "2018-10-18T13:14:45.615350Z"
    }
   },
   "outputs": [],
   "source": [
    "# save the URL\n",
    "url = \"https://www.immobilienscout24.de/Suche/S-T/Wohnung-Miete/Baden-Wuerttemberg/Konstanz-Kreis/-/-/-/EURO--500,00\""
   ]
  },
  {
   "cell_type": "markdown",
   "metadata": {},
   "source": [
    "To scan the website we use the package `urllib3`.\n",
    "\n",
    "Because the website uses the `HTTPS` protocol we need also to use a certificate. We can get it with the package `certifi`.\n",
    "\n",
    "Let's put things together."
   ]
  },
  {
   "cell_type": "code",
   "execution_count": null,
   "metadata": {
    "ExecuteTime": {
     "end_time": "2018-10-18T13:14:46.062280Z",
     "start_time": "2018-10-18T13:14:46.030363Z"
    }
   },
   "outputs": [],
   "source": [
    "import urllib3\n",
    "import certifi"
   ]
  },
  {
   "cell_type": "code",
   "execution_count": null,
   "metadata": {
    "ExecuteTime": {
     "end_time": "2018-10-18T13:14:46.240798Z",
     "start_time": "2018-10-18T13:14:46.179338Z"
    }
   },
   "outputs": [],
   "source": [
    "# first we have to set up a Manager for the Website\n",
    "http = urllib3.PoolManager(cert_reqs='CERT_REQUIRED', ca_certs=certifi.where())"
   ]
  },
  {
   "cell_type": "code",
   "execution_count": null,
   "metadata": {
    "ExecuteTime": {
     "end_time": "2018-10-18T13:14:46.850523Z",
     "start_time": "2018-10-18T13:14:46.425177Z"
    }
   },
   "outputs": [],
   "source": [
    "# now we have to request the content of the website using a GET request\n",
    "r = http.request('GET', url)"
   ]
  },
  {
   "cell_type": "code",
   "execution_count": null,
   "metadata": {
    "ExecuteTime": {
     "end_time": "2018-10-18T13:14:46.857590Z",
     "start_time": "2018-10-18T13:14:46.853312Z"
    }
   },
   "outputs": [],
   "source": [
    "# now we have to decode the data, in case it's a byte stream or ASCII\n",
    "html = r.data.decode('utf-8')"
   ]
  },
  {
   "cell_type": "code",
   "execution_count": null,
   "metadata": {
    "ExecuteTime": {
     "end_time": "2018-10-18T13:14:46.869939Z",
     "start_time": "2018-10-18T13:14:46.859966Z"
    }
   },
   "outputs": [],
   "source": [
    "# let's print the first 200 characters\n",
    "print(html[:200])"
   ]
  },
  {
   "cell_type": "code",
   "execution_count": null,
   "metadata": {
    "ExecuteTime": {
     "end_time": "2018-10-18T13:14:47.544455Z",
     "start_time": "2018-10-18T13:14:47.397295Z"
    }
   },
   "outputs": [],
   "source": []
  },
  {
   "cell_type": "code",
   "execution_count": null,
   "metadata": {
    "ExecuteTime": {
     "end_time": "2018-10-18T13:14:47.728323Z",
     "start_time": "2018-10-18T13:14:47.696855Z"
    }
   },
   "outputs": [],
   "source": []
  },
  {
   "cell_type": "markdown",
   "metadata": {},
   "source": [
    "Now we want to find all entries of the exposes.\n",
    "For this we have to know how they are stored in the html file.\n",
    "\n",
    "### Option 1\n",
    "- look for a catchy word in the caption of an expose.\n",
    "- search for it in the source code of the website (in the browser: rightclick `show source code` or `view page source`)\n",
    "- work through the text till you find the tags / pattern how the website is build up\n",
    "\n",
    "### Option 2 (better!)\n",
    "- use the `inspect` tool of your browser (if it has one!)\n",
    "    - Chrome : `inspect` (right click or `CTRL + SHIFT + I`\n",
    "    - FireFox : `inspect Element` (right click)\n",
    "- move your mouse in the `Elements` tab over the elements and see which are highlighted\n",
    "- find the element associated with the box of the expose"
   ]
  },
  {
   "cell_type": "markdown",
   "metadata": {},
   "source": [
    "### box expose"
   ]
  },
  {
   "cell_type": "code",
   "execution_count": null,
   "metadata": {
    "ExecuteTime": {
     "end_time": "2018-10-18T13:14:48.345611Z",
     "start_time": "2018-10-18T13:14:48.334245Z"
    }
   },
   "outputs": [],
   "source": []
  },
  {
   "cell_type": "markdown",
   "metadata": {},
   "source": [
    "Let's have a look into the first entry."
   ]
  },
  {
   "cell_type": "code",
   "execution_count": null,
   "metadata": {
    "ExecuteTime": {
     "end_time": "2018-10-18T13:14:48.900585Z",
     "start_time": "2018-10-18T13:14:48.890467Z"
    }
   },
   "outputs": [],
   "source": []
  },
  {
   "cell_type": "markdown",
   "metadata": {},
   "source": [
    "Still a lots of text. Maybe we can refine it further.\n",
    "What we see is that is has an attribute called `data-id=` in the first field.\n",
    "This seems to be the **unique** id for the expose."
   ]
  },
  {
   "cell_type": "code",
   "execution_count": null,
   "metadata": {
    "ExecuteTime": {
     "end_time": "2018-10-18T13:14:49.214042Z",
     "start_time": "2018-10-18T13:14:49.204901Z"
    }
   },
   "outputs": [],
   "source": []
  },
  {
   "cell_type": "code",
   "execution_count": null,
   "metadata": {
    "ExecuteTime": {
     "end_time": "2018-10-18T13:14:49.951417Z",
     "start_time": "2018-10-18T13:14:49.940532Z"
    }
   },
   "outputs": [],
   "source": []
  },
  {
   "cell_type": "code",
   "execution_count": null,
   "metadata": {
    "ExecuteTime": {
     "end_time": "2018-10-18T13:14:50.590779Z",
     "start_time": "2018-10-18T13:14:50.580870Z"
    }
   },
   "outputs": [],
   "source": []
  },
  {
   "cell_type": "markdown",
   "metadata": {},
   "source": [
    "We can now do the same for the address in a nested way."
   ]
  },
  {
   "cell_type": "code",
   "execution_count": null,
   "metadata": {
    "ExecuteTime": {
     "end_time": "2018-10-18T13:14:51.300351Z",
     "start_time": "2018-10-18T13:14:51.293568Z"
    }
   },
   "outputs": [],
   "source": [
    "address = entry.find('div', {'class': \"result-list-entry__address\"}).find('button').find('div').text"
   ]
  },
  {
   "cell_type": "markdown",
   "metadata": {},
   "source": [
    "All the informations are stored in `<dl>` elements lets filter them and then get the different values from them. (stored in a `dd` element)"
   ]
  },
  {
   "cell_type": "code",
   "execution_count": null,
   "metadata": {
    "ExecuteTime": {
     "end_time": "2018-10-18T13:14:51.715315Z",
     "start_time": "2018-10-18T13:14:51.709464Z"
    }
   },
   "outputs": [],
   "source": [
    "infos = entry.find_all('dl')\n",
    "price = float(infos[0].find('dd').text.split()[0].replace(',', '.'))\n",
    "space = float(infos[1].find('dd').text.split()[0].replace(',', '.'))\n",
    "rooms = int(infos[2].find('dd').text.split()[0])"
   ]
  },
  {
   "cell_type": "markdown",
   "metadata": {},
   "source": [
    "Let's store them in a dict so everything is ordered."
   ]
  },
  {
   "cell_type": "code",
   "execution_count": null,
   "metadata": {
    "ExecuteTime": {
     "end_time": "2018-10-18T13:14:52.054806Z",
     "start_time": "2018-10-18T13:14:52.045095Z"
    }
   },
   "outputs": [],
   "source": [
    "result = dict(\n",
    "            title=title,\n",
    "            expose=expose,\n",
    "            address=address,\n",
    "            price_cold=price,\n",
    "            space=space,\n",
    "            rooms=rooms,\n",
    "        )\n",
    "result"
   ]
  },
  {
   "cell_type": "markdown",
   "metadata": {},
   "source": [
    "If we want to do it for all our entries we can put it into a loop."
   ]
  },
  {
   "cell_type": "code",
   "execution_count": null,
   "metadata": {
    "ExecuteTime": {
     "end_time": "2018-10-18T13:14:52.658456Z",
     "start_time": "2018-10-18T13:14:52.620880Z"
    }
   },
   "outputs": [],
   "source": [
    "results = []\n",
    "for entry in entries:\n",
    "    expose = int(entry['data-id'])\n",
    "\n",
    "    title = entry.find('h5').text\n",
    "\n",
    "    address = entry.find('div', {'class': \"result-list-entry__address\"}).find('button').find('div').text\n",
    "\n",
    "    infos = entry.find_all('dl')\n",
    "    price = float(infos[0].find('dd').text.split()[0].replace(',', '.'))\n",
    "    space = float(infos[1].find('dd').text.split()[0].replace(',', '.'))\n",
    "    rooms = float(infos[2].find('dd').text.split()[0].replace(',', '.'))\n",
    "\n",
    "    results.append(dict(\n",
    "        title=title,\n",
    "        expose=expose,\n",
    "        address=address,\n",
    "        price_cold=price,\n",
    "        space=space,\n",
    "        rooms=rooms,\n",
    "    ))"
   ]
  },
  {
   "cell_type": "code",
   "execution_count": null,
   "metadata": {
    "ExecuteTime": {
     "end_time": "2018-10-18T13:14:53.706412Z",
     "start_time": "2018-10-18T13:14:53.394437Z"
    }
   },
   "outputs": [],
   "source": []
  },
  {
   "cell_type": "code",
   "execution_count": null,
   "metadata": {
    "ExecuteTime": {
     "end_time": "2018-10-18T13:14:53.757558Z",
     "start_time": "2018-10-18T13:14:53.754261Z"
    }
   },
   "outputs": [],
   "source": []
  },
  {
   "cell_type": "code",
   "execution_count": null,
   "metadata": {
    "ExecuteTime": {
     "end_time": "2018-10-18T13:14:53.979286Z",
     "start_time": "2018-10-18T13:14:53.947686Z"
    }
   },
   "outputs": [],
   "source": []
  },
  {
   "cell_type": "code",
   "execution_count": null,
   "metadata": {
    "ExecuteTime": {
     "end_time": "2018-10-18T13:15:34.455449Z",
     "start_time": "2018-10-18T13:15:34.451947Z"
    }
   },
   "outputs": [],
   "source": []
  },
  {
   "cell_type": "markdown",
   "metadata": {},
   "source": [
    "If we want to load the results we can do it with: `pd.read_json`"
   ]
  },
  {
   "cell_type": "code",
   "execution_count": null,
   "metadata": {
    "ExecuteTime": {
     "end_time": "2018-10-18T13:15:44.847866Z",
     "start_time": "2018-10-18T13:15:44.832215Z"
    }
   },
   "outputs": [],
   "source": [
    "df_old = pd.read_json('mytable.json',\n",
    "                          orient='columns',\n",
    "                          convert_dates=False,  # dont convert columns to dates\n",
    "                          convert_axes=False,  # dont convert index to dates\n",
    "                          )\n",
    "df_old.index = df_old.index.astype(int)\n",
    "df_old.index.name = 'expose'\n",
    "df_old"
   ]
  },
  {
   "cell_type": "markdown",
   "metadata": {},
   "source": [
    "## find new entries"
   ]
  },
  {
   "cell_type": "markdown",
   "metadata": {},
   "source": [
    "<div class='alert alert-block alert-info'>\n",
    "\n",
    "\n",
    "<ul>\n",
    "    <li>Load the file `mytable_old.json` (created yesterday).</li>\n",
    "    <li>Write a function to compare the both pandas frames to find new entries.</li>\n",
    "</ul>\n",
    "\n",
    "</div>"
   ]
  },
  {
   "cell_type": "code",
   "execution_count": null,
   "metadata": {
    "ExecuteTime": {
     "end_time": "2018-10-18T13:15:46.518431Z",
     "start_time": "2018-10-18T13:15:46.506269Z"
    }
   },
   "outputs": [],
   "source": []
  },
  {
   "cell_type": "code",
   "execution_count": null,
   "metadata": {
    "ExecuteTime": {
     "end_time": "2018-10-18T13:15:47.429100Z",
     "start_time": "2018-10-18T13:15:47.426386Z"
    }
   },
   "outputs": [],
   "source": []
  },
  {
   "cell_type": "code",
   "execution_count": null,
   "metadata": {
    "ExecuteTime": {
     "end_time": "2018-10-18T13:15:48.253192Z",
     "start_time": "2018-10-18T13:15:48.247128Z"
    }
   },
   "outputs": [],
   "source": []
  },
  {
   "cell_type": "code",
   "execution_count": null,
   "metadata": {},
   "outputs": [],
   "source": []
  }
 ],
 "metadata": {
  "kernelspec": {
   "display_name": "Anaconda (OPS)",
   "language": "python",
   "name": "ops"
  },
  "language_info": {
   "codemirror_mode": {
    "name": "ipython",
    "version": 3
   },
   "file_extension": ".py",
   "mimetype": "text/x-python",
   "name": "python",
   "nbconvert_exporter": "python",
   "pygments_lexer": "ipython3",
   "version": "3.6.6"
  },
  "toc": {
   "base_numbering": 1,
   "nav_menu": {},
   "number_sections": true,
   "sideBar": true,
   "skip_h1_title": false,
   "title_cell": "Table of Contents",
   "title_sidebar": "Contents",
   "toc_cell": false,
   "toc_position": {},
   "toc_section_display": "block",
   "toc_window_display": false
  }
 },
 "nbformat": 4,
 "nbformat_minor": 2
}
