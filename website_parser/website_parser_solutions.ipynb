{
 "cells": [
  {
   "cell_type": "markdown",
   "metadata": {},
   "source": [
    "# Parse a website\n",
    "\n",
    "Now we want to put the things together we know and parse a website!\n",
    "\n",
    "## Example idea\n",
    "We want to search for a new flat in Konstanz. <br>\n",
    "Therefore, we need a all available exposes matching our search criterias and save them in a pandas table,\n",
    "so we could later call the script every **X** minutes to check for new exposes and send us a mail.\n",
    "\n",
    "\n",
    "### whole workflow for the idea\n",
    "1. choose a website\n",
    "- find the whole query to the website\n",
    "- scan the website for exposes\n",
    "- store them in a pandas table\n",
    "- load a pandas table of the old search\n",
    "- compare the new search to the old\n",
    "- if we have new exposes:\n",
    "    - send a mail with the overview of the new exposes\n",
    "    - extra: send a list of details for the new exposes\n",
    "- save the new table\n",
    "- make the script automatically called every **X** minutes\n",
    "\n",
    "### our Tasks for today\n",
    "1. choose a website\n",
    "- find the whole query to the website\n",
    "- scan the website for exposes\n",
    "- store them in a pandas table\n",
    "- recover them from a pandas table\n",
    "- compare the new search to the old"
   ]
  },
  {
   "cell_type": "markdown",
   "metadata": {},
   "source": [
    "## Choose a website\n",
    "As example we take: https://www.immobilienscout24.de/"
   ]
  },
  {
   "cell_type": "markdown",
   "metadata": {},
   "source": [
    "## find the whole query to the website\n",
    "Let's fill out the query to look for a flat matchin our conditions.\n",
    "- Location: `Konstanz`\n",
    "- Price: `< 500`\n",
    "\n",
    "Example:<br>\n",
    "https://www.immobilienscout24.de/Suche/S-T/Wohnung-Miete/Baden-Wuerttemberg/Konstanz-Kreis/-/-/-/EURO--500,00\n",
    "\n",
    "and copy the URL."
   ]
  },
  {
   "cell_type": "code",
   "execution_count": 1,
   "metadata": {
    "ExecuteTime": {
     "end_time": "2018-10-18T13:14:45.623308Z",
     "start_time": "2018-10-18T13:14:45.615350Z"
    }
   },
   "outputs": [],
   "source": [
    "# save the URL\n",
    "url = \"https://www.immobilienscout24.de/Suche/S-T/Wohnung-Miete/Baden-Wuerttemberg/Konstanz-Kreis/-/-/-/EURO--500,00\""
   ]
  },
  {
   "cell_type": "markdown",
   "metadata": {},
   "source": [
    "To scan the website we use the package `urllib3`.\n",
    "\n",
    "Because the website uses the `HTTPS` protocol we need also to use a certificate. We can get it with the package `certifi`.\n",
    "\n",
    "Let's put things together."
   ]
  },
  {
   "cell_type": "code",
   "execution_count": 2,
   "metadata": {
    "ExecuteTime": {
     "end_time": "2018-10-18T13:14:46.062280Z",
     "start_time": "2018-10-18T13:14:46.030363Z"
    }
   },
   "outputs": [],
   "source": [
    "import urllib3\n",
    "import certifi"
   ]
  },
  {
   "cell_type": "code",
   "execution_count": 3,
   "metadata": {
    "ExecuteTime": {
     "end_time": "2018-10-18T13:14:46.240798Z",
     "start_time": "2018-10-18T13:14:46.179338Z"
    }
   },
   "outputs": [],
   "source": [
    "# first we have to set up a Manager for the Website\n",
    "http = urllib3.PoolManager(cert_reqs='CERT_REQUIRED', ca_certs=certifi.where())"
   ]
  },
  {
   "cell_type": "code",
   "execution_count": 4,
   "metadata": {
    "ExecuteTime": {
     "end_time": "2018-10-18T13:14:46.850523Z",
     "start_time": "2018-10-18T13:14:46.425177Z"
    }
   },
   "outputs": [],
   "source": [
    "# now we have to request the content of the website using a GET request\n",
    "r = http.request('GET', url)"
   ]
  },
  {
   "cell_type": "code",
   "execution_count": 5,
   "metadata": {
    "ExecuteTime": {
     "end_time": "2018-10-18T13:14:46.857590Z",
     "start_time": "2018-10-18T13:14:46.853312Z"
    }
   },
   "outputs": [],
   "source": [
    "# now we have to decode the data, in case it's a byte stream or ASCII\n",
    "html = r.data.decode('utf-8')"
   ]
  },
  {
   "cell_type": "code",
   "execution_count": 6,
   "metadata": {
    "ExecuteTime": {
     "end_time": "2018-10-18T13:14:46.869939Z",
     "start_time": "2018-10-18T13:14:46.859966Z"
    }
   },
   "outputs": [
    {
     "name": "stdout",
     "output_type": "stream",
     "text": [
      "\n",
      "\n",
      "\n",
      "\n",
      "\n",
      "\n",
      "\n",
      "\n",
      "\n",
      "\n",
      "\n",
      "\n",
      "\n",
      "\n",
      "<!doctype html>\n",
      "<html lang=\"de\">\n",
      "<head>\n",
      "  <meta http-equiv=\"X-UA-Compatible\" content=\"IE=edge,chrome=1\"/>\n",
      "  <meta content=\"text/html; charset=UTF-8\" http-equiv=\"Content-Type\"/>\n",
      "  <meta n\n"
     ]
    }
   ],
   "source": [
    "# let's print the first 200 characters\n",
    "print(html[:200])"
   ]
  },
  {
   "cell_type": "markdown",
   "metadata": {},
   "source": [
    "As you can see we got the whole html code.\n",
    "\n",
    "A good way to parse html code is to use `BeautifulSoup` from the `bs4` package.\n",
    "\n",
    "This allows us to easily scan the code for the used html tags."
   ]
  },
  {
   "cell_type": "code",
   "execution_count": 7,
   "metadata": {
    "ExecuteTime": {
     "end_time": "2018-10-18T13:14:47.544455Z",
     "start_time": "2018-10-18T13:14:47.397295Z"
    }
   },
   "outputs": [],
   "source": [
    "#@solution\n",
    "from bs4 import BeautifulSoup\n",
    "soup = BeautifulSoup(html, 'html.parser')"
   ]
  },
  {
   "cell_type": "markdown",
   "metadata": {},
   "source": [
    "As example lets find the header of the html file.\n",
    "\n",
    "It's between the tags `<head>` and `</head>`."
   ]
  },
  {
   "cell_type": "code",
   "execution_count": 8,
   "metadata": {
    "ExecuteTime": {
     "end_time": "2018-10-18T13:14:47.728323Z",
     "start_time": "2018-10-18T13:14:47.696855Z"
    }
   },
   "outputs": [
    {
     "data": {
      "text/plain": [
       "<head>\n",
       "<meta content=\"IE=edge,chrome=1\" http-equiv=\"X-UA-Compatible\"/>\n",
       "<meta content=\"text/html; charset=utf-8\" http-equiv=\"Content-Type\"/>\n",
       "<meta content=\"none\" name=\"msapplication-config\"/>\n",
       "<meta content=\"telephone=no\" name=\"format-detection\"/>\n",
       "<meta content=\"width=device-width, initial-scale=1, minimum-scale=1, maximum-scale=1\" name=\"viewport\"/>\n",
       "<link href=\"/Suche/resources/manifest.json\" rel=\"manifest\"/>\n",
       "<title>Mietwohnungen Konstanz (Kreis): Wohnungen mieten in Konstanz (Kreis) bei Immobilien Scout24</title>\n",
       "<meta content=\"index, follow\" name=\"robots\"/>\n",
       "<meta content=\"Konstanz (Kreis): Mietwohnungen in Konstanz (Kreis). Bei Immobilien Scout24 finden Sie passende Angebote zu Wohnungen mieten oder Mietwohnung in Konstanz (Kreis).\" name=\"description\"/>\n",
       "<meta content=\"Mietwohnungen Konstanz (Kreis), Wohnungen mieten Konstanz (Kreis)\" name=\"keywords\"/>\n",
       "<link href=\"https://www.immobilienscout24.de/Suche/S-T/Wohnung-Miete/Baden-Wuerttemberg/Konstanz-Kreis/-/-/-/EURO--500,00\" rel=\"canonical\"/>\n",
       "<script type=\"text/javascript\">\n",
       "  if (!(window.Promise && Array.prototype.find && Array.from && Object.assign && window.fetch)) {\n",
       "    document.write('<script src=\"/Suche/resources/build/polyfills.js?v=20456\"><\\/script>');\n",
       "  }\n",
       "\n",
       "  if(!(\"Map\" in window && \"Set\" in window)) {\n",
       "    document.write('<script src=\"/Suche/resources/build/reactPolyfills.js?v=20456\"><\\/script>');\n",
       "  }\n",
       "\n",
       "  if (!(\"classList\" in document.documentElement)) {\n",
       "    document.write(\"<script src=\\\"//www.static-immobilienscout24.de/fro/remy-polyfills/0.1.0/classList.min.js\\\"><\\/script>\");\n",
       "  }\n",
       "</script>\n",
       "<style data-qa=\"inlined-app-css-org\" type=\"text/css\">\n",
       "            /*! jQuery UI - v1.11.2 - 2014-10-31\n",
       "* http://jqueryui.com\n",
       "* Includes: core.css, autocomplete.css, menu.css\n",
       "* Copyright 2014 jQuery Foundation and other contributors; Licensed MIT */.ui-helper-hidden-accessible{border:0;clip:rect(0 0 0 0);height:1px;margin:-1px;overflow:hidden;padding:0;position:absolute;width:1px}.ui-front{z-index:100}.ui-autocomplete{position:absolute;top:0;left:0;cursor:default}.ui-menu{list-style:none;padding:0;margin:0;display:block;outline:none}.ui-menu .ui-menu{position:absolute}.ui-menu .ui-menu-item{position:relative;margin:0;padding:3px 1em 3px .4em;cursor:pointer;min-height:0;list-style-image:url(\"data:image/gif;base64,R0lGODlhAQABAIAAAAAAAP///yH5BAEAAAAALAAAAAABAAEAAAIBRAA7\")}.ui-menu .ui-state-active,.ui-menu .ui-state-focus{margin:-1px}.ui-menu-item span{float:right;font-weight:700}.ui-widget{font-family:Verdana,Arial,sans-serif;font-size:1.1em}.ui-widget .ui-widget{font-size:1em}.ui-widget button,.ui-widget input,.ui-widget select,.ui-widget textarea{font-family:Verdana,Arial,sans-serif;font-size:1em}.ui-widget-content{border:1px solid #ccc;background:#fff;color:#4c4c4c}.ui-widget-content a{color:#4c4c4c}.ui-state-focus,.ui-state-hover,.ui-widget-content .ui-state-focus,.ui-widget-content .ui-state-hover,.ui-widget-header .ui-state-focus,.ui-widget-header .ui-state-hover{background:#e9f1ff;font-weight:400}.ui-state-focus a,.ui-state-focus a:hover,.ui-state-focus a:link,.ui-state-focus a:visited,.ui-state-hover a,.ui-state-hover a:hover,.ui-state-hover a:link,.ui-state-hover a:visited{color:#fff;text-decoration:none}.ui-state-active,.ui-widget-content .ui-state-active,.ui-widget-header .ui-state-active{border:1px solid #ccc;background:#fff;font-weight:400;color:#4c4c4c}.ui-state-active a,.ui-state-active a:link,.ui-state-active a:visited{color:#4c4c4c;text-decoration:none}.ui-state-highlight,.ui-widget-content .ui-state-highlight,.ui-widget-header .ui-state-highlight{border:1px solid #ffde2e;background:#ffeb80;color:#363636}.ui-state-highlight a,.ui-widget-content .ui-state-highlight a,.ui-widget-header .ui-state-highlight a{color:#363636}.ui-state-error,.ui-widget-content .ui-state-error,.ui-widget-header .ui-state-error{border:1px solid #9e0505;background:#cd0a0a;color:#fff}.ui-state-error-text,.ui-state-error a,.ui-widget-content .ui-state-error-text,.ui-widget-content .ui-state-error a,.ui-widget-header .ui-state-error-text,.ui-widget-header .ui-state-error a{color:#fff}.ui-state-disabled,.ui-widget-content .ui-state-disabled,.ui-widget-header .ui-state-disabled{opacity:.35;filter:alpha(opacity=35);background-image:none}.ui-state-disabled .ui-icon{filter:alpha(opacity=35)}\n",
       "\n",
       "            /*!\n",
       " * ImmobilienScout24 Core CSS Framework, v2.3.0\n",
       " * http://www.immobilienscout24.de/\n",
       " */html,body,div,span,object,iframe,h1,h2,h3,h4,h5,h6,p,blockquote,pre,a,abbr,address,cite,code,del,dfn,em,img,ins,kbd,q,samp,small,strong,sub,sup,var,b,i,dl,dt,dd,ol,ul,li,form,fieldset,legend,label,input,select,textarea,table,caption,tbody,tfoot,thead,tr,th,td,article,aside,canvas,details,figure,figcaption,footer,header,main,menu,nav,section,summary,time,mark,audio,video{-webkit-box-sizing:border-box;-moz-box-sizing:border-box;-ms-box-sizing:border-box;-o-box-sizing:border-box;box-sizing:border-box;margin:0;padding:0;border:0;outline:0}article,aside,details,figure,figcaption,footer,header,main,menu,nav,section{display:block}ul{list-style-type:none}table{border-spacing:0;border-collapse:collapse}th,td{vertical-align:top;text-align:left;font-weight:400}input,select,textarea,button{font-size:1em}body{-webkit-text-size-adjust:none}/*!\n",
       " *  Open Sans typeface by Steve Matteson (commissioned by Google)\n",
       " *  Apache License, Version 2.0 - http://www.apache.org/licenses/LICENSE-2.0.html\n",
       " */@font-face{font-family:\"Open Sans\";font-style:normal;font-weight:400;src:url(//www.static-immobilienscout24.de/fro/core/2.3.0/font/vendor/opensans/5/opensans_latin_400.eot);src:url(//www.static-immobilienscout24.de/fro/core/2.3.0/font/vendor/opensans/5/opensans_latin_400.eot?#iefix) format(\"embedded-opentype\"),url(//www.static-immobilienscout24.de/fro/core/2.3.0/font/vendor/opensans/5/opensans_latin_400.woff2) format(\"woff2\"),url(//www.static-immobilienscout24.de/fro/core/2.3.0/font/vendor/opensans/5/opensans_latin_400.woff) format(\"woff\"),url(//www.static-immobilienscout24.de/fro/core/2.3.0/font/vendor/opensans/5/opensans_latin_400.ttf) format(\"truetype\")}@font-face{font-family:\"Open Sans\";font-style:normal;font-weight:600;src:url(//www.static-immobilienscout24.de/fro/core/2.3.0/font/vendor/opensans/5/opensans_latin_600.eot);src:url(//www.static-immobilienscout24.de/fro/core/2.3.0/font/vendor/opensans/5/opensans_latin_600.eot?#iefix) format(\"embedded-opentype\"),url(//www.static-immobilienscout24.de/fro/core/2.3.0/font/vendor/opensans/5/opensans_latin_600.woff2) format(\"woff2\"),url(//www.static-immobilienscout24.de/fro/core/2.3.0/font/vendor/opensans/5/opensans_latin_600.woff) format(\"woff\"),url(//www.static-immobilienscout24.de/fro/core/2.3.0/font/vendor/opensans/5/opensans_latin_600.ttf) format(\"truetype\")}@media (min-width:669px){@font-face{font-family:\"Open Sans\";font-style:normal;font-weight:300;src:url(//www.static-immobilienscout24.de/fro/core/2.3.0/font/vendor/opensans/5/opensans_latin_300.eot);src:url(//www.static-immobilienscout24.de/fro/core/2.3.0/font/vendor/opensans/5/opensans_latin_300.eot?#iefix) format(\"embedded-opentype\"),url(//www.static-immobilienscout24.de/fro/core/2.3.0/font/vendor/opensans/5/opensans_latin_300.woff2) format(\"woff2\"),url(//www.static-immobilienscout24.de/fro/core/2.3.0/font/vendor/opensans/5/opensans_latin_300.woff) format(\"woff\"),url(//www.static-immobilienscout24.de/fro/core/2.3.0/font/vendor/opensans/5/opensans_latin_300.ttf) format(\"truetype\")}@font-face{font-family:\"Open Sans\";font-style:normal;font-weight:700;src:url(//www.static-immobilienscout24.de/fro/core/2.3.0/font/vendor/opensans/5/opensans_latin_700.eot);src:url(//www.static-immobilienscout24.de/fro/core/2.3.0/font/vendor/opensans/5/opensans_latin_700.eot?#iefix) format(\"embedded-opentype\"),url(//www.static-immobilienscout24.de/fro/core/2.3.0/font/vendor/opensans/5/opensans_latin_700.woff2) format(\"woff2\"),url(//www.static-immobilienscout24.de/fro/core/2.3.0/font/vendor/opensans/5/opensans_latin_700.woff) format(\"woff\"),url(//www.static-immobilienscout24.de/fro/core/2.3.0/font/vendor/opensans/5/opensans_latin_700.ttf) format(\"truetype\")}}html{font-size:62.5%}body{background-color:#fff;color:#343434;font-size:1.4em;font-family:'Open Sans',Verdana,'DejaVu Sans',Arial,Helvetica,sans-serif;line-height:1.6}@media (min-width:669px){body{font-size:1.4em}}.viewport{overflow:hidden;width:100%}.page-wrapper{margin-left:auto;margin-right:auto;max-width:1170px;background-color:#fff}@media (min-width:669px){.page-wrapper{border-top:1px solid #e0e0e0}}@media (min-width:1014px){.page-wrapper{padding:0 7px;border:1px solid #e0e0e0}}.content-wrapper{margin:0 auto;padding:0 16px;max-width:1170px}@media (min-width:669px){.content-wrapper{padding:0 24px}}.content-wrapper:before,.content-wrapper:after{display:table;clear:both;content:\"\"}.content-wrapper--negate-padding{margin-left:-16px;margin-right:-16px}@media (min-width:669px){.content-wrapper--negate-padding{margin-left:-24px;margin-right:-24px}}.content-wrapper--compressed{max-width:1014px}.content-wrapper--background{background-color:#fff}.page-header--white{padding:8px;white-space:nowrap;background-color:#fff}.page-header--white .page-header__logo,.page-header--white .page-header__brand{display:inline-block;vertical-align:middle;white-space:normal}.page-header--white .page-header__logo{margin-right:8px}.page-header--white .page-header__logo>img{display:block;width:64px;height:32px}.page-header--white .page-header__brand{max-width:70%;font-size:13px;font-size:1.3rem;color:#ff7500;line-height:1.333}@media (min-width:669px){.page-header--white .page-header__logo>img{width:112px;height:56px}.page-header--white .page-header__brand{font-size:18px;font-size:1.8rem}}.page-header--white--composite{padding:8px 0;height:48px}.page-header--white--composite .page-header__logo>img{width:64px;height:32px}.page-header--white--composite .page-header__brand{width:15em;font-size:1.1rem;line-height:1.2;font-weight:600;color:#003468}@media (min-width:669px){.page-header--white--composite{padding-top:8px;padding-bottom:8px;height:48px}.page-header--white--composite .page-header__logo>img{width:64px;height:32px}.page-header--white--composite .page-header__brand{font-size:11px;font-size:1.1rem}}@media (min-width:1014px){.page-header--white--composite{padding-top:16px;padding-bottom:16px;height:72px}.page-header--white--composite .page-header__logo>img{width:80px;height:40px}.page-header--white--composite .page-header__brand{font-size:14px;font-size:1.4rem}}.main-footer{padding:8px;font-size:13px;font-size:1.3rem;line-height:1.45;text-align:center;color:#969696}.main-footer h6{position:absolute;left:-9999px}.main-footer ul,.main-footer .build-information{margin:0 auto 8px}.main-footer li{display:inline-block;margin-left:-.35em}.main-footer li:after{content:\"|\"}.main-footer li:last-child:after{display:none}.main-footer a,.main-footer a:link{padding:0 .5em;color:#969696}@media (min-width:669px){.main-footer{padding:16px;font-size:13px;font-size:1.3rem}.main-footer ul,.main-footer .build-information{margin-bottom:8px;max-width:610px}}.page-footer{background:#f2f2f2}.page-footer__accessibility{position:absolute;left:-9999px}.page-footer__copyright{background:#343434;color:#969696}em{font-style:italic}strong,strong input{font-weight:700}code{font-size:1em;font-family:monospace,sans-serif}mark{background:0 0;color:inherit;font-weight:700}sup,sub{font-size:.833em;line-height:0}sup{vertical-align:super}sub{vertical-align:sub}a,a:link{text-decoration:none;color:#2a7cca}a.link-underline,a:link.link-underline{text-decoration:underline}a:focus,a:hover,a:active{text-decoration:underline;color:#ff7500}a:hover,a:active{outline:0 none}p a,p a:link,p a:visited,p a:hover,p a:focus,p a:active{text-decoration:underline}button{cursor:pointer}h1,h2,h3,h4,h5,h6,.font-h1,.font-h2,.font-h3,.font-h4,.font-h5,.font-h6{line-height:1.33;color:#262626}h1>a,h2>a,h3>a,h4>a,h5>a,h6>a,.font-h1>a,.font-h2>a,.font-h3>a,.font-h4>a,.font-h5>a,.font-h6>a,h1>a:link,h2>a:link,h3>a:link,h4>a:link,h5>a:link,h6>a:link,.font-h1>a:link,.font-h2>a:link,.font-h3>a:link,.font-h4>a:link,.font-h5>a:link,.font-h6>a:link{color:#0a4678}h1>a:hover,h2>a:hover,h3>a:hover,h4>a:hover,h5>a:hover,h6>a:hover,.font-h1>a:hover,.font-h2>a:hover,.font-h3>a:hover,.font-h4>a:hover,.font-h5>a:hover,.font-h6>a:hover,h1>a:focus,h2>a:focus,h3>a:focus,h4>a:focus,h5>a:focus,h6>a:focus,.font-h1>a:focus,.font-h2>a:focus,.font-h3>a:focus,.font-h4>a:focus,.font-h5>a:focus,.font-h6>a:focus,h1>a:active,h2>a:active,h3>a:active,h4>a:active,h5>a:active,h6>a:active,.font-h1>a:active,.font-h2>a:active,.font-h3>a:active,.font-h4>a:active,.font-h5>a:active,.font-h6>a:active{color:#ff7500}a h1,a h2,a h3,a h4,a h5,a h6,a .font-h1,a .font-h2,a .font-h3,a .font-h4,a .font-h5,a .font-h6,a:link h1,a:link h2,a:link h3,a:link h4,a:link h5,a:link h6,a:link .font-h1,a:link .font-h2,a:link .font-h3,a:link .font-h4,a:link .font-h5,a:link .font-h6{color:#0a4678}a:hover h1,a:hover h2,a:hover h3,a:hover h4,a:hover h5,a:hover h6,a:hover .font-h1,a:hover .font-h2,a:hover .font-h3,a:hover .font-h4,a:hover .font-h5,a:hover .font-h6,a:focus h1,a:focus h2,a:focus h3,a:focus h4,a:focus h5,a:focus h6,a:focus .font-h1,a:focus .font-h2,a:focus .font-h3,a:focus .font-h4,a:focus .font-h5,a:focus .font-h6,a:active h1,a:active h2,a:active h3,a:active h4,a:active h5,a:active h6,a:active .font-h1,a:active .font-h2,a:active .font-h3,a:active .font-h4,a:active .font-h5,a:active .font-h6{color:#ff7500}h1,.font-h1{margin-bottom:.4em;font-size:32px;font-size:3.2rem;font-weight:300}h2,.font-h2{margin-bottom:.4em;font-size:23px;font-size:2.3rem;font-weight:300}h3,.font-h3{margin-bottom:.4em;font-size:20px;font-size:2rem;font-weight:400}h4,.font-h4{margin-bottom:.4em;font-size:18px;font-size:1.8rem;font-weight:400}h5,.font-h5{margin-bottom:.4em;font-size:14px;font-size:1.4rem;font-weight:600}h6,.font-h6{margin-bottom:.4em;font-size:14px;font-size:1.4rem;font-weight:400}@media (min-width:669px){h1,.font-h1{font-size:42px;font-size:4.2rem}h2,.font-h2{font-size:32px;font-size:3.2rem}h3,.font-h3{font-size:26px;font-size:2.6rem}h4,.font-h4{font-size:21px;font-size:2.1rem}h5,.font-h5{font-size:18px;font-size:1.8rem}h6,.font-h6{font-size:18px;font-size:1.8rem}}.background{background-color:#f2f2f2!important}.background-white{background-color:#fff!important}.background-brandblue{background-color:#003468!important}.background-brandorange{background-color:#ff7500!important}.background-confirm{background-color:#edf8dd!important}.background-info{background-color:#f4f6f8!important}.background-warning{background-color:#fff7d9!important}.background-error{background-color:#ffdddc!important}.border-none,.border-top-none,.border-vertical-none{border-top:0!important}.border-none,.border-right-none,.border-horizontal-none{border-right:0!important}.border-none,.border-bottom-none,.border-vertical-none{border-bottom:0!important}.border-none,.border-left-none,.border-horizontal-none{border-left:0!important}.border{border:1px solid #e0e0e0!important}.border-top,.border-vertical{border-top:1px solid #e0e0e0!important}.border-right,.border-horizontal{border-right:1px solid #e0e0e0!important}.border-bottom,.border-vertical{border-bottom:1px solid #e0e0e0!important}.border-left,.border-horizontal{border-left:1px solid #e0e0e0!important}.border-error{border-color:#b80000!important}.border-warning{border-color:#662505!important}.border-info{border-color:#003468!important}.border-confirm{border-color:#1a6600!important}.border-solid{border-style:solid!important}.border-dotted{border-style:dotted!important}.border-top-solid,.border-vertical-solid{border-top-style:solid!important}.border-right-solid,.border-horizontal-solid{border-right-style:solid!important}.border-bottom-solid,.border-vertical-solid{border-bottom-style:solid!important}.border-left-solid,.border-horizontal-solid{border-left-style:solid!important}.border-top-dotted,.border-vertical-dotted{border-top-style:dotted!important}.border-right-dotted,.border-horizontal-dotted{border-right-style:dotted!important}.border-bottom-dotted,.border-vertical-dotted{border-bottom-style:dotted!important}.border-left-dotted,.border-horizontal-dotted{border-left-style:dotted!important}.shadow{box-shadow:0 5px 5px -5px #cacaca!important}.shadow-none{box-shadow:none!important}.font-xs{font-size:11px!important;font-size:1.1rem!important}.font-s{font-size:13px!important;font-size:1.3rem!important}.font-standard{font-size:14px!important;font-size:1.4rem!important}.font-m{font-size:14px!important;font-size:1.4rem!important}.font-l{font-size:18px!important;font-size:1.8rem!important}.font-xl{font-size:20px!important;font-size:2rem!important}.font-xxl{font-size:23px!important;font-size:2.3rem!important}.font-xxxl{font-size:32px!important;font-size:3.2rem!important}@media (min-width:669px){.font-xs{font-size:11px!important;font-size:1.1rem!important}.font-s{font-size:13px!important;font-size:1.3rem!important}.font-standard{font-size:14px!important;font-size:1.4rem!important}.font-m{font-size:18px!important;font-size:1.8rem!important}.font-l{font-size:21px!important;font-size:2.1rem!important}.font-xl{font-size:26px!important;font-size:2.6rem!important}.font-xxl{font-size:32px!important;font-size:3.2rem!important}.font-xxxl{font-size:42px!important;font-size:4.2rem!important}}.font-line-xs{line-height:1.15!important}.font-line-s{line-height:1.45!important}.font-line-standard{line-height:1.6!important}.font-light{font-weight:300!important}.font-normal{font-weight:400!important}.font-semibold{font-weight:600!important}.font-bold{font-weight:700!important}.font-italic{font-style:italic!important}.font-strike{text-decoration:line-through!important}.font-uppercase{text-transform:uppercase!important}.font-capitalized{text-transform:capitalize!important}.font-white{color:#fff!important}.font-regular{color:#343434!important}.font-lightgray{color:#969696!important}.font-brandorange{color:#ff7500!important}.font-error{color:#b80000!important}.font-confirm{color:#1a6600!important}.font-info{color:#003468!important}.font-warning{color:#662505!important}.font-nowrap{white-space:nowrap!important}.font-break-all{word-break:break-all}.font-ellipsis{display:block;overflow:hidden;white-space:nowrap;text-overflow:ellipsis;word-break:normal}.font-center{text-align:center!important}.font-left{text-align:left!important}.font-right{text-align:right!important}.inline{display:inline!important}.inline-block{display:inline-block!important}.block{display:block!important}.align-center{text-align:center!important}.align-left{text-align:left!important}.align-right{text-align:right!important}.align-baseline{vertical-align:baseline!important}.align-top{vertical-align:top!important}.align-middle{vertical-align:middle!important}.align-bottom{vertical-align:bottom!important}.float-left{float:left!important}.float-right{float:right!important}.float-none{float:none!important}.clear-both{clear:both!important}.clear-left{clear:left!important}.clear-right{clear:right!important}.overflow-hidden{overflow:hidden!important}.hide{display:none!important}@media (max-width:668px){.palm-hide{display:none!important}}@media (min-width:669px) and (max-width:1013px){.lap-hide{display:none!important}}@media (min-width:1014px){.desk-hide{display:none!important}}@media print{.print-hide{display:none!important}}.invisible{visibility:hidden!important}.margin-none,.margin-top-none,.margin-vertical-none{margin-top:0!important}.margin-none,.margin-right-none,.margin-horizontal-none{margin-right:0!important}.margin-none,.margin-bottom-none,.margin-vertical-none{margin-bottom:0!important}.margin-none,.margin-left-none,.margin-horizontal-none{margin-left:0!important}.margin{margin:8px!important}.margin-xs{margin:2px!important}.margin-s{margin:4px!important}.margin-m{margin:8px!important}.margin-l{margin:16px!important}.margin-xl{margin:24px!important}.margin-xxl{margin:32px!important}.margin-top,.margin-vertical{margin-top:8px!important}.margin-right,.margin-horizontal{margin-right:8px!important}.margin-bottom,.margin-vertical{margin-bottom:8px!important}.margin-left,.margin-horizontal{margin-left:8px!important}.margin-top-xs,.margin-vertical-xs{margin-top:2px!important}.margin-right-xs,.margin-horizontal-xs{margin-right:2px!important}.margin-bottom-xs,.margin-vertical-xs{margin-bottom:2px!important}.margin-left-xs,.margin-horizontal-xs{margin-left:2px!important}.margin-top-s,.margin-vertical-s{margin-top:4px!important}.margin-right-s,.margin-horizontal-s{margin-right:4px!important}.margin-bottom-s,.margin-vertical-s{margin-bottom:4px!important}.margin-left-s,.margin-horizontal-s{margin-left:4px!important}.margin-top-m,.margin-vertical-m{margin-top:8px!important}.margin-right-m,.margin-horizontal-m{margin-right:8px!important}.margin-bottom-m,.margin-vertical-m{margin-bottom:8px!important}.margin-left-m,.margin-horizontal-m{margin-left:8px!important}.margin-top-l,.margin-vertical-l{margin-top:16px!important}.margin-right-l,.margin-horizontal-l{margin-right:16px!important}.margin-bottom-l,.margin-vertical-l{margin-bottom:16px!important}.margin-left-l,.margin-horizontal-l{margin-left:16px!important}.margin-top-xl,.margin-vertical-xl{margin-top:24px!important}.margin-right-xl,.margin-horizontal-xl{margin-right:24px!important}.margin-bottom-xl,.margin-vertical-xl{margin-bottom:24px!important}.margin-left-xl,.margin-horizontal-xl{margin-left:24px!important}.margin-top-xxl,.margin-vertical-xxl{margin-top:32px!important}.margin-right-xxl,.margin-horizontal-xxl{margin-right:32px!important}.margin-bottom-xxl,.margin-vertical-xxl{margin-bottom:32px!important}.margin-left-xxl,.margin-horizontal-xxl{margin-left:32px!important}@media (min-width:669px){.margin-none,.margin-top-none,.margin-vertical-none{margin-top:0!important}.margin-none,.margin-right-none,.margin-horizontal-none{margin-right:0!important}.margin-none,.margin-bottom-none,.margin-vertical-none{margin-bottom:0!important}.margin-none,.margin-left-none,.margin-horizontal-none{margin-left:0!important}.margin{margin:16px!important}.margin-xs{margin:4px!important}.margin-s{margin:8px!important}.margin-m{margin:16px!important}.margin-l{margin:24px!important}.margin-xl{margin:32px!important}.margin-xxl{margin:40px!important}.margin-top,.margin-vertical{margin-top:16px!important}.margin-right,.margin-horizontal{margin-right:16px!important}.margin-bottom,.margin-vertical{margin-bottom:16px!important}.margin-left,.margin-horizontal{margin-left:16px!important}.margin-top-xs,.margin-vertical-xs{margin-top:4px!important}.margin-right-xs,.margin-horizontal-xs{margin-right:4px!important}.margin-bottom-xs,.margin-vertical-xs{margin-bottom:4px!important}.margin-left-xs,.margin-horizontal-xs{margin-left:4px!important}.margin-top-s,.margin-vertical-s{margin-top:8px!important}.margin-right-s,.margin-horizontal-s{margin-right:8px!important}.margin-bottom-s,.margin-vertical-s{margin-bottom:8px!important}.margin-left-s,.margin-horizontal-s{margin-left:8px!important}.margin-top-m,.margin-vertical-m{margin-top:16px!important}.margin-right-m,.margin-horizontal-m{margin-right:16px!important}.margin-bottom-m,.margin-vertical-m{margin-bottom:16px!important}.margin-left-m,.margin-horizontal-m{margin-left:16px!important}.margin-top-l,.margin-vertical-l{margin-top:24px!important}.margin-right-l,.margin-horizontal-l{margin-right:24px!important}.margin-bottom-l,.margin-vertical-l{margin-bottom:24px!important}.margin-left-l,.margin-horizontal-l{margin-left:24px!important}.margin-top-xl,.margin-vertical-xl{margin-top:32px!important}.margin-right-xl,.margin-horizontal-xl{margin-right:32px!important}.margin-bottom-xl,.margin-vertical-xl{margin-bottom:32px!important}.margin-left-xl,.margin-horizontal-xl{margin-left:32px!important}.margin-top-xxl,.margin-vertical-xxl{margin-top:40px!important}.margin-right-xxl,.margin-horizontal-xxl{margin-right:40px!important}.margin-bottom-xxl,.margin-vertical-xxl{margin-bottom:40px!important}.margin-left-xxl,.margin-horizontal-xxl{margin-left:40px!important}}.padding-none,.padding-top-none,.padding-vertical-none{padding-top:0!important}.padding-none,.padding-right-none,.padding-horizontal-none{padding-right:0!important}.padding-none,.padding-bottom-none,.padding-vertical-none{padding-bottom:0!important}.padding-none,.padding-left-none,.padding-horizontal-none{padding-left:0!important}.padding{padding:8px!important}.padding-xs{padding:2px!important}.padding-s{padding:4px!important}.padding-m{padding:8px!important}.padding-l{padding:16px!important}.padding-xl{padding:24px!important}.padding-xxl{padding:32px!important}.padding-top,.padding-vertical{padding-top:8px!important}.padding-right,.padding-horizontal{padding-right:8px!important}.padding-bottom,.padding-vertical{padding-bottom:8px!important}.padding-left,.padding-horizontal{padding-left:8px!important}.padding-top-xs,.padding-vertical-xs{padding-top:2px!important}.padding-right-xs,.padding-horizontal-xs{padding-right:2px!important}.padding-bottom-xs,.padding-vertical-xs{padding-bottom:2px!important}.padding-left-xs,.padding-horizontal-xs{padding-left:2px!important}.padding-top-s,.padding-vertical-s{padding-top:4px!important}.padding-right-s,.padding-horizontal-s{padding-right:4px!important}.padding-bottom-s,.padding-vertical-s{padding-bottom:4px!important}.padding-left-s,.padding-horizontal-s{padding-left:4px!important}.padding-top-m,.padding-vertical-m{padding-top:8px!important}.padding-right-m,.padding-horizontal-m{padding-right:8px!important}.padding-bottom-m,.padding-vertical-m{padding-bottom:8px!important}.padding-left-m,.padding-horizontal-m{padding-left:8px!important}.padding-top-l,.padding-vertical-l{padding-top:16px!important}.padding-right-l,.padding-horizontal-l{padding-right:16px!important}.padding-bottom-l,.padding-vertical-l{padding-bottom:16px!important}.padding-left-l,.padding-horizontal-l{padding-left:16px!important}.padding-top-xl,.padding-vertical-xl{padding-top:24px!important}.padding-right-xl,.padding-horizontal-xl{padding-right:24px!important}.padding-bottom-xl,.padding-vertical-xl{padding-bottom:24px!important}.padding-left-xl,.padding-horizontal-xl{padding-left:24px!important}.padding-top-xxl,.padding-vertical-xxl{padding-top:32px!important}.padding-right-xxl,.padding-horizontal-xxl{padding-right:32px!important}.padding-bottom-xxl,.padding-vertical-xxl{padding-bottom:32px!important}.padding-left-xxl,.padding-horizontal-xxl{padding-left:32px!important}@media (min-width:669px){.padding-none,.padding-top-none,.padding-vertical-none{padding-top:0!important}.padding-none,.padding-right-none,.padding-horizontal-none{padding-right:0!important}.padding-none,.padding-bottom-none,.padding-vertical-none{padding-bottom:0!important}.padding-none,.padding-left-none,.padding-horizontal-none{padding-left:0!important}.padding{padding:16px!important}.padding-xs{padding:4px!important}.padding-s{padding:8px!important}.padding-m{padding:16px!important}.padding-l{padding:24px!important}.padding-xl{padding:32px!important}.padding-xxl{padding:40px!important}.padding-top,.padding-vertical{padding-top:16px!important}.padding-right,.padding-horizontal{padding-right:16px!important}.padding-bottom,.padding-vertical{padding-bottom:16px!important}.padding-left,.padding-horizontal{padding-left:16px!important}.padding-top-xs,.padding-vertical-xs{padding-top:4px!important}.padding-right-xs,.padding-horizontal-xs{padding-right:4px!important}.padding-bottom-xs,.padding-vertical-xs{padding-bottom:4px!important}.padding-left-xs,.padding-horizontal-xs{padding-left:4px!important}.padding-top-s,.padding-vertical-s{padding-top:8px!important}.padding-right-s,.padding-horizontal-s{padding-right:8px!important}.padding-bottom-s,.padding-vertical-s{padding-bottom:8px!important}.padding-left-s,.padding-horizontal-s{padding-left:8px!important}.padding-top-m,.padding-vertical-m{padding-top:16px!important}.padding-right-m,.padding-horizontal-m{padding-right:16px!important}.padding-bottom-m,.padding-vertical-m{padding-bottom:16px!important}.padding-left-m,.padding-horizontal-m{padding-left:16px!important}.padding-top-l,.padding-vertical-l{padding-top:24px!important}.padding-right-l,.padding-horizontal-l{padding-right:24px!important}.padding-bottom-l,.padding-vertical-l{padding-bottom:24px!important}.padding-left-l,.padding-horizontal-l{padding-left:24px!important}.padding-top-xl,.padding-vertical-xl{padding-top:32px!important}.padding-right-xl,.padding-horizontal-xl{padding-right:32px!important}.padding-bottom-xl,.padding-vertical-xl{padding-bottom:32px!important}.padding-left-xl,.padding-horizontal-xl{padding-left:32px!important}.padding-top-xxl,.padding-vertical-xxl{padding-top:40px!important}.padding-right-xxl,.padding-horizontal-xxl{padding-right:40px!important}.padding-bottom-xxl,.padding-vertical-xxl{padding-bottom:40px!important}.padding-left-xxl,.padding-horizontal-xxl{padding-left:40px!important}}.automatic-width{width:auto!important}.one-whole{width:100%!important}.one-half,.two-fourths,.four-eighths,.three-sixths,.five-tenths,.six-twelfths{width:50%!important}.one-third,.two-sixths,.four-twelfths{width:33.333%!important}.two-thirds,.four-sixths,.eight-twelfths{width:66.666%!important}.one-fourth,.two-eighths,.three-twelfths{width:25%!important}.three-fourths,.six-eighths,.nine-twelfths{width:75%!important}.one-fifth,.two-tenths{width:20%!important}.two-fifths,.four-tenths{width:40%!important}.three-fifths,.six-tenths{width:60%!important}.four-fifths,.eight-tenths{width:80%!important}.one-sixth,.two-twelfths{width:16.666%!important}.five-sixths,.ten-twelfths{width:83.333%!important}.one-eighth{width:12.5%!important}.three-eighths{width:37.5%!important}.five-eighths{width:62.5%!important}.seven-eighths{width:87.5%!important}.one-tenth{width:10%!important}.three-tenths{width:30%!important}.seven-tenths{width:70%!important}.nine-tenths{width:90%!important}.one-twelfth{width:8.333%!important}.five-twelfths{width:41.666%!important}.seven-twelfths{width:58.333%!important}.ten-twelfths{width:83.333%!important}.eleven-twelfths{width:91.666%!important}@media (max-width:668px){.palm-automatic-width{width:auto!important}.palm-one-whole{width:100%!important}.palm-one-half,.palm-two-fourths,.palm-four-eighths,.palm-three-sixths,.palm-five-tenths,.palm-six-twelfths{width:50%!important}.palm-one-third,.palm-two-sixths,.palm-four-twelfths{width:33.333%!important}.palm-two-thirds,.palm-four-sixths,.palm-eight-twelfths{width:66.666%!important}.palm-one-fourth,.palm-two-eighths,.palm-three-twelfths{width:25%!important}.palm-three-fourths,.palm-six-eighths,.palm-nine-twelfths{width:75%!important}.palm-one-fifth,.palm-two-tenths{width:20%!important}.palm-two-fifths,.palm-four-tenths{width:40%!important}.palm-three-fifths,.palm-six-tenths{width:60%!important}.palm-four-fifths,.palm-eight-tenths{width:80%!important}.palm-one-sixth,.palm-two-twelfths{width:16.666%!important}.palm-five-sixths,.palm-ten-twelfths{width:83.333%!important}.palm-one-eighth{width:12.5%!important}.palm-three-eighths{width:37.5%!important}.palm-five-eighths{width:62.5%!important}.palm-seven-eighths{width:87.5%!important}.palm-one-tenth{width:10%!important}.palm-three-tenths{width:30%!important}.palm-seven-tenths{width:70%!important}.palm-nine-tenths{width:90%!important}.palm-one-twelfth{width:8.333%!important}.palm-five-twelfths{width:41.666%!important}.palm-seven-twelfths{width:58.333%!important}.palm-ten-twelfths{width:83.333%!important}.palm-eleven-twelfths{width:91.666%!important}}@media (min-width:669px) and (max-width:1013px){.lap-automatic-width{width:auto!important}.lap-one-whole{width:100%!important}.lap-one-half,.lap-two-fourths,.lap-four-eighths,.lap-three-sixths,.lap-five-tenths,.lap-six-twelfths{width:50%!important}.lap-one-third,.lap-two-sixths,.lap-four-twelfths{width:33.333%!important}.lap-two-thirds,.lap-four-sixths,.lap-eight-twelfths{width:66.666%!important}.lap-one-fourth,.lap-two-eighths,.lap-three-twelfths{width:25%!important}.lap-three-fourths,.lap-six-eighths,.lap-nine-twelfths{width:75%!important}.lap-one-fifth,.lap-two-tenths{width:20%!important}.lap-two-fifths,.lap-four-tenths{width:40%!important}.lap-three-fifths,.lap-six-tenths{width:60%!important}.lap-four-fifths,.lap-eight-tenths{width:80%!important}.lap-one-sixth,.lap-two-twelfths{width:16.666%!important}.lap-five-sixths,.lap-ten-twelfths{width:83.333%!important}.lap-one-eighth{width:12.5%!important}.lap-three-eighths{width:37.5%!important}.lap-five-eighths{width:62.5%!important}.lap-seven-eighths{width:87.5%!important}.lap-one-tenth{width:10%!important}.lap-three-tenths{width:30%!important}.lap-seven-tenths{width:70%!important}.lap-nine-tenths{width:90%!important}.lap-one-twelfth{width:8.333%!important}.lap-five-twelfths{width:41.666%!important}.lap-seven-twelfths{width:58.333%!important}.lap-ten-twelfths{width:83.333%!important}.lap-eleven-twelfths{width:91.666%!important}}@media (min-width:1014px){.desk-automatic-width{width:auto!important}.desk-one-whole{width:100%!important}.desk-one-half,.desk-two-fourths,.desk-four-eighths,.desk-three-sixths,.desk-five-tenths,.desk-six-twelfths{width:50%!important}.desk-one-third,.desk-two-sixths,.desk-four-twelfths{width:33.333%!important}.desk-two-thirds,.desk-four-sixths,.desk-eight-twelfths{width:66.666%!important}.desk-one-fourth,.desk-two-eighths,.desk-three-twelfths{width:25%!important}.desk-three-fourths,.desk-six-eighths,.desk-nine-twelfths{width:75%!important}.desk-one-fifth,.desk-two-tenths{width:20%!important}.desk-two-fifths,.desk-four-tenths{width:40%!important}.desk-three-fifths,.desk-six-tenths{width:60%!important}.desk-four-fifths,.desk-eight-tenths{width:80%!important}.desk-one-sixth,.desk-two-twelfths{width:16.666%!important}.desk-five-sixths,.desk-ten-twelfths{width:83.333%!important}.desk-one-eighth{width:12.5%!important}.desk-three-eighths{width:37.5%!important}.desk-five-eighths{width:62.5%!important}.desk-seven-eighths{width:87.5%!important}.desk-one-tenth{width:10%!important}.desk-three-tenths{width:30%!important}.desk-seven-tenths{width:70%!important}.desk-nine-tenths{width:90%!important}.desk-one-twelfth{width:8.333%!important}.desk-five-twelfths{width:41.666%!important}.desk-seven-twelfths{width:58.333%!important}.desk-ten-twelfths{width:83.333%!important}.desk-eleven-twelfths{width:91.666%!important}}a.disabled:link,a.disabled:visited,a.disabled:hover,a.disabled:focus,a.disabled:active{cursor:default;color:#343434;text-decoration:none}.fineprint{font-size:13px;font-size:1.3rem;line-height:1.45;color:#969696}@media (min-width:669px){.fineprint{font-size:13px;font-size:1.3rem}}.clearfix:after{display:table;clear:both;content:\"\"}.clearfix-before:before{display:table;clear:both;content:\"\"}.vertical-center-container{height:100%}.vertical-center-container:after{content:\"\";height:100%}.vertical-center-container:after,.vertical-center{display:inline-block;vertical-align:middle}.horizontal-center{margin:0 auto;display:block}.cursor-pointer{cursor:pointer}.height-full{height:100%}ul.touch-area a,a.touch-area{display:block;padding-top:.5em;padding-bottom:.5em;width:100%}ul.touch-area li,ul.touch-area ul{margin-top:0!important;margin-bottom:0!important}@media (max-width:668px){ul.palm-touch-area a,a.palm-touch-area{display:block;padding-top:.5em;padding-bottom:.5em;width:100%}ul.palm-touch-area li,ul.palm-touch-area ul{margin-top:0!important;margin-bottom:0!important}}@media (min-width:669px) and (max-width:1013px){ul.lap-touch-area a,a.lap-touch-area{display:block;padding-top:.5em;padding-bottom:.5em;width:100%}ul.lap-touch-area li,ul.lap-touch-area ul{margin-top:0!important;margin-bottom:0!important}}@media (min-width:1014px){ul.desk-touch-area a,a.desk-touch-area{display:block;padding-top:.5em;padding-bottom:.5em;width:100%}ul.desk-touch-area li,ul.desk-touch-area ul{margin-top:0!important;margin-bottom:0!important}}ol,.list-bullet{overflow:hidden;list-style-position:outside}ol li{margin-left:2.333em}ol li:nth-child(n){margin-left:1.75em}ol li:nth-child(n+10){margin-left:2.333em}ol li:nth-child(n+100){margin-left:2.916em}.list-bullet{list-style-type:disc}.list-bullet>li{margin-left:1.333em}.list-check>li{position:relative;padding-left:1.5em}.list-check>li:before{content:\"\\f00c\";position:absolute;left:0;font-family:FontAwesome;color:#343434}.list-spacing>li{margin-bottom:8px}.list-spacing-xs>li{margin-bottom:2px}.list-spacing-s>li{margin-bottom:4px}.list-spacing-m>li{margin-bottom:8px}.list-spacing-l>li{margin-bottom:16px}.list-spacing-xl>li{margin-bottom:24px}.list-spacing-xxl>li{margin-bottom:32px}@media (min-width:669px){.list-spacing>li{margin-bottom:16px}.list-spacing-xs>li{margin-bottom:4px}.list-spacing-s>li{margin-bottom:8px}.list-spacing-m>li{margin-bottom:16px}.list-spacing-l>li{margin-bottom:24px}.list-spacing-xl>li{margin-bottom:32px}.list-spacing-xxl>li{margin-bottom:40px}}.grid{display:block;margin-right:0}.grid:after{display:table;clear:both;content:\"\"}.grid-item{display:block;float:left;width:100%;vertical-align:top;text-align:left}.gutter,.gutter-horizontal{margin-left:-16px}.gutter>.grid-item,.gutter-vertical>.grid-item{margin-bottom:16px}.gutter>.grid-item,.gutter-horizontal>.grid-item{padding-left:16px}.gutter-xs,.gutter-horizontal-xs{margin-left:-2px}.gutter-xs>.grid-item,.gutter-vertical-xs>.grid-item{margin-bottom:2px}.gutter-xs>.grid-item,.gutter-horizontal-xs>.grid-item{padding-left:2px}.gutter-s,.gutter-horizontal-s{margin-left:-4px}.gutter-s>.grid-item,.gutter-vertical-s>.grid-item{margin-bottom:4px}.gutter-s>.grid-item,.gutter-horizontal-s>.grid-item{padding-left:4px}.gutter-m,.gutter-horizontal-m{margin-left:-8px}.gutter-m>.grid-item,.gutter-vertical-m>.grid-item{margin-bottom:8px}.gutter-m>.grid-item,.gutter-horizontal-m>.grid-item{padding-left:8px}.gutter-l,.gutter-horizontal-l{margin-left:-16px}.gutter-l>.grid-item,.gutter-vertical-l>.grid-item{margin-bottom:16px}.gutter-l>.grid-item,.gutter-horizontal-l>.grid-item{padding-left:16px}.gutter-xl,.gutter-horizontal-xl{margin-left:-24px}.gutter-xl>.grid-item,.gutter-vertical-xl>.grid-item{margin-bottom:24px}.gutter-xl>.grid-item,.gutter-horizontal-xl>.grid-item{padding-left:24px}.gutter-xxl,.gutter-horizontal-xxl{margin-left:-32px}.gutter-xxl>.grid-item,.gutter-vertical-xxl>.grid-item{margin-bottom:32px}.gutter-xxl>.grid-item,.gutter-horizontal-xxl>.grid-item{padding-left:32px}@media (min-width:669px){.gutter,.gutter-horizontal{margin-left:-24px}.gutter>.grid-item,.gutter-vertical>.grid-item{margin-bottom:24px}.gutter>.grid-item,.gutter-horizontal>.grid-item{padding-left:24px}.gutter-xs,.gutter-horizontal-xs{margin-left:-4px}.gutter-xs>.grid-item,.gutter-vertical-xs>.grid-item{margin-bottom:4px}.gutter-xs>.grid-item,.gutter-horizontal-xs>.grid-item{padding-left:4px}.gutter-s,.gutter-horizontal-s{margin-left:-8px}.gutter-s>.grid-item,.gutter-vertical-s>.grid-item{margin-bottom:8px}.gutter-s>.grid-item,.gutter-horizontal-s>.grid-item{padding-left:8px}.gutter-m,.gutter-horizontal-m{margin-left:-16px}.gutter-m>.grid-item,.gutter-vertical-m>.grid-item{margin-bottom:16px}.gutter-m>.grid-item,.gutter-horizontal-m>.grid-item{padding-left:16px}.gutter-l,.gutter-horizontal-l{margin-left:-24px}.gutter-l>.grid-item,.gutter-vertical-l>.grid-item{margin-bottom:24px}.gutter-l>.grid-item,.gutter-horizontal-l>.grid-item{padding-left:24px}.gutter-xl,.gutter-horizontal-xl{margin-left:-32px}.gutter-xl>.grid-item,.gutter-vertical-xl>.grid-item{margin-bottom:32px}.gutter-xl>.grid-item,.gutter-horizontal-xl>.grid-item{padding-left:32px}.gutter-xxl,.gutter-horizontal-xxl{margin-left:-40px}.gutter-xxl>.grid-item,.gutter-vertical-xxl>.grid-item{margin-bottom:40px}.gutter-xxl>.grid-item,.gutter-horizontal-xxl>.grid-item{padding-left:40px}}.push-one-half,.push-two-fourths,.push-three-sixths,.push-four-eighths,.push-five-tenths,.push-six-twelfths{margin-left:50%}.push-one-third,.push-two-sixths,.push-four-twelfths{margin-left:33.333%}.push-two-thirds,.push-four-sixths,.push-eight-twelfths{margin-left:66.666%}.push-one-fourth,.push-two-eighths,.push-three-twelfths{margin-left:25%}.push-three-fourths,.push-six-eighths,.push-nine-twelfths{margin-left:75%}.push-one-fifth,.push-two-tenths{margin-left:20%}.push-two-fifths,.push-four-tenths{margin-left:40%}.push-three-fifths,.push-six-tenths{margin-left:60%}.push-four-fifths,.push-eight-tenths{margin-left:80%}.push-one-sixth,.push-two-twelfths{margin-left:16.666%}.push-five-sixths,.push-ten-twelfths{margin-left:83.333%}.push-one-eighth{margin-left:12.5%}.push-three-eighths{margin-left:37.5%}.push-five-eighths{margin-left:62.5%}.push-seven-eighths{margin-left:87.5%}.push-one-tenth{margin-left:10%}.push-three-tenths{margin-left:30%}.push-seven-tenths{margin-left:70%}.push-nine-tenths{margin-left:90%}.push-one-twelfth{margin-left:8.333%}.push-five-twelfths{margin-left:41.666%}.push-seven-twelfths{margin-left:58.333%}.push-ten-twelfths{margin-left:83.333%}.push-eleven-twelfths{margin-left:91.666%}@media (max-width:668px){.palm-push-one-half,.palm-push-two-fourths,.palm-push-three-sixths,.palm-push-four-eighths,.palm-push-five-tenths,.palm-push-six-twelfths{margin-left:50%}.palm-push-one-third,.palm-push-two-sixths,.palm-push-four-twelfths{margin-left:33.333%}.palm-push-two-thirds,.palm-push-four-sixths,.palm-push-eight-twelfths{margin-left:66.666%}.palm-push-one-fourth,.palm-push-two-eighths,.palm-push-three-twelfths{margin-left:25%}.palm-push-three-fourths,.palm-push-six-eighths,.palm-push-nine-twelfths{margin-left:75%}.palm-push-one-fifth,.palm-push-two-tenths{margin-left:20%}.palm-push-two-fifths,.palm-push-four-tenths{margin-left:40%}.palm-push-three-fifths,.palm-push-six-tenths{margin-left:60%}.palm-push-four-fifths,.palm-push-eight-tenths{margin-left:80%}.palm-push-one-sixth,.palm-push-two-twelfths{margin-left:16.666%}.palm-push-five-sixths,.palm-push-ten-twelfths{margin-left:83.333%}.palm-push-one-eighth{margin-left:12.5%}.palm-push-three-eighths{margin-left:37.5%}.palm-push-five-eighths{margin-left:62.5%}.palm-push-seven-eighths{margin-left:87.5%}.palm-push-one-tenth{margin-left:10%}.palm-push-three-tenths{margin-left:30%}.palm-push-seven-tenths{margin-left:70%}.palm-push-nine-tenths{margin-left:90%}.palm-push-one-twelfth{margin-left:8.333%}.palm-push-five-twelfths{margin-left:41.666%}.palm-push-seven-twelfths{margin-left:58.333%}.palm-push-ten-twelfths{margin-left:83.333%}.palm-push-eleven-twelfths{margin-left:91.666%}}@media (min-width:669px) and (max-width:1013px){.lap-push-one-half,.lap-push-two-fourths,.lap-push-three-sixths,.lap-push-four-eighths,.lap-push-five-tenths,.lap-push-six-twelfths{margin-left:50%}.lap-push-one-third,.lap-push-two-sixths,.lap-push-four-twelfths{margin-left:33.333%}.lap-push-two-thirds,.lap-push-four-sixths,.lap-push-eight-twelfths{margin-left:66.666%}.lap-push-one-fourth,.lap-push-two-eighths,.lap-push-three-twelfths{margin-left:25%}.lap-push-three-fourths,.lap-push-six-eighths,.lap-push-nine-twelfths{margin-left:75%}.lap-push-one-fifth,.lap-push-two-tenths{margin-left:20%}.lap-push-two-fifths,.lap-push-four-tenths{margin-left:40%}.lap-push-three-fifths,.lap-push-six-tenths{margin-left:60%}.lap-push-four-fifths,.lap-push-eight-tenths{margin-left:80%}.lap-push-one-sixth,.lap-push-two-twelfths{margin-left:16.666%}.lap-push-five-sixths,.lap-push-ten-twelfths{margin-left:83.333%}.lap-push-one-eighth{margin-left:12.5%}.lap-push-three-eighths{margin-left:37.5%}.lap-push-five-eighths{margin-left:62.5%}.lap-push-seven-eighths{margin-left:87.5%}.lap-push-one-tenth{margin-left:10%}.lap-push-three-tenths{margin-left:30%}.lap-push-seven-tenths{margin-left:70%}.lap-push-nine-tenths{margin-left:90%}.lap-push-one-twelfth{margin-left:8.333%}.lap-push-five-twelfths{margin-left:41.666%}.lap-push-seven-twelfths{margin-left:58.333%}.lap-push-ten-twelfths{margin-left:83.333%}.lap-push-eleven-twelfths{margin-left:91.666%}}@media (min-width:1014px){.desk-push-one-half,.desk-push-two-fourths,.desk-push-three-sixths,.desk-push-four-eighths,.desk-push-five-tenths,.desk-push-six-twelfths{margin-left:50%}.desk-push-one-third,.desk-push-two-sixths,.desk-push-four-twelfths{margin-left:33.333%}.desk-push-two-thirds,.desk-push-four-sixths,.desk-push-eight-twelfths{margin-left:66.666%}.desk-push-one-fourth,.desk-push-two-eighths,.desk-push-three-twelfths{margin-left:25%}.desk-push-three-fourths,.desk-push-six-eighths,.desk-push-nine-twelfths{margin-left:75%}.desk-push-one-fifth,.desk-push-two-tenths{margin-left:20%}.desk-push-two-fifths,.desk-push-four-tenths{margin-left:40%}.desk-push-three-fifths,.desk-push-six-tenths{margin-left:60%}.desk-push-four-fifths,.desk-push-eight-tenths{margin-left:80%}.desk-push-one-sixth,.desk-push-two-twelfths{margin-left:16.666%}.desk-push-five-sixths,.desk-push-ten-twelfths{margin-left:83.333%}.desk-push-one-eighth{margin-left:12.5%}.desk-push-three-eighths{margin-left:37.5%}.desk-push-five-eighths{margin-left:62.5%}.desk-push-seven-eighths{margin-left:87.5%}.desk-push-one-tenth{margin-left:10%}.desk-push-three-tenths{margin-left:30%}.desk-push-seven-tenths{margin-left:70%}.desk-push-nine-tenths{margin-left:90%}.desk-push-one-twelfth{margin-left:8.333%}.desk-push-five-twelfths{margin-left:41.666%}.desk-push-seven-twelfths{margin-left:58.333%}.desk-push-ten-twelfths{margin-left:83.333%}.desk-push-eleven-twelfths{margin-left:91.666%}}.grid-flex{display:-webkit-flex;display:-moz-flex;display:-ms-flexbox;display:-ms-flex;display:flex;-webkit-flex-flow:row wrap;-moz-flex-flow:row wrap;-ms-flex-flow:row wrap;flex-flow:row wrap}.grid-flex>.grid-item{-webkit-flex:0 1 auto;-moz-flex:0 1 auto;-ms-flex:0 1 auto;flex:0 1 auto;width:auto}@media (min-width:1px){.grid-flex:after{content:none}}@media (min-width:0\\0) and (min-resolution:.001dpcm){.grid-flex:after{content:\"\"}}.grid-align-start{-ms-flex-align:start;-webkit-align-items:flex-start;-moz-align-items:flex-start;-ms-align-items:flex-start;align-items:flex-start;-webkit-align-self:flex-start;-moz-align-self:flex-start;-ms-align-self:flex-start;align-self:flex-start}.grid-align-end{-ms-flex-align:end;-webkit-align-items:flex-end;-moz-align-items:flex-end;-ms-align-items:flex-end;align-items:flex-end;-webkit-align-self:flex-end;-moz-align-self:flex-end;-ms-align-self:flex-end;align-self:flex-end}.grid-align-center{-ms-flex-align:center;-webkit-align-items:center;-moz-align-items:center;-ms-align-items:center;align-items:center;-webkit-align-self:center;-moz-align-self:center;-ms-align-self:center;align-self:center}.grid-align-baseline{-ms-flex-align:baseline;-webkit-align-items:baseline;-moz-align-items:baseline;-ms-align-items:baseline;align-items:baseline;-webkit-align-self:baseline;-moz-align-self:baseline;-ms-align-self:baseline;align-self:baseline}.grid-align-stretch{-ms-flex-align:stretch;-webkit-align-items:stretch;-moz-align-items:stretch;-ms-align-items:stretch;align-items:stretch;-webkit-align-self:stretch;-moz-align-self:stretch;-ms-align-self:stretch;align-self:stretch}.grid-justify-start{-ms-flex-pack:start;-webkit-justify-content:flex-start;-moz-justify-content:flex-start;-ms-justify-content:flex-start;justify-content:flex-start}.grid-justify-end{-ms-flex-pack:end;-webkit-justify-content:flex-end;-moz-justify-content:flex-end;-ms-justify-content:flex-end;justify-content:flex-end}.grid-justify-center{-ms-flex-pack:center;-webkit-justify-content:center;-moz-justify-content:center;-ms-justify-content:center;justify-content:center}.grid-justify-space-between{-ms-flex-pack:justify;-webkit-justify-content:space-between;-moz-justify-content:space-between;-ms-justify-content:space-between;justify-content:space-between}.grid-justify-space-around{-ms-flex-pack:distribute;-webkit-justify-content:space-around;-moz-justify-content:space-around;-ms-justify-content:space-around;justify-content:space-around}.grid-flex>.grid-item-fixed-width{-webkit-box-sizing:content-box;-moz-box-sizing:content-box;-ms-box-sizing:content-box;-o-box-sizing:content-box;box-sizing:content-box}.grid-flex.grid-fill-rows>.grid-item:not(.grid-item-fixed-width){-webkit-flex:1 1 auto;-moz-flex:1 1 auto;-ms-flex:1 1 auto;flex:1 1 auto}.order-five-up{-webkit-order:-5;-moz-order:-5;-ms-flex-order:-5;-ms-order:-5;order:-5}.order-four-up{-webkit-order:-4;-moz-order:-4;-ms-flex-order:-4;-ms-order:-4;order:-4}.order-three-up{-webkit-order:-3;-moz-order:-3;-ms-flex-order:-3;-ms-order:-3;order:-3}.order-two-up{-webkit-order:-2;-moz-order:-2;-ms-flex-order:-2;-ms-order:-2;order:-2}.order-one-up{-webkit-order:-1;-moz-order:-1;-ms-flex-order:-1;-ms-order:-1;order:-1}.order-default{-webkit-order:0;-moz-order:0;-ms-flex-order:0;-ms-order:0;order:0}.order-one-down{-webkit-order:1;-moz-order:1;-ms-flex-order:1;-ms-order:1;order:1}.order-two-down{-webkit-order:2;-moz-order:2;-ms-flex-order:2;-ms-order:2;order:2}.order-three-down{-webkit-order:3;-moz-order:3;-ms-flex-order:3;-ms-order:3;order:3}.order-four-down{-webkit-order:4;-moz-order:4;-ms-flex-order:4;-ms-order:4;order:4}.order-five-down{-webkit-order:5;-moz-order:5;-ms-flex-order:5;-ms-order:5;order:5}@media (max-width:668px){.palm-order-five-up{-webkit-order:-5;-moz-order:-5;-ms-flex-order:-5;-ms-order:-5;order:-5}.palm-order-four-up{-webkit-order:-4;-moz-order:-4;-ms-flex-order:-4;-ms-order:-4;order:-4}.palm-order-three-up{-webkit-order:-3;-moz-order:-3;-ms-flex-order:-3;-ms-order:-3;order:-3}.palm-order-two-up{-webkit-order:-2;-moz-order:-2;-ms-flex-order:-2;-ms-order:-2;order:-2}.palm-order-one-up{-webkit-order:-1;-moz-order:-1;-ms-flex-order:-1;-ms-order:-1;order:-1}.palm-order-default{-webkit-order:0;-moz-order:0;-ms-flex-order:0;-ms-order:0;order:0}.palm-order-one-down{-webkit-order:1;-moz-order:1;-ms-flex-order:1;-ms-order:1;order:1}.palm-order-two-down{-webkit-order:2;-moz-order:2;-ms-flex-order:2;-ms-order:2;order:2}.palm-order-three-down{-webkit-order:3;-moz-order:3;-ms-flex-order:3;-ms-order:3;order:3}.palm-order-four-down{-webkit-order:4;-moz-order:4;-ms-flex-order:4;-ms-order:4;order:4}.palm-order-five-down{-webkit-order:5;-moz-order:5;-ms-flex-order:5;-ms-order:5;order:5}}@media (min-width:669px) and (max-width:1013px){.lap-order-five-up{-webkit-order:-5;-moz-order:-5;-ms-flex-order:-5;-ms-order:-5;order:-5}.lap-order-four-up{-webkit-order:-4;-moz-order:-4;-ms-flex-order:-4;-ms-order:-4;order:-4}.lap-order-three-up{-webkit-order:-3;-moz-order:-3;-ms-flex-order:-3;-ms-order:-3;order:-3}.lap-order-two-up{-webkit-order:-2;-moz-order:-2;-ms-flex-order:-2;-ms-order:-2;order:-2}.lap-order-one-up{-webkit-order:-1;-moz-order:-1;-ms-flex-order:-1;-ms-order:-1;order:-1}.lap-order-default{-webkit-order:0;-moz-order:0;-ms-flex-order:0;-ms-order:0;order:0}.lap-order-one-down{-webkit-order:1;-moz-order:1;-ms-flex-order:1;-ms-order:1;order:1}.lap-order-two-down{-webkit-order:2;-moz-order:2;-ms-flex-order:2;-ms-order:2;order:2}.lap-order-three-down{-webkit-order:3;-moz-order:3;-ms-flex-order:3;-ms-order:3;order:3}.lap-order-four-down{-webkit-order:4;-moz-order:4;-ms-flex-order:4;-ms-order:4;order:4}.lap-order-five-down{-webkit-order:5;-moz-order:5;-ms-flex-order:5;-ms-order:5;order:5}}@media (min-width:1014px){.desk-order-five-up{-webkit-order:-5;-moz-order:-5;-ms-flex-order:-5;-ms-order:-5;order:-5}.desk-order-four-up{-webkit-order:-4;-moz-order:-4;-ms-flex-order:-4;-ms-order:-4;order:-4}.desk-order-three-up{-webkit-order:-3;-moz-order:-3;-ms-flex-order:-3;-ms-order:-3;order:-3}.desk-order-two-up{-webkit-order:-2;-moz-order:-2;-ms-flex-order:-2;-ms-order:-2;order:-2}.desk-order-one-up{-webkit-order:-1;-moz-order:-1;-ms-flex-order:-1;-ms-order:-1;order:-1}.desk-order-default{-webkit-order:0;-moz-order:0;-ms-flex-order:0;-ms-order:0;order:0}.desk-order-one-down{-webkit-order:1;-moz-order:1;-ms-flex-order:1;-ms-order:1;order:1}.desk-order-two-down{-webkit-order:2;-moz-order:2;-ms-flex-order:2;-ms-order:2;order:2}.desk-order-three-down{-webkit-order:3;-moz-order:3;-ms-flex-order:3;-ms-order:3;order:3}.desk-order-four-down{-webkit-order:4;-moz-order:4;-ms-flex-order:4;-ms-order:4;order:4}.desk-order-five-down{-webkit-order:5;-moz-order:5;-ms-flex-order:5;-ms-order:5;order:5}}.grid-flex.gutter,.grid-flex.gutter-vertical{margin-top:-16px}.grid-flex.gutter>.grid-item,.grid-flex.gutter-vertical>.grid-item{margin-top:16px;margin-bottom:0}.grid-flex.gutter-xs,.grid-flex.gutter-vertical-xs{margin-top:-2px}.grid-flex.gutter-xs>.grid-item,.grid-flex.gutter-vertical-xs>.grid-item{margin-top:2px;margin-bottom:0}.grid-flex.gutter-s,.grid-flex.gutter-vertical-s{margin-top:-4px}.grid-flex.gutter-s>.grid-item,.grid-flex.gutter-vertical-s>.grid-item{margin-top:4px;margin-bottom:0}.grid-flex.gutter-m,.grid-flex.gutter-vertical-m{margin-top:-8px}.grid-flex.gutter-m>.grid-item,.grid-flex.gutter-vertical-m>.grid-item{margin-top:8px;margin-bottom:0}.grid-flex.gutter-l,.grid-flex.gutter-vertical-l{margin-top:-16px}.grid-flex.gutter-l>.grid-item,.grid-flex.gutter-vertical-l>.grid-item{margin-top:16px;margin-bottom:0}.grid-flex.gutter-xl,.grid-flex.gutter-vertical-xl{margin-top:-24px}.grid-flex.gutter-xl>.grid-item,.grid-flex.gutter-vertical-xl>.grid-item{margin-top:24px;margin-bottom:0}.grid-flex.gutter-xxl,.grid-flex.gutter-vertical-xxl{margin-top:-32px}.grid-flex.gutter-xxl>.grid-item,.grid-flex.gutter-vertical-xxl>.grid-item{margin-top:32px;margin-bottom:0}@media (min-width:669px){.grid-flex.gutter,.grid-flex.gutter-vertical{margin-top:-24px}.grid-flex.gutter>.grid-item,.grid-flex.gutter-vertical>.grid-item{margin-top:24px;margin-bottom:0}.grid-flex.gutter-xs,.grid-flex.gutter-vertical-xs{margin-top:-4px}.grid-flex.gutter-xs>.grid-item,.grid-flex.gutter-vertical-xs>.grid-item{margin-top:4px;margin-bottom:0}.grid-flex.gutter-s,.grid-flex.gutter-vertical-s{margin-top:-8px}.grid-flex.gutter-s>.grid-item,.grid-flex.gutter-vertical-s>.grid-item{margin-top:8px;margin-bottom:0}.grid-flex.gutter-m,.grid-flex.gutter-vertical-m{margin-top:-16px}.grid-flex.gutter-m>.grid-item,.grid-flex.gutter-vertical-m>.grid-item{margin-top:16px;margin-bottom:0}.grid-flex.gutter-l,.grid-flex.gutter-vertical-l{margin-top:-24px}.grid-flex.gutter-l>.grid-item,.grid-flex.gutter-vertical-l>.grid-item{margin-top:24px;margin-bottom:0}.grid-flex.gutter-xl,.grid-flex.gutter-vertical-xl{margin-top:-32px}.grid-flex.gutter-xl>.grid-item,.grid-flex.gutter-vertical-xl>.grid-item{margin-top:32px;margin-bottom:0}.grid-flex.gutter-xxl,.grid-flex.gutter-vertical-xxl{margin-top:-40px}.grid-flex.gutter-xxl>.grid-item,.grid-flex.gutter-vertical-xxl>.grid-item{margin-top:40px;margin-bottom:0}}ul.icon-arrow>li a,ul.icon-arrow-back>li a,ul.icon-arrow-forward>li a,a.icon-arrow,a.icon-arrow-back,a.icon-arrow-forward,button.icon-arrow,button.icon-arrow-back,button.icon-arrow-forward,span.icon-arrow,span.icon-arrow-back,span.icon-arrow-forward{display:inline-block}ul.icon-arrow>li a,ul.icon-arrow-back>li a,a.icon-arrow,a.icon-arrow-back,button.icon-arrow,button.icon-arrow-back,span.icon-arrow,span.icon-arrow-back{position:relative;padding-left:.8em}ul.icon-arrow>li a:before,ul.icon-arrow-back>li a:before,a.icon-arrow:before,a.icon-arrow-back:before,button.icon-arrow:before,button.icon-arrow-back:before,span.icon-arrow:before,span.icon-arrow-back:before{position:absolute;left:0;content:'';display:inline-block;font-family:FontAwesome;color:#ff851d}ul.icon-arrow-forward>li a:after,a.icon-arrow-forward:after,button.icon-arrow-forward:after,span.icon-arrow-forward:after{content:'';display:inline-block;font-family:FontAwesome;color:#ff851d;margin-left:.45em}ul.icon-arrow>li a:before,a.icon-arrow:before,button.icon-arrow:before,span.icon-arrow:before{content:\"\\f105\"}ul.icon-arrow-back>li a:before,a.icon-arrow-back:before,button.icon-arrow-back:before,span.icon-arrow-back:before{content:\"\\f104\"}ul.icon-arrow-forward>li a:after,a.icon-arrow-forward:after,button.icon-arrow-forward:after,span.icon-arrow-forward:after{content:\"\\f105\"}ul>li a.disabled:before,a.disabled:before,button.disabled:before,span.disabled:before,ul>li a.disabled:after,a.disabled:after,button.disabled:after,span.disabled:after{color:#969696}.button,a.button,[class^=button-],[class*=\" button-\"],a[class^=button-],a[class*=\" button-\"]{display:inline-block;vertical-align:bottom;border:1px solid transparent;border-radius:3px;padding:.45em 2em;font-family:'Open Sans',Verdana,'DejaVu Sans',Arial,Helvetica,sans-serif;line-height:1.42857;font-weight:600;text-align:center;white-space:nowrap;cursor:pointer;text-decoration:none}.button.disabled,.button[disabled],a.button.disabled,a.button[disabled],[class^=button-].disabled,[class^=button-][disabled],[class*=\" button-\"].disabled,[class*=\" button-\"][disabled],a[class^=button-].disabled,a[class^=button-][disabled],a[class*=\" button-\"].disabled,a[class*=\" button-\"][disabled]{cursor:default}.button,a.button,[class^=button-],[class*=\" button-\"],a[class^=button-],a[class*=\" button-\"]{margin:0;-webkit-appearance:none;overflow:visible;width:auto}.button::-moz-focus-inner,[class^=button-]::-moz-focus-inner,[class*=\" button-\"]::-moz-focus-inner{padding:0!important;border:0!important}.button-primary,a.button-primary,.button-primary:link,.button-primary:visited{border-color:#f57000;background:#ff7500;color:#fff}.button-primary:hover,.button-primary:focus,.button-primary:active{background:#ff851d}.button-primary[disabled],.button-primary.disabled,a.button-primary.disabled,.button-primary.disabled:link,.button-primary.disabled:visited,.button-primary.disabled:hover,.button-primary.disabled:focus,.button-primary.disabled:active{background:#ff7500;opacity:.35}.button-secondary,a.button-secondary,.button-secondary:link,.button-secondary:visited{border-color:#00578d;background:#005e99;color:#fff}.button-secondary:hover,.button-secondary:focus,.button-secondary:active{background:#0075be}.button-secondary[disabled],.button-secondary.disabled,a.button-secondary.disabled,.button-secondary.disabled:link,.button-secondary.disabled:visited,.button-secondary.disabled:hover,.button-secondary.disabled:focus,.button-secondary.disabled:active{background:#005e99;opacity:.35}.button,a.button,.button:link,.button:visited{border-color:#e0e0e0;background:#fff;color:#003468}.button:hover,.button:focus,.button:active{background:#f4f6f8}.button[disabled],a.button.disabled,.button.disabled,.button.disabled:link,.button.disabled:visited,.button.disabled:hover,.button.disabled:focus,.button.disabled:active{background-color:#fff;opacity:.35}@media (max-width:668px){.palm-button,a.palm-button,[class^=palm-button-],[class*=\" palm-button-\"],a[class^=palm-button-],a[class*=\" palm-button-\"]{display:inline-block;vertical-align:bottom;border:1px solid transparent;border-radius:3px;padding:.45em 2em;font-family:'Open Sans',Verdana,'DejaVu Sans',Arial,Helvetica,sans-serif;line-height:1.42857;font-weight:600;text-align:center;white-space:nowrap;cursor:pointer;text-decoration:none}.palm-button.disabled,.palm-button[disabled],a.palm-button.disabled,a.palm-button[disabled],[class^=palm-button-].disabled,[class^=palm-button-][disabled],[class*=\" palm-button-\"].disabled,[class*=\" palm-button-\"][disabled],a[class^=palm-button-].disabled,a[class^=palm-button-][disabled],a[class*=\" palm-button-\"].disabled,a[class*=\" palm-button-\"][disabled]{cursor:default}.palm-button,a.palm-button,[class^=palm-button-],[class*=\" palm-button-\"],a[class^=palm-button-],a[class*=\" palm-button-\"]{margin:0;-webkit-appearance:none;overflow:visible;width:auto}.palm-button::-moz-focus-inner,[class^=palm-button-]::-moz-focus-inner,[class*=\" palm-button-\"]::-moz-focus-inner{padding:0!important;border:0!important}.palm-button-primary,a.palm-button-primary,.palm-button-primary:link,.palm-button-primary:visited{border-color:#f57000;background:#ff7500;color:#fff}.palm-button-primary:hover,.palm-button-primary:focus,.palm-button-primary:active{background:#ff851d}.palm-button-primary[disabled],.palm-button-primary.disabled,a.palm-button-primary.disabled,.palm-button-primary.disabled:link,.palm-button-primary.disabled:visited,.palm-button-primary.disabled:hover,.palm-button-primary.disabled:focus,.palm-button-primary.disabled:active{background:#ff7500;opacity:.35}.palm-button-secondary,a.palm-button-secondary,.palm-button-secondary:link,.palm-button-secondary:visited{border-color:#00578d;background:#005e99;color:#fff}.palm-button-secondary:hover,.palm-button-secondary:focus,.palm-button-secondary:active{background:#0075be}.palm-button-secondary[disabled],.palm-button-secondary.disabled,a.palm-button-secondary.disabled,.palm-button-secondary.disabled:link,.palm-button-secondary.disabled:visited,.palm-button-secondary.disabled:hover,.palm-button-secondary.disabled:focus,.palm-button-secondary.disabled:active{background:#005e99;opacity:.35}.palm-button,a.palm-button,.palm-button:link,.palm-button:visited{border-color:#e0e0e0;background:#fff;color:#003468}.palm-button:hover,.palm-button:focus,.palm-button:active{background:#f4f6f8}.palm-button[disabled],a.palm-button.disabled,.palm-button.disabled,.palm-button.disabled:link,.palm-button.disabled:visited,.palm-button.disabled:hover,.palm-button.disabled:focus,.palm-button.disabled:active{background-color:#fff;opacity:.35}}@media (min-width:669px) and (max-width:1013px){.lap-button,a.lap-button,[class^=lap-button-],[class*=\" lap-button-\"],a[class^=lap-button-],a[class*=\" lap-button-\"]{display:inline-block;vertical-align:bottom;border:1px solid transparent;border-radius:3px;padding:.45em 2em;font-family:'Open Sans',Verdana,'DejaVu Sans',Arial,Helvetica,sans-serif;line-height:1.42857;font-weight:600;text-align:center;white-space:nowrap;cursor:pointer;text-decoration:none}.lap-button.disabled,.lap-button[disabled],a.lap-button.disabled,a.lap-button[disabled],[class^=lap-button-].disabled,[class^=lap-button-][disabled],[class*=\" lap-button-\"].disabled,[class*=\" lap-button-\"][disabled],a[class^=lap-button-].disabled,a[class^=lap-button-][disabled],a[class*=\" lap-button-\"].disabled,a[class*=\" lap-button-\"][disabled]{cursor:default}.lap-button,a.lap-button,[class^=lap-button-],[class*=\" lap-button-\"],a[class^=lap-button-],a[class*=\" lap-button-\"]{margin:0;-webkit-appearance:none;overflow:visible;width:auto}.lap-button::-moz-focus-inner,[class^=lap-button-]::-moz-focus-inner,[class*=\" lap-button-\"]::-moz-focus-inner{padding:0!important;border:0!important}.lap-button-primary,a.lap-button-primary,.lap-button-primary:link,.lap-button-primary:visited{border-color:#f57000;background:#ff7500;color:#fff}.lap-button-primary:hover,.lap-button-primary:focus,.lap-button-primary:active{background:#ff851d}.lap-button-primary[disabled],.lap-button-primary.disabled,a.lap-button-primary.disabled,.lap-button-primary.disabled:link,.lap-button-primary.disabled:visited,.lap-button-primary.disabled:hover,.lap-button-primary.disabled:focus,.lap-button-primary.disabled:active{background:#ff7500;opacity:.35}.lap-button-secondary,a.lap-button-secondary,.lap-button-secondary:link,.lap-button-secondary:visited{border-color:#00578d;background:#005e99;color:#fff}.lap-button-secondary:hover,.lap-button-secondary:focus,.lap-button-secondary:active{background:#0075be}.lap-button-secondary[disabled],.lap-button-secondary.disabled,a.lap-button-secondary.disabled,.lap-button-secondary.disabled:link,.lap-button-secondary.disabled:visited,.lap-button-secondary.disabled:hover,.lap-button-secondary.disabled:focus,.lap-button-secondary.disabled:active{background:#005e99;opacity:.35}.lap-button,a.lap-button,.lap-button:link,.lap-button:visited{border-color:#e0e0e0;background:#fff;color:#003468}.lap-button:hover,.lap-button:focus,.lap-button:active{background:#f4f6f8}.lap-button[disabled],a.lap-button.disabled,.lap-button.disabled,.lap-button.disabled:link,.lap-button.disabled:visited,.lap-button.disabled:hover,.lap-button.disabled:focus,.lap-button.disabled:active{background-color:#fff;opacity:.35}}@media (min-width:1014px){.desk-button,a.desk-button,[class^=desk-button-],[class*=\" desk-button-\"],a[class^=desk-button-],a[class*=\" desk-button-\"]{display:inline-block;vertical-align:bottom;border:1px solid transparent;border-radius:3px;padding:.45em 2em;font-family:'Open Sans',Verdana,'DejaVu Sans',Arial,Helvetica,sans-serif;line-height:1.42857;font-weight:600;text-align:center;white-space:nowrap;cursor:pointer;text-decoration:none}.desk-button.disabled,.desk-button[disabled],a.desk-button.disabled,a.desk-button[disabled],[class^=desk-button-].disabled,[class^=desk-button-][disabled],[class*=\" desk-button-\"].disabled,[class*=\" desk-button-\"][disabled],a[class^=desk-button-].disabled,a[class^=desk-button-][disabled],a[class*=\" desk-button-\"].disabled,a[class*=\" desk-button-\"][disabled]{cursor:default}.desk-button,a.desk-button,[class^=desk-button-],[class*=\" desk-button-\"],a[class^=desk-button-],a[class*=\" desk-button-\"]{margin:0;-webkit-appearance:none;overflow:visible;width:auto}.desk-button::-moz-focus-inner,[class^=desk-button-]::-moz-focus-inner,[class*=\" desk-button-\"]::-moz-focus-inner{padding:0!important;border:0!important}.desk-button-primary,a.desk-button-primary,.desk-button-primary:link,.desk-button-primary:visited{border-color:#f57000;background:#ff7500;color:#fff}.desk-button-primary:hover,.desk-button-primary:focus,.desk-button-primary:active{background:#ff851d}.desk-button-primary[disabled],.desk-button-primary.disabled,a.desk-button-primary.disabled,.desk-button-primary.disabled:link,.desk-button-primary.disabled:visited,.desk-button-primary.disabled:hover,.desk-button-primary.disabled:focus,.desk-button-primary.disabled:active{background:#ff7500;opacity:.35}.desk-button-secondary,a.desk-button-secondary,.desk-button-secondary:link,.desk-button-secondary:visited{border-color:#00578d;background:#005e99;color:#fff}.desk-button-secondary:hover,.desk-button-secondary:focus,.desk-button-secondary:active{background:#0075be}.desk-button-secondary[disabled],.desk-button-secondary.disabled,a.desk-button-secondary.disabled,.desk-button-secondary.disabled:link,.desk-button-secondary.disabled:visited,.desk-button-secondary.disabled:hover,.desk-button-secondary.disabled:focus,.desk-button-secondary.disabled:active{background:#005e99;opacity:.35}.desk-button,a.desk-button,.desk-button:link,.desk-button:visited{border-color:#e0e0e0;background:#fff;color:#003468}.desk-button:hover,.desk-button:focus,.desk-button:active{background:#f4f6f8}.desk-button[disabled],a.desk-button.disabled,.desk-button.disabled,.desk-button.disabled:link,.desk-button.disabled:visited,.desk-button.disabled:hover,.desk-button.disabled:focus,.desk-button.disabled:active{background-color:#fff;opacity:.35}}.button.one-whole,[class^=button-].one-whole,[class*=\" button-\"].one-whole{padding-left:0;padding-right:0}@media (max-width:668px){.button.palm-one-whole,[class^=button-].palm-one-whole,[class*=\" button-\"].palm-one-whole{padding-left:0;padding-right:0}.palm-button.one-whole,[class^=palm-button-].one-whole,[class*=\" palm-button-\"].one-whole{padding-left:0;padding-right:0}.palm-button.palm-one-whole,[class^=palm-button-].palm-one-whole,[class*=\" palm-button-\"].palm-one-whole{padding-left:0;padding-right:0}}@media (min-width:669px) and (max-width:1013px){.button.lap-one-whole,[class^=button-].lap-one-whole,[class*=\" button-\"].lap-one-whole{padding-left:0;padding-right:0}.lap-button.one-whole,[class^=lap-button-].one-whole,[class*=\" lap-button-\"].one-whole{padding-left:0;padding-right:0}.lap-button.lap-one-whole,[class^=lap-button-].lap-one-whole,[class*=\" lap-button-\"].lap-one-whole{padding-left:0;padding-right:0}}@media (min-width:1014px){.button.desk-one-whole,[class^=button-].desk-one-whole,[class*=\" button-\"].desk-one-whole{padding-left:0;padding-right:0}.desk-button.one-whole,[class^=desk-button-].one-whole,[class*=\" desk-button-\"].one-whole{padding-left:0;padding-right:0}.desk-button.desk-one-whole,[class^=desk-button-].desk-one-whole,[class*=\" desk-button-\"].desk-one-whole{padding-left:0;padding-right:0}}.input-text,.select,.textarea{border:1px solid #d4d4d4;padding:0 .7142em;font-family:'Open Sans',Verdana,'DejaVu Sans',Arial,Helvetica,sans-serif;background-color:#fff}.input-text:focus,.select:focus,.textarea:focus{border-color:#969696}.select{padding-right:0}.input-text,.select{height:3em}.textarea{padding-top:.7142em;padding-bottom:.7142em}.input-checkbox,.input-radio{display:block;float:left;margin-top:5px}input[type=submit]{cursor:pointer}.label-checkbox,.label-radio{display:block;margin-left:20px}label.required:after{content:\"*\";color:#ff7500}.input-text.error,.select.error,.textarea.error{background-color:#ffdddc;border-color:#b80000}.input-checkbox.error{outline:1px solid #b80000}label.error{color:#b80000}.input-unit{display:inline-block;padding-right:2em}.unit-icon{display:inline-block;margin-left:-1.5em;padding:.416em 0;width:1.5em;vertical-align:baseline;pointer-events:none}.form label{display:inline-block;margin-bottom:2px}.form .label-checkbox,.form .label-radio{display:block}.form .cancel{text-decoration:underline}.form .input-text,.form .select,.form .textarea{width:100%}.form input.button,.form button.button,.form input[class^=button-],.form button[class^=button-],.form input[class*=\" button-\"],.form button[class*=\" button-\"],.form input.palm-button,.form button.palm-button,.form input[class^=palm-button-],.form button[class^=palm-button-],.form input[class*=\" palm-button-\"],.form button[class*=\" palm-button-\"],.form input.lap-button,.form button.lap-button,.form input[class^=lap-button-],.form button[class^=lap-button-],.form input[class*=\" lap-button-\"],.form button[class*=\" lap-button-\"],.form input.desk-button,.form button.desk-button,.form input[class^=desk-button-],.form button[class^=desk-button-],.form input[class*=\" desk-button-\"],.form button[class*=\" desk-button-\"]{height:3em}.form .fieldset{min-width:0}.form .textarea{resize:vertical}@media (max-width:668px){.input-text,.select,.textarea{font-size:16px;font-size:1.6rem}.form{font-size:16px;font-size:1.6rem}}.form-theme-standard{padding:8px;background-color:#f2f2f2;border:1px solid #e0e0e0}.form-theme-standard label{color:#747474}.form-theme-standard fieldset{padding:8px 0}.form-theme-standard h1+fieldset,.form-theme-standard h2+fieldset,.form-theme-standard h3+fieldset,.form-theme-standard fieldset+fieldset{border-top:1px solid #e0e0e0}@media (min-width:669px){.form-theme-standard{padding:16px}.form-theme-standard fieldset{padding:16px 0}}.form-theme-white{padding:8px;background-color:#fff}.form-theme-white label{color:#747474}.form-theme-white fieldset{padding:8px 0}.form-theme-white h1+fieldset,.form-theme-white h2+fieldset,.form-theme-white h3+fieldset,.form-theme-white fieldset+fieldset{border-top:1px solid #e0e0e0}@media (min-width:669px){.form-theme-white{padding:16px}.form-theme-white fieldset{padding:16px 0}}.fix-to-top-wrapper{position:relative}.fix-to-top--fixed{position:fixed;top:0;left:0;width:100%;z-index:2000}.fix-to-top--fixed{-webkit-transform:translateZ(0px);-moz-transform:translateZ(0px);-ms-transform:translateZ(0px);-o-transform:translateZ(0px);transform:translateZ(0px)}.corporate-powered-by-container{position:relative}.corporate-powered-by{position:absolute;right:0;top:2px}.corporate-powered-by:after{display:table;clear:both;content:\"\"}.corporate-powered-by__logo{display:block;float:right;height:16px}@media (min-width:669px){.corporate-powered-by{top:16px}.corporate-powered-by__logo{height:16px}}@media (min-width:1014px){.corporate-powered-by{top:27px;right:8px}.corporate-powered-by__logo{height:19px}}.top-navigation{height:48px;background-color:#ff7500}.fix-to-top-wrapper--top-navigation{height:48px}.top-navigation.fix-to-top--fixed{box-shadow:0 3px 3px rgba(76,76,76,.4)}.top-navigation.fix-to-top--fixed{left:0;right:0;width:100%}@media (min-width:1014px){.top-navigation.fix-to-top--fixed{padding:0 8px}}@media (min-width:1170px){.top-navigation.fix-to-top--fixed{left:auto;right:auto;padding:0;max-width:1154px}}@media (max-width:767px){.top-navigation-slide-in-container--open-left .top-navigation.fix-to-top--fixed{left:250px}.top-navigation-slide-in-container--open-right .top-navigation.fix-to-top--fixed{left:auto;right:250px}}@media (min-width:669px) and (max-width:767px){.top-navigation-slide-in-container--open-left .top-navigation.fix-to-top--fixed{left:400px}.top-navigation-slide-in-container--open-right .top-navigation.fix-to-top--fixed{right:400px}}.top-navigation.fix-to-top--fixed .top-navigation__level--1{-webkit-transform:translateZ(0px);-moz-transform:translateZ(0px);-ms-transform:translateZ(0px);-o-transform:translateZ(0px);transform:translateZ(0px)}@media (min-width:768px){.top-navigation__hover-tabs{padding-top:10px}.top-navigation__hover-tabs>li .top-navigation__hover-tabs__label,.top-navigation__hover-tabs>li .top-navigation__hover-tabs__label:link,.top-navigation__hover-tabs>li .top-navigation__hover-tabs__label:visited,.top-navigation__hover-tabs>li .top-navigation__hover-tabs__label:hover,.top-navigation__hover-tabs>li .top-navigation__hover-tabs__label.hover,.top-navigation__hover-tabs>li .top-navigation__hover-tabs__label:focus,.top-navigation__hover-tabs>li .top-navigation__hover-tabs__label:active{padding:8px 7px 7px;text-decoration:none;color:#fff}.top-navigation__hover-tabs>li:hover,.top-navigation__hover-tabs>li.hover,.top-navigation__hover-tabs>li.active{margin-top:-6px;margin-bottom:0;border-radius:3px 3px 0 0;padding-top:6px;padding-bottom:10px}.top-navigation__hover-tabs>li:hover,.top-navigation__hover-tabs>li.hover{background-color:#fff}.top-navigation__hover-tabs>li:hover .top-navigation__hover-tabs__label,.top-navigation__hover-tabs>li.hover .top-navigation__hover-tabs__label,.top-navigation__hover-tabs>li:hover .top-navigation__hover-tabs__label:link,.top-navigation__hover-tabs>li.hover .top-navigation__hover-tabs__label:link,.top-navigation__hover-tabs>li:hover .top-navigation__hover-tabs__label:visited,.top-navigation__hover-tabs>li.hover .top-navigation__hover-tabs__label:visited,.top-navigation__hover-tabs>li:hover .top-navigation__hover-tabs__label:hover,.top-navigation__hover-tabs>li.hover .top-navigation__hover-tabs__label:hover,.top-navigation__hover-tabs>li:hover .top-navigation__hover-tabs__label:focus,.top-navigation__hover-tabs>li.hover .top-navigation__hover-tabs__label:focus,.top-navigation__hover-tabs>li:hover .top-navigation__hover-tabs__label:active,.top-navigation__hover-tabs>li.hover .top-navigation__hover-tabs__label:active{color:#003468}.top-navigation__hover-tabs>li.active{background-color:#c95e0c;text-decoration:none}}@media (min-width:1014px){.top-navigation__hover-tabs>li .top-navigation__hover-tabs__label,.top-navigation__hover-tabs>li .top-navigation__hover-tabs__label:link,.top-navigation__hover-tabs>li .top-navigation__hover-tabs__label:visited,.top-navigation__hover-tabs>li .top-navigation__hover-tabs__label:hover,.top-navigation__hover-tabs>li .top-navigation__hover-tabs__label.hover,.top-navigation__hover-tabs>li .top-navigation__hover-tabs__label:focus,.top-navigation__hover-tabs>li .top-navigation__hover-tabs__label:active{padding-left:12px;padding-right:12px}.top-navigation__hover-tabs>li:hover,.top-navigation__hover-tabs>li.hover,.top-navigation__hover-tabs>li.active{padding-bottom:9px}}@media (min-width:768px){.top-navigation__hover-tabs.top-navigation__sso-login>li:hover,.top-navigation__hover-tabs.top-navigation__sso-login>li.hover{margin-bottom:-7px}}@media (min-width:768px){.top-navigation__hover-tabs{position:relative}.top-navigation__hover-tabs .top-navigation__hover-layer{display:none;position:absolute;top:48px;z-index:2000;background-color:#fff;box-shadow:0 6px 6px 0 rgba(52,52,52,.2)}.top-navigation__hover-tabs>li:hover .top-navigation__hover-layer,.top-navigation__hover-tabs>li.hover .top-navigation__hover-layer{display:block}.top-navigation__hover-tabs.top-navigation__level--1>li .top-navigation__hover-layer{left:0}.top-navigation__hover-tabs.top-navigation__level--1.top-navigation__sso-login>li .top-navigation__hover-layer{left:auto;right:0;width:220px}}@media (min-width:768px){.top-navigation__hover-tabs.top-navigation__hover-tabs--delayed:not(.an-ignorant-old-browser)>li{-webkit-transition:all 0ms linear 200ms;-moz-transition:all 0ms linear 200ms;-o-transition:all 0ms linear 200ms;transition:all 0ms linear 200ms}.top-navigation__hover-tabs.top-navigation__hover-tabs--delayed:not(.an-ignorant-old-browser) .top-navigation__hover-tabs__label{-webkit-transition:color 0ms linear 200ms;-moz-transition:color 0ms linear 200ms;-o-transition:color 0ms linear 200ms;transition:color 0ms linear 200ms}.top-navigation__hover-tabs.top-navigation__hover-tabs--delayed:not(.an-ignorant-old-browser) .top-navigation__hover-layer{display:block;-webkit-transition:all 0ms linear 200ms;-moz-transition:all 0ms linear 200ms;-o-transition:all 0ms linear 200ms;transition:all 0ms linear 200ms}.top-navigation__hover-tabs.top-navigation__hover-tabs--delayed:not(.an-ignorant-old-browser):not(.top-navigation__sso-login) .top-navigation__hover-layer{width:100%}.top-navigation__hover-tabs.top-navigation__hover-tabs--delayed:not(.an-ignorant-old-browser)>li:not(:hover):not(.hover) .top-navigation__hover-layer{width:0;opacity:0}}@media (max-width:767px){.top-navigation-slide-in-container{position:relative;-webkit-transition:left 200ms ease-in,right 200ms ease-in;-moz-transition:left 200ms ease-in,right 200ms ease-in;-o-transition:left 200ms ease-in,right 200ms ease-in;transition:left 200ms ease-in,right 200ms ease-in}.top-navigation{position:relative}.top-navigation.fix-to-top--fixed{position:fixed}.top-navigation-slide-in-container--open-left{left:250px}.top-navigation-slide-in-container--open-right{right:250px}}@media (min-width:669px) and (max-width:767px){.top-navigation-slide-in-container--open-left{left:400px}.top-navigation-slide-in-container--open-right{right:400px}}@media (max-width:767px){.top-navigation__slide-in--left,.top-navigation__slide-in--right{display:none}.top-navigation-slide-in-container--open-left .top-navigation__slide-in--left{display:block}.top-navigation-slide-in-container--open-right .top-navigation__slide-in--right{display:block}}@media (min-width:768px){[class*=top-navigation__slide-in-trigger--]{display:none}}@media (max-width:767px){[class*=top-navigation__slide-in-trigger--]{display:block;position:absolute;top:50%;line-height:1;color:#fff}a[class*=top-navigation__slide-in-trigger--]:link,a[class*=top-navigation__slide-in-trigger--]:visited,a[class*=top-navigation__slide-in-trigger--]:hover,a[class*=top-navigation__slide-in-trigger--]:focus,a[class*=top-navigation__slide-in-trigger--]:active{color:#fff;text-decoration:none}.top-navigation__slide-in-trigger--left{left:16px;margin-top:-1.8rem;font-size:32px;font-size:3.2rem}.top-navigation__slide-in-trigger--right{right:16px;margin-top:-.8rem;font-size:16px;font-size:1.6rem;font-weight:600}}@media (min-width:669px) and (max-width:767px){.top-navigation__slide-in-trigger--left{left:24px;margin-top:-1.8rem;font-size:32px;font-size:3.2rem}.top-navigation__slide-in-trigger--right{right:24px}}@media (max-width:767px){[class*=top-navigation__slide-in--]{position:absolute;top:0;width:250px}.top-navigation__slide-in--left{left:-250px}.top-navigation__slide-in--right{right:-250px}.top-navigation__slide-in--show-level-1 .top-navigation__level--2{display:none}.top-navigation__slide-in--show-level-2 .top-navigation__level--3{display:none}}@media (min-width:669px) and (max-width:767px){[class*=top-navigation__slide-in--]{width:400px}.top-navigation__slide-in--left{left:-400px}.top-navigation__slide-in--right{right:-400px}}@media (max-width:767px){[class*=top-navigation__slide-in--]{background-color:#f4f6f8;background:linear-gradient(to bottom,#fff,#f4f6f8);margin-top:-2000px;margin-bottom:-2000px;padding-top:2000px;padding-bottom:2000px}[class*=top-navigation__slide-in--]>li:first-of-type{border-top:1px solid #d4dde5}[class*=top-navigation__slide-in--]>li{border-bottom:1px solid #d4dde5;margin:0 8px}[class*=top-navigation__slide-in--]>li.active{background-color:#d4dde5}[class*=top-navigation__slide-in--] .top-navigation__level--1__label{display:block;font-size:16px;font-size:1.6rem}[class*=top-navigation__slide-in--] .top-navigation__level--1__label,[class*=top-navigation__slide-in--] .top-navigation__level--2{padding:8px 16px;font-weight:400}.top-navigation__slide-in--left{box-shadow:0 0 30px 0 #97adc1 inset;border-right:1px solid #97adc1;padding-right:10px}.top-navigation__slide-in--left .top-navigation__level--1__label:before{font-family:FontAwesome;content:\"\\f105\";float:right}.top-navigation__slide-in--right{box-shadow:0 0 30px 0 #97adc1 inset;border-left:1px solid #97adc1;padding-left:10px}}@media (min-width:768px){.top-navigation__level--1__label{display:block;font-size:1.3rem;line-height:1;font-weight:600}.top-navigation__level--1:after{display:table;clear:both;content:\"\"}.top-navigation__level--1>li{float:left}.top-navigation__level--1>li.active:hover,.top-navigation__level--1>li.active.hover{border-radius:3px 3px 0 0;border-color:transparent;background:#fff}}@media (min-width:1014px){.top-navigation__level--1__label{font-size:1.4rem}}@media (min-width:768px){.top-navigation .equal-height{display:table;table-layout:fixed}.top-navigation .equal-height__column{display:table-cell;vertical-align:top}.top-navigation__level--2{overflow:hidden;font-size:13px;font-size:1.3rem}.top-navigation__level--2 h3{font-size:14px;font-size:1.4rem}.top-navigation__level--2__navigation-wrapper{padding:24px 0 16px 32px}}@media (min-width:1014px){.top-navigation__level--2{font-size:14px;font-size:1.4rem}.top-navigation__level--2 h3{font-size:18px;font-size:1.8rem}}@media (min-width:768px){.top-navigation__level--3{width:33%}.top-navigation__level--3:nth-of-type(3n+1){clear:left}}@media (min-width:768px){.top-navigation__level--2__teaser{position:relative;height:100%}.top-navigation__level--2__teaser p{text-shadow:1px 1px 2px #fff,-1px -1px 2px #fff}.top-navigation__level--2__teaser__background-image{position:absolute;bottom:0;right:0;z-index:-1;height:auto}.top-navigation__level--2__teaser-wrapper{position:relative}.top-navigation__level--2__teaser-wrapper .top-navigation__level--2__teaser{position:static}}.top-navigation__sso-login__welcome-message,.top-navigation__sso-login__user-avatar,.top-navigation__sso-login__link-list--logged-in{display:none}.sso-login--logged-in .top-navigation__sso-login__link-list--logged-out{display:none}.sso-login--logged-in .top-navigation__sso-login__welcome-message,.sso-login--logged-in .top-navigation__sso-login__link-list--logged-in{display:block}.sso-login--show-avatar .top-navigation__sso-login__user-avatar{display:block}@media (min-width:768px){.top-navigation__sso-login{z-index:2001;float:right}}.top-navigation__sso-login__user-avatar{float:left;overflow:hidden;border:1px solid #fff;border-radius:50%;width:34px;height:34px;background-color:#fff}.top-navigation__sso-login__user-avatar img{width:100%;height:100%}@media (max-width:767px){.sso-login--logged-in .top-navigation__sso-login__user-avatar{margin-top:6px}}@media (min-width:768px){.top-navigation__sso-login__user-avatar{margin-top:-2px;margin-left:5px}}@media (min-width:1014px){.top-navigation__sso-login__user-avatar{margin-right:-4px;margin-left:10px}}.top-navigation__sso-login__welcome-message{padding-bottom:2px;font-size:1.1rem;font-weight:400}@media (min-width:669px){.top-navigation__sso-login__welcome-message{font-size:1.1rem}}@media (max-width:767px){.top-navigation__sso-login__welcome-message{max-width:14em}}@media (min-width:669px) and (max-width:767px){.top-navigation__sso-login__welcome-message{max-width:27em}}@media (min-width:768px){.top-navigation__sso-login__welcome-message{max-width:6em}}@media (min-width:1014px){.top-navigation__sso-login__welcome-message{max-width:10em}}@media (min-width:768px){.top-navigation__sso-login.top-navigation__hover-tabs>li{padding-left:2px;padding-right:2px}.top-navigation__sso-login.top-navigation__hover-tabs .top-navigation__sso-login__welcome-message{margin-top:-8px}.top-navigation__sso-login.top-navigation__hover-tabs.sso-login--logged-in .top-navigation__hover-tabs__label{padding-top:9px;padding-bottom:6px}[class*=top-navigation__sso-login__link-list]{padding:16px 16px 0}}.absolute-reference{position:relative}.absolute-content{position:absolute}@media (max-width:668px){.palm-absolute-reference{position:relative}.palm-absolute-content{position:absolute}}@media (min-width:669px) and (max-width:1013px){.lap-absolute-reference{position:relative}.lap-absolute-content{position:absolute}}@media (min-width:1014px){.desk-absolute-reference{position:relative}.desk-absolute-content{position:absolute}}.breadcrumb{border-bottom:1px solid #e0e0e0;padding:4px 2px;font-size:13px;font-size:1.3rem}@media (min-width:669px){.breadcrumb{padding:8px 4px;font-size:13px;font-size:1.3rem}}.breadcrumb:after{display:table;clear:both;content:\"\"}.breadcrumb__item{float:left}.breadcrumb__item:after{content:\"âº\";padding:0 4px;color:#d4d4d4}@media (min-width:669px){.breadcrumb__item:after{padding:0 8px}}.breadcrumb__item--current{color:#ff7500}.breadcrumb__item--current:after{display:none}.breadcrumb__link:link,.breadcrumb__link:visited{color:#969696}.breadcrumb__link:hover,.breadcrumb__link:focus,.breadcrumb__link:active{color:#ff7500}.campaign-box{border:6px solid #ff7500;border-radius:0 0 50px;padding:16px 24px;background-color:rgba(255,255,255,.94);box-shadow:0 2px 4px -2px rgba(52,52,52,.4)}@media (min-width:669px){.campaign-box{border-width:8px;border-radius:0 0 72px;padding:24px 32px}}@media (max-width:668px){.palm-campaign-box{border:6px solid #ff7500;border-radius:0 0 50px;padding:16px 24px;background-color:rgba(255,255,255,.94);box-shadow:0 2px 4px -2px rgba(52,52,52,.4)}}@media (min-width:669px) and (max-width:1013px){.lap-campaign-box{border:8px solid #ff7500;border-radius:0 0 72px;padding:24px 32px;background-color:rgba(255,255,255,.94);box-shadow:0 2px 4px -2px rgba(52,52,52,.4)}}@media (min-width:1014px){.desk-campaign-box{border:8px solid #ff7500;border-radius:0 0 72px;padding:24px 32px;background-color:rgba(255,255,255,.94);box-shadow:0 2px 4px -2px rgba(52,52,52,.4)}}a.link-visited:not(.disabled):not([class*=button]):visited{color:#636}a.link-visited:not(.disabled):not([class*=button]):hover,a.link-visited:not(.disabled):not([class*=button]):focus,a.link-visited:not(.disabled):not([class*=button]):active{color:#ff7500}a.link-visited:not(.disabled):not([class*=button]):visited h1,a.link-visited:not(.disabled):not([class*=button]):visited h2,a.link-visited:not(.disabled):not([class*=button]):visited h3,a.link-visited:not(.disabled):not([class*=button]):visited h4,a.link-visited:not(.disabled):not([class*=button]):visited h5,a.link-visited:not(.disabled):not([class*=button]):visited h6{color:#636}a.link-visited:not(.disabled):not([class*=button]):hover h1,a.link-visited:not(.disabled):not([class*=button]):focus h1,a.link-visited:not(.disabled):not([class*=button]):active h1,a.link-visited:not(.disabled):not([class*=button]):hover h2,a.link-visited:not(.disabled):not([class*=button]):focus h2,a.link-visited:not(.disabled):not([class*=button]):active h2,a.link-visited:not(.disabled):not([class*=button]):hover h3,a.link-visited:not(.disabled):not([class*=button]):focus h3,a.link-visited:not(.disabled):not([class*=button]):active h3,a.link-visited:not(.disabled):not([class*=button]):hover h4,a.link-visited:not(.disabled):not([class*=button]):focus h4,a.link-visited:not(.disabled):not([class*=button]):active h4,a.link-visited:not(.disabled):not([class*=button]):hover h5,a.link-visited:not(.disabled):not([class*=button]):focus h5,a.link-visited:not(.disabled):not([class*=button]):active h5,a.link-visited:not(.disabled):not([class*=button]):hover h6,a.link-visited:not(.disabled):not([class*=button]):focus h6,a.link-visited:not(.disabled):not([class*=button]):active h6{color:#ff7500}.link-visited a:not(.disabled):not([class*=button]):visited{color:#636}.link-visited a:not(.disabled):not([class*=button]):hover,.link-visited a:not(.disabled):not([class*=button]):focus,.link-visited a:not(.disabled):not([class*=button]):active{color:#ff7500}.link-visited a:not(.disabled):not([class*=button]):visited h1,.link-visited a:not(.disabled):not([class*=button]):visited h2,.link-visited a:not(.disabled):not([class*=button]):visited h3,.link-visited a:not(.disabled):not([class*=button]):visited h4,.link-visited a:not(.disabled):not([class*=button]):visited h5,.link-visited a:not(.disabled):not([class*=button]):visited h6{color:#636}.link-visited a:not(.disabled):not([class*=button]):hover h1,.link-visited a:not(.disabled):not([class*=button]):focus h1,.link-visited a:not(.disabled):not([class*=button]):active h1,.link-visited a:not(.disabled):not([class*=button]):hover h2,.link-visited a:not(.disabled):not([class*=button]):focus h2,.link-visited a:not(.disabled):not([class*=button]):active h2,.link-visited a:not(.disabled):not([class*=button]):hover h3,.link-visited a:not(.disabled):not([class*=button]):focus h3,.link-visited a:not(.disabled):not([class*=button]):active h3,.link-visited a:not(.disabled):not([class*=button]):hover h4,.link-visited a:not(.disabled):not([class*=button]):focus h4,.link-visited a:not(.disabled):not([class*=button]):active h4,.link-visited a:not(.disabled):not([class*=button]):hover h5,.link-visited a:not(.disabled):not([class*=button]):focus h5,.link-visited a:not(.disabled):not([class*=button]):active h5,.link-visited a:not(.disabled):not([class*=button]):hover h6,.link-visited a:not(.disabled):not([class*=button]):focus h6,.link-visited a:not(.disabled):not([class*=button]):active h6{color:#ff7500}.status-message{padding:16px 8px;text-align:center}@media (min-width:669px){.status-message{padding:24px 16px}}.status-message--short{position:relative;padding:4px 8px 4px 68px;text-align:left}.status-message--short h1,.status-message--short h2,.status-message--short h3,.status-message--short h4,.status-message--short h5,.status-message--short h6{margin-bottom:0;font-size:1.4rem}.status-message--short:before{content:'';box-sizing:border-box;position:absolute;top:0;left:0;padding:8px;width:60px;height:100%;font-size:20px;font-size:2rem;font-family:FontAwesome;text-align:center}@media (min-width:669px){.status-message--short{padding:8px 16px 8px 76px}.status-message--short h1,.status-message--short h2,.status-message--short h3,.status-message--short h4,.status-message--short h5,.status-message--short h6{margin-bottom:0;font-size:1.8rem}.status-message--short:before{padding:16px}}.status-confirm{background-color:#edf8dd}.status-confirm h1,.status-confirm h2,.status-confirm h3,.status-confirm h4,.status-confirm h5,.status-confirm h6{color:#1a6600}.status-info{background-color:#f4f6f8}.status-info h1,.status-info h2,.status-info h3,.status-info h4,.status-info h5,.status-info h6{color:#003468}.status-warning{background-color:#fff7d9}.status-warning h1,.status-warning h2,.status-warning h3,.status-warning h4,.status-warning h5,.status-warning h6{color:#662505}.status-error{background-color:#ffdddc}.status-error h1,.status-error h2,.status-error h3,.status-error h4,.status-error h5,.status-error h6{color:#b80000}.status-message:not(.status-message--short) h1:before,.status-message:not(.status-message--short) h2:before,.status-message:not(.status-message--short) h3:before,.status-message:not(.status-message--short) h4:before,.status-message:not(.status-message--short) h5:before,.status-message:not(.status-message--short) h6:before{content:'';font-family:FontAwesome;margin-right:4px}@media (min-width:669px){.status-message:not(.status-message--short) h1:before,.status-message:not(.status-message--short) h2:before,.status-message:not(.status-message--short) h3:before,.status-message:not(.status-message--short) h4:before,.status-message:not(.status-message--short) h5:before,.status-message:not(.status-message--short) h6:before{margin-right:8px}}.status-confirm:not(.status-message--short) h1:before,.status-confirm:not(.status-message--short) h2:before,.status-confirm:not(.status-message--short) h3:before,.status-confirm:not(.status-message--short) h4:before,.status-confirm:not(.status-message--short) h5:before,.status-confirm:not(.status-message--short) h6:before{content:\"\\f00c\"}.status-info:not(.status-message--short) h1:before,.status-info:not(.status-message--short) h2:before,.status-info:not(.status-message--short) h3:before,.status-info:not(.status-message--short) h4:before,.status-info:not(.status-message--short) h5:before,.status-info:not(.status-message--short) h6:before{content:\"\\f129\"}.status-warning:not(.status-message--short) h1:before,.status-warning:not(.status-message--short) h2:before,.status-warning:not(.status-message--short) h3:before,.status-warning:not(.status-message--short) h4:before,.status-warning:not(.status-message--short) h5:before,.status-warning:not(.status-message--short) h6:before{content:\"\\f071\"}.status-error:not(.status-message--short) h1:before,.status-error:not(.status-message--short) h2:before,.status-error:not(.status-message--short) h3:before,.status-error:not(.status-message--short) h4:before,.status-error:not(.status-message--short) h5:before,.status-error:not(.status-message--short) h6:before{content:\"\\f12a\"}.status-message--short.status-confirm:before{content:\"\\f00c\";color:#edf8dd;background:#1a6600}.status-message--short.status-info:before{content:\"\\f129\";color:#f4f6f8;background:#003468}.status-message--short.status-warning:before{content:\"\\f071\";color:#fff7d9;background:#662505}.status-message--short.status-error:before{content:\"\\f12a\";color:#ffdddc;background:#b80000}.text-spacing>p,.text-spacing>ol,.text-spacing>ul{margin-bottom:8px}@media (min-width:669px){.text-spacing>p,.text-spacing>ol,.text-spacing>ul{margin-bottom:16px}}.tooltip-icon{cursor:pointer;margin-left:2px}@media (min-width:669px){.tooltip-icon{margin-left:4px}}.tooltip-icon:before{font-family:FontAwesome;content:\"\\f05a\";font-size:14px;font-size:1.4rem;color:#969696}@media (min-width:669px){.tooltip-icon:before{font-size:14px;font-size:1.4rem}}.ad-superbanner,.ad-skyscraper--right{display:none}@media (min-width:669px){.has-ad-superbanner .ad-superbanner{display:block}}@media (min-width:1014px){.has-ad-skyscraper--right .ad-skyscraper--right{display:block}}.page-wrapper--with-ads{position:relative}#FEM_WALL_DIV{display:none}@media (min-width:1014px){#FEM_WALL_DIV{display:block}}@media (min-width:669px){.ad-superbanner,.ad-skyscraper--right{position:absolute}.ad-superbanner{z-index:2001}.ad-skyscraper--right{z-index:1999}}@media (min-width:669px){.has-ad-superbanner .page-wrapper--with-ads{margin-top:90px}.ad-superbanner{top:-91px;right:0;height:90px}}@media (min-width:1014px){.ad-superbanner{right:-1px}}@media (min-width:1014px){.ad-skyscraper--right{top:120px}}@media (min-width:1014px){.has-ad-skyscraper--right .ad-skyscraper--right{right:-301px;width:300px}}@media (min-width:1014px) and (max-width:1769px){.has-ad-skyscraper--right .page-wrapper--with-ads{margin-right:300px;width:auto;min-width:1014px;margin-left:0}}@media (min-width:1470px) and (max-width:1769px){.has-ad-skyscraper--right .page-wrapper--with-ads{margin-left:auto}}@media (min-width:1014px){.has-ad-skyscraper--right .top-navigation.fix-to-top--fixed{padding:0}}@media (min-width:1014px) and (max-width:1313px){.has-ad-skyscraper--right .top-navigation.fix-to-top--fixed{max-width:998px;left:8px}}@media (min-width:1314px) and (max-width:1469px){.has-ad-skyscraper--right .top-navigation.fix-to-top--fixed{left:0;right:0;margin-left:8px;margin-right:308px;max-width:none;width:auto}}@media (min-width:1470px) and (max-width:1769px){.has-ad-skyscraper--right .top-navigation.fix-to-top--fixed{left:auto;right:auto;padding:0;max-width:1154px}}/*!\n",
       " *  Font Awesome 4.5.0 by @davegandy - http://fontawesome.io - @fontawesome\n",
       " *  License - http://fontawesome.io/license (Font: SIL OFL 1.1, CSS: MIT License)\n",
       " */@font-face{font-family:FontAwesome;src:url(//www.static-immobilienscout24.de/fro/core/2.3.0/font/vendor/font-awesome/4.5.0/fontawesome-webfont.eot?v=4.5.0);src:url(//www.static-immobilienscout24.de/fro/core/2.3.0/font/vendor/font-awesome/4.5.0/fontawesome-webfont.eot?#iefix&v=4.5.0) format('embedded-opentype'),url(//www.static-immobilienscout24.de/fro/core/2.3.0/font/vendor/font-awesome/4.5.0/fontawesome-webfont.woff2?v=4.5.0) format('woff2'),url(//www.static-immobilienscout24.de/fro/core/2.3.0/font/vendor/font-awesome/4.5.0/fontawesome-webfont.woff?v=4.5.0) format('woff'),url(//www.static-immobilienscout24.de/fro/core/2.3.0/font/vendor/font-awesome/4.5.0/fontawesome-webfont.ttf?v=4.5.0) format('truetype'),url(//www.static-immobilienscout24.de/fro/core/2.3.0/font/vendor/font-awesome/4.5.0/fontawesome-webfont.svg?v=4.5.0#fontawesomeregular) format('svg');font-weight:400;font-style:normal}.fa{display:inline-block;font:normal normal normal 14px/1 FontAwesome;font-size:inherit;text-rendering:auto;-webkit-font-smoothing:antialiased;-moz-osx-font-smoothing:grayscale}.fa-lg{font-size:1.33333333em;line-height:.75em;vertical-align:-15%}.fa-2x{font-size:2em}.fa-3x{font-size:3em}.fa-4x{font-size:4em}.fa-5x{font-size:5em}.fa-fw{width:1.28571429em;text-align:center}.fa-ul{padding-left:0;margin-left:2.14285714em;list-style-type:none}.fa-ul>li{position:relative}.fa-li{position:absolute;left:-2.14285714em;width:2.14285714em;top:.14285714em;text-align:center}.fa-li.fa-lg{left:-1.85714286em}.fa-border{padding:.2em .25em .15em;border:solid .08em #eee;border-radius:.1em}.fa-pull-left{float:left}.fa-pull-right{float:right}.fa.fa-pull-left{margin-right:.3em}.fa.fa-pull-right{margin-left:.3em}.pull-right{float:right}.pull-left{float:left}.fa.pull-left{margin-right:.3em}.fa.pull-right{margin-left:.3em}.fa-spin{-webkit-animation:fa-spin 2s infinite linear;animation:fa-spin 2s infinite linear}.fa-pulse{-webkit-animation:fa-spin 1s infinite steps(8);animation:fa-spin 1s infinite steps(8)}@-webkit-keyframes fa-spin{0%{-webkit-transform:rotate(0deg);transform:rotate(0deg)}100%{-webkit-transform:rotate(359deg);transform:rotate(359deg)}}@keyframes fa-spin{0%{-webkit-transform:rotate(0deg);transform:rotate(0deg)}100%{-webkit-transform:rotate(359deg);transform:rotate(359deg)}}.fa-rotate-90{filter:progid:DXImageTransform.Microsoft.BasicImage(rotation=1);-webkit-transform:rotate(90deg);-ms-transform:rotate(90deg);transform:rotate(90deg)}.fa-rotate-180{filter:progid:DXImageTransform.Microsoft.BasicImage(rotation=2);-webkit-transform:rotate(180deg);-ms-transform:rotate(180deg);transform:rotate(180deg)}.fa-rotate-270{filter:progid:DXImageTransform.Microsoft.BasicImage(rotation=3);-webkit-transform:rotate(270deg);-ms-transform:rotate(270deg);transform:rotate(270deg)}.fa-flip-horizontal{filter:progid:DXImageTransform.Microsoft.BasicImage(rotation=0, mirror=1);-webkit-transform:scale(-1,1);-ms-transform:scale(-1,1);transform:scale(-1,1)}.fa-flip-vertical{filter:progid:DXImageTransform.Microsoft.BasicImage(rotation=2, mirror=1);-webkit-transform:scale(1,-1);-ms-transform:scale(1,-1);transform:scale(1,-1)}:root .fa-rotate-90,:root .fa-rotate-180,:root .fa-rotate-270,:root .fa-flip-horizontal,:root .fa-flip-vertical{filter:none}.fa-stack{position:relative;display:inline-block;width:2em;height:2em;line-height:2em;vertical-align:middle}.fa-stack-1x,.fa-stack-2x{position:absolute;left:0;width:100%;text-align:center}.fa-stack-1x{line-height:inherit}.fa-stack-2x{font-size:2em}.fa-inverse{color:#fff}.fa-glass:before{content:\"\\f000\"}.fa-music:before{content:\"\\f001\"}.fa-search:before{content:\"\\f002\"}.fa-envelope-o:before{content:\"\\f003\"}.fa-heart:before{content:\"\\f004\"}.fa-star:before{content:\"\\f005\"}.fa-star-o:before{content:\"\\f006\"}.fa-user:before{content:\"\\f007\"}.fa-film:before{content:\"\\f008\"}.fa-th-large:before{content:\"\\f009\"}.fa-th:before{content:\"\\f00a\"}.fa-th-list:before{content:\"\\f00b\"}.fa-check:before{content:\"\\f00c\"}.fa-remove:before,.fa-close:before,.fa-times:before{content:\"\\f00d\"}.fa-search-plus:before{content:\"\\f00e\"}.fa-search-minus:before{content:\"\\f010\"}.fa-power-off:before{content:\"\\f011\"}.fa-signal:before{content:\"\\f012\"}.fa-gear:before,.fa-cog:before{content:\"\\f013\"}.fa-trash-o:before{content:\"\\f014\"}.fa-home:before{content:\"\\f015\"}.fa-file-o:before{content:\"\\f016\"}.fa-clock-o:before{content:\"\\f017\"}.fa-road:before{content:\"\\f018\"}.fa-download:before{content:\"\\f019\"}.fa-arrow-circle-o-down:before{content:\"\\f01a\"}.fa-arrow-circle-o-up:before{content:\"\\f01b\"}.fa-inbox:before{content:\"\\f01c\"}.fa-play-circle-o:before{content:\"\\f01d\"}.fa-rotate-right:before,.fa-repeat:before{content:\"\\f01e\"}.fa-refresh:before{content:\"\\f021\"}.fa-list-alt:before{content:\"\\f022\"}.fa-lock:before{content:\"\\f023\"}.fa-flag:before{content:\"\\f024\"}.fa-headphones:before{content:\"\\f025\"}.fa-volume-off:before{content:\"\\f026\"}.fa-volume-down:before{content:\"\\f027\"}.fa-volume-up:before{content:\"\\f028\"}.fa-qrcode:before{content:\"\\f029\"}.fa-barcode:before{content:\"\\f02a\"}.fa-tag:before{content:\"\\f02b\"}.fa-tags:before{content:\"\\f02c\"}.fa-book:before{content:\"\\f02d\"}.fa-bookmark:before{content:\"\\f02e\"}.fa-print:before{content:\"\\f02f\"}.fa-camera:before{content:\"\\f030\"}.fa-font:before{content:\"\\f031\"}.fa-bold:before{content:\"\\f032\"}.fa-italic:before{content:\"\\f033\"}.fa-text-height:before{content:\"\\f034\"}.fa-text-width:before{content:\"\\f035\"}.fa-align-left:before{content:\"\\f036\"}.fa-align-center:before{content:\"\\f037\"}.fa-align-right:before{content:\"\\f038\"}.fa-align-justify:before{content:\"\\f039\"}.fa-list:before{content:\"\\f03a\"}.fa-dedent:before,.fa-outdent:before{content:\"\\f03b\"}.fa-indent:before{content:\"\\f03c\"}.fa-video-camera:before{content:\"\\f03d\"}.fa-photo:before,.fa-image:before,.fa-picture-o:before{content:\"\\f03e\"}.fa-pencil:before{content:\"\\f040\"}.fa-map-marker:before{content:\"\\f041\"}.fa-adjust:before{content:\"\\f042\"}.fa-tint:before{content:\"\\f043\"}.fa-edit:before,.fa-pencil-square-o:before{content:\"\\f044\"}.fa-share-square-o:before{content:\"\\f045\"}.fa-check-square-o:before{content:\"\\f046\"}.fa-arrows:before{content:\"\\f047\"}.fa-step-backward:before{content:\"\\f048\"}.fa-fast-backward:before{content:\"\\f049\"}.fa-backward:before{content:\"\\f04a\"}.fa-play:before{content:\"\\f04b\"}.fa-pause:before{content:\"\\f04c\"}.fa-stop:before{content:\"\\f04d\"}.fa-forward:before{content:\"\\f04e\"}.fa-fast-forward:before{content:\"\\f050\"}.fa-step-forward:before{content:\"\\f051\"}.fa-eject:before{content:\"\\f052\"}.fa-chevron-left:before{content:\"\\f053\"}.fa-chevron-right:before{content:\"\\f054\"}.fa-plus-circle:before{content:\"\\f055\"}.fa-minus-circle:before{content:\"\\f056\"}.fa-times-circle:before{content:\"\\f057\"}.fa-check-circle:before{content:\"\\f058\"}.fa-question-circle:before{content:\"\\f059\"}.fa-info-circle:before{content:\"\\f05a\"}.fa-crosshairs:before{content:\"\\f05b\"}.fa-times-circle-o:before{content:\"\\f05c\"}.fa-check-circle-o:before{content:\"\\f05d\"}.fa-ban:before{content:\"\\f05e\"}.fa-arrow-left:before{content:\"\\f060\"}.fa-arrow-right:before{content:\"\\f061\"}.fa-arrow-up:before{content:\"\\f062\"}.fa-arrow-down:before{content:\"\\f063\"}.fa-mail-forward:before,.fa-share:before{content:\"\\f064\"}.fa-expand:before{content:\"\\f065\"}.fa-compress:before{content:\"\\f066\"}.fa-plus:before{content:\"\\f067\"}.fa-minus:before{content:\"\\f068\"}.fa-asterisk:before{content:\"\\f069\"}.fa-exclamation-circle:before{content:\"\\f06a\"}.fa-gift:before{content:\"\\f06b\"}.fa-leaf:before{content:\"\\f06c\"}.fa-fire:before{content:\"\\f06d\"}.fa-eye:before{content:\"\\f06e\"}.fa-eye-slash:before{content:\"\\f070\"}.fa-warning:before,.fa-exclamation-triangle:before{content:\"\\f071\"}.fa-plane:before{content:\"\\f072\"}.fa-calendar:before{content:\"\\f073\"}.fa-random:before{content:\"\\f074\"}.fa-comment:before{content:\"\\f075\"}.fa-magnet:before{content:\"\\f076\"}.fa-chevron-up:before{content:\"\\f077\"}.fa-chevron-down:before{content:\"\\f078\"}.fa-retweet:before{content:\"\\f079\"}.fa-shopping-cart:before{content:\"\\f07a\"}.fa-folder:before{content:\"\\f07b\"}.fa-folder-open:before{content:\"\\f07c\"}.fa-arrows-v:before{content:\"\\f07d\"}.fa-arrows-h:before{content:\"\\f07e\"}.fa-bar-chart-o:before,.fa-bar-chart:before{content:\"\\f080\"}.fa-twitter-square:before{content:\"\\f081\"}.fa-facebook-square:before{content:\"\\f082\"}.fa-camera-retro:before{content:\"\\f083\"}.fa-key:before{content:\"\\f084\"}.fa-gears:before,.fa-cogs:before{content:\"\\f085\"}.fa-comments:before{content:\"\\f086\"}.fa-thumbs-o-up:before{content:\"\\f087\"}.fa-thumbs-o-down:before{content:\"\\f088\"}.fa-star-half:before{content:\"\\f089\"}.fa-heart-o:before{content:\"\\f08a\"}.fa-sign-out:before{content:\"\\f08b\"}.fa-linkedin-square:before{content:\"\\f08c\"}.fa-thumb-tack:before{content:\"\\f08d\"}.fa-external-link:before{content:\"\\f08e\"}.fa-sign-in:before{content:\"\\f090\"}.fa-trophy:before{content:\"\\f091\"}.fa-github-square:before{content:\"\\f092\"}.fa-upload:before{content:\"\\f093\"}.fa-lemon-o:before{content:\"\\f094\"}.fa-phone:before{content:\"\\f095\"}.fa-square-o:before{content:\"\\f096\"}.fa-bookmark-o:before{content:\"\\f097\"}.fa-phone-square:before{content:\"\\f098\"}.fa-twitter:before{content:\"\\f099\"}.fa-facebook-f:before,.fa-facebook:before{content:\"\\f09a\"}.fa-github:before{content:\"\\f09b\"}.fa-unlock:before{content:\"\\f09c\"}.fa-credit-card:before{content:\"\\f09d\"}.fa-feed:before,.fa-rss:before{content:\"\\f09e\"}.fa-hdd-o:before{content:\"\\f0a0\"}.fa-bullhorn:before{content:\"\\f0a1\"}.fa-bell:before{content:\"\\f0f3\"}.fa-certificate:before{content:\"\\f0a3\"}.fa-hand-o-right:before{content:\"\\f0a4\"}.fa-hand-o-left:before{content:\"\\f0a5\"}.fa-hand-o-up:before{content:\"\\f0a6\"}.fa-hand-o-down:before{content:\"\\f0a7\"}.fa-arrow-circle-left:before{content:\"\\f0a8\"}.fa-arrow-circle-right:before{content:\"\\f0a9\"}.fa-arrow-circle-up:before{content:\"\\f0aa\"}.fa-arrow-circle-down:before{content:\"\\f0ab\"}.fa-globe:before{content:\"\\f0ac\"}.fa-wrench:before{content:\"\\f0ad\"}.fa-tasks:before{content:\"\\f0ae\"}.fa-filter:before{content:\"\\f0b0\"}.fa-briefcase:before{content:\"\\f0b1\"}.fa-arrows-alt:before{content:\"\\f0b2\"}.fa-group:before,.fa-users:before{content:\"\\f0c0\"}.fa-chain:before,.fa-link:before{content:\"\\f0c1\"}.fa-cloud:before{content:\"\\f0c2\"}.fa-flask:before{content:\"\\f0c3\"}.fa-cut:before,.fa-scissors:before{content:\"\\f0c4\"}.fa-copy:before,.fa-files-o:before{content:\"\\f0c5\"}.fa-paperclip:before{content:\"\\f0c6\"}.fa-save:before,.fa-floppy-o:before{content:\"\\f0c7\"}.fa-square:before{content:\"\\f0c8\"}.fa-navicon:before,.fa-reorder:before,.fa-bars:before{content:\"\\f0c9\"}.fa-list-ul:before{content:\"\\f0ca\"}.fa-list-ol:before{content:\"\\f0cb\"}.fa-strikethrough:before{content:\"\\f0cc\"}.fa-underline:before{content:\"\\f0cd\"}.fa-table:before{content:\"\\f0ce\"}.fa-magic:before{content:\"\\f0d0\"}.fa-truck:before{content:\"\\f0d1\"}.fa-pinterest:before{content:\"\\f0d2\"}.fa-pinterest-square:before{content:\"\\f0d3\"}.fa-google-plus-square:before{content:\"\\f0d4\"}.fa-google-plus:before{content:\"\\f0d5\"}.fa-money:before{content:\"\\f0d6\"}.fa-caret-down:before{content:\"\\f0d7\"}.fa-caret-up:before{content:\"\\f0d8\"}.fa-caret-left:before{content:\"\\f0d9\"}.fa-caret-right:before{content:\"\\f0da\"}.fa-columns:before{content:\"\\f0db\"}.fa-unsorted:before,.fa-sort:before{content:\"\\f0dc\"}.fa-sort-down:before,.fa-sort-desc:before{content:\"\\f0dd\"}.fa-sort-up:before,.fa-sort-asc:before{content:\"\\f0de\"}.fa-envelope:before{content:\"\\f0e0\"}.fa-linkedin:before{content:\"\\f0e1\"}.fa-rotate-left:before,.fa-undo:before{content:\"\\f0e2\"}.fa-legal:before,.fa-gavel:before{content:\"\\f0e3\"}.fa-dashboard:before,.fa-tachometer:before{content:\"\\f0e4\"}.fa-comment-o:before{content:\"\\f0e5\"}.fa-comments-o:before{content:\"\\f0e6\"}.fa-flash:before,.fa-bolt:before{content:\"\\f0e7\"}.fa-sitemap:before{content:\"\\f0e8\"}.fa-umbrella:before{content:\"\\f0e9\"}.fa-paste:before,.fa-clipboard:before{content:\"\\f0ea\"}.fa-lightbulb-o:before{content:\"\\f0eb\"}.fa-exchange:before{content:\"\\f0ec\"}.fa-cloud-download:before{content:\"\\f0ed\"}.fa-cloud-upload:before{content:\"\\f0ee\"}.fa-user-md:before{content:\"\\f0f0\"}.fa-stethoscope:before{content:\"\\f0f1\"}.fa-suitcase:before{content:\"\\f0f2\"}.fa-bell-o:before{content:\"\\f0a2\"}.fa-coffee:before{content:\"\\f0f4\"}.fa-cutlery:before{content:\"\\f0f5\"}.fa-file-text-o:before{content:\"\\f0f6\"}.fa-building-o:before{content:\"\\f0f7\"}.fa-hospital-o:before{content:\"\\f0f8\"}.fa-ambulance:before{content:\"\\f0f9\"}.fa-medkit:before{content:\"\\f0fa\"}.fa-fighter-jet:before{content:\"\\f0fb\"}.fa-beer:before{content:\"\\f0fc\"}.fa-h-square:before{content:\"\\f0fd\"}.fa-plus-square:before{content:\"\\f0fe\"}.fa-angle-double-left:before{content:\"\\f100\"}.fa-angle-double-right:before{content:\"\\f101\"}.fa-angle-double-up:before{content:\"\\f102\"}.fa-angle-double-down:before{content:\"\\f103\"}.fa-angle-left:before{content:\"\\f104\"}.fa-angle-right:before{content:\"\\f105\"}.fa-angle-up:before{content:\"\\f106\"}.fa-angle-down:before{content:\"\\f107\"}.fa-desktop:before{content:\"\\f108\"}.fa-laptop:before{content:\"\\f109\"}.fa-tablet:before{content:\"\\f10a\"}.fa-mobile-phone:before,.fa-mobile:before{content:\"\\f10b\"}.fa-circle-o:before{content:\"\\f10c\"}.fa-quote-left:before{content:\"\\f10d\"}.fa-quote-right:before{content:\"\\f10e\"}.fa-spinner:before{content:\"\\f110\"}.fa-circle:before{content:\"\\f111\"}.fa-mail-reply:before,.fa-reply:before{content:\"\\f112\"}.fa-github-alt:before{content:\"\\f113\"}.fa-folder-o:before{content:\"\\f114\"}.fa-folder-open-o:before{content:\"\\f115\"}.fa-smile-o:before{content:\"\\f118\"}.fa-frown-o:before{content:\"\\f119\"}.fa-meh-o:before{content:\"\\f11a\"}.fa-gamepad:before{content:\"\\f11b\"}.fa-keyboard-o:before{content:\"\\f11c\"}.fa-flag-o:before{content:\"\\f11d\"}.fa-flag-checkered:before{content:\"\\f11e\"}.fa-terminal:before{content:\"\\f120\"}.fa-code:before{content:\"\\f121\"}.fa-mail-reply-all:before,.fa-reply-all:before{content:\"\\f122\"}.fa-star-half-empty:before,.fa-star-half-full:before,.fa-star-half-o:before{content:\"\\f123\"}.fa-location-arrow:before{content:\"\\f124\"}.fa-crop:before{content:\"\\f125\"}.fa-code-fork:before{content:\"\\f126\"}.fa-unlink:before,.fa-chain-broken:before{content:\"\\f127\"}.fa-question:before{content:\"\\f128\"}.fa-info:before{content:\"\\f129\"}.fa-exclamation:before{content:\"\\f12a\"}.fa-superscript:before{content:\"\\f12b\"}.fa-subscript:before{content:\"\\f12c\"}.fa-eraser:before{content:\"\\f12d\"}.fa-puzzle-piece:before{content:\"\\f12e\"}.fa-microphone:before{content:\"\\f130\"}.fa-microphone-slash:before{content:\"\\f131\"}.fa-shield:before{content:\"\\f132\"}.fa-calendar-o:before{content:\"\\f133\"}.fa-fire-extinguisher:before{content:\"\\f134\"}.fa-rocket:before{content:\"\\f135\"}.fa-maxcdn:before{content:\"\\f136\"}.fa-chevron-circle-left:before{content:\"\\f137\"}.fa-chevron-circle-right:before{content:\"\\f138\"}.fa-chevron-circle-up:before{content:\"\\f139\"}.fa-chevron-circle-down:before{content:\"\\f13a\"}.fa-html5:before{content:\"\\f13b\"}.fa-css3:before{content:\"\\f13c\"}.fa-anchor:before{content:\"\\f13d\"}.fa-unlock-alt:before{content:\"\\f13e\"}.fa-bullseye:before{content:\"\\f140\"}.fa-ellipsis-h:before{content:\"\\f141\"}.fa-ellipsis-v:before{content:\"\\f142\"}.fa-rss-square:before{content:\"\\f143\"}.fa-play-circle:before{content:\"\\f144\"}.fa-ticket:before{content:\"\\f145\"}.fa-minus-square:before{content:\"\\f146\"}.fa-minus-square-o:before{content:\"\\f147\"}.fa-level-up:before{content:\"\\f148\"}.fa-level-down:before{content:\"\\f149\"}.fa-check-square:before{content:\"\\f14a\"}.fa-pencil-square:before{content:\"\\f14b\"}.fa-external-link-square:before{content:\"\\f14c\"}.fa-share-square:before{content:\"\\f14d\"}.fa-compass:before{content:\"\\f14e\"}.fa-toggle-down:before,.fa-caret-square-o-down:before{content:\"\\f150\"}.fa-toggle-up:before,.fa-caret-square-o-up:before{content:\"\\f151\"}.fa-toggle-right:before,.fa-caret-square-o-right:before{content:\"\\f152\"}.fa-euro:before,.fa-eur:before{content:\"\\f153\"}.fa-gbp:before{content:\"\\f154\"}.fa-dollar:before,.fa-usd:before{content:\"\\f155\"}.fa-rupee:before,.fa-inr:before{content:\"\\f156\"}.fa-cny:before,.fa-rmb:before,.fa-yen:before,.fa-jpy:before{content:\"\\f157\"}.fa-ruble:before,.fa-rouble:before,.fa-rub:before{content:\"\\f158\"}.fa-won:before,.fa-krw:before{content:\"\\f159\"}.fa-bitcoin:before,.fa-btc:before{content:\"\\f15a\"}.fa-file:before{content:\"\\f15b\"}.fa-file-text:before{content:\"\\f15c\"}.fa-sort-alpha-asc:before{content:\"\\f15d\"}.fa-sort-alpha-desc:before{content:\"\\f15e\"}.fa-sort-amount-asc:before{content:\"\\f160\"}.fa-sort-amount-desc:before{content:\"\\f161\"}.fa-sort-numeric-asc:before{content:\"\\f162\"}.fa-sort-numeric-desc:before{content:\"\\f163\"}.fa-thumbs-up:before{content:\"\\f164\"}.fa-thumbs-down:before{content:\"\\f165\"}.fa-youtube-square:before{content:\"\\f166\"}.fa-youtube:before{content:\"\\f167\"}.fa-xing:before{content:\"\\f168\"}.fa-xing-square:before{content:\"\\f169\"}.fa-youtube-play:before{content:\"\\f16a\"}.fa-dropbox:before{content:\"\\f16b\"}.fa-stack-overflow:before{content:\"\\f16c\"}.fa-instagram:before{content:\"\\f16d\"}.fa-flickr:before{content:\"\\f16e\"}.fa-adn:before{content:\"\\f170\"}.fa-bitbucket:before{content:\"\\f171\"}.fa-bitbucket-square:before{content:\"\\f172\"}.fa-tumblr:before{content:\"\\f173\"}.fa-tumblr-square:before{content:\"\\f174\"}.fa-long-arrow-down:before{content:\"\\f175\"}.fa-long-arrow-up:before{content:\"\\f176\"}.fa-long-arrow-left:before{content:\"\\f177\"}.fa-long-arrow-right:before{content:\"\\f178\"}.fa-apple:before{content:\"\\f179\"}.fa-windows:before{content:\"\\f17a\"}.fa-android:before{content:\"\\f17b\"}.fa-linux:before{content:\"\\f17c\"}.fa-dribbble:before{content:\"\\f17d\"}.fa-skype:before{content:\"\\f17e\"}.fa-foursquare:before{content:\"\\f180\"}.fa-trello:before{content:\"\\f181\"}.fa-female:before{content:\"\\f182\"}.fa-male:before{content:\"\\f183\"}.fa-gittip:before,.fa-gratipay:before{content:\"\\f184\"}.fa-sun-o:before{content:\"\\f185\"}.fa-moon-o:before{content:\"\\f186\"}.fa-archive:before{content:\"\\f187\"}.fa-bug:before{content:\"\\f188\"}.fa-vk:before{content:\"\\f189\"}.fa-weibo:before{content:\"\\f18a\"}.fa-renren:before{content:\"\\f18b\"}.fa-pagelines:before{content:\"\\f18c\"}.fa-stack-exchange:before{content:\"\\f18d\"}.fa-arrow-circle-o-right:before{content:\"\\f18e\"}.fa-arrow-circle-o-left:before{content:\"\\f190\"}.fa-toggle-left:before,.fa-caret-square-o-left:before{content:\"\\f191\"}.fa-dot-circle-o:before{content:\"\\f192\"}.fa-wheelchair:before{content:\"\\f193\"}.fa-vimeo-square:before{content:\"\\f194\"}.fa-turkish-lira:before,.fa-try:before{content:\"\\f195\"}.fa-plus-square-o:before{content:\"\\f196\"}.fa-space-shuttle:before{content:\"\\f197\"}.fa-slack:before{content:\"\\f198\"}.fa-envelope-square:before{content:\"\\f199\"}.fa-wordpress:before{content:\"\\f19a\"}.fa-openid:before{content:\"\\f19b\"}.fa-institution:before,.fa-bank:before,.fa-university:before{content:\"\\f19c\"}.fa-mortar-board:before,.fa-graduation-cap:before{content:\"\\f19d\"}.fa-yahoo:before{content:\"\\f19e\"}.fa-google:before{content:\"\\f1a0\"}.fa-reddit:before{content:\"\\f1a1\"}.fa-reddit-square:before{content:\"\\f1a2\"}.fa-stumbleupon-circle:before{content:\"\\f1a3\"}.fa-stumbleupon:before{content:\"\\f1a4\"}.fa-delicious:before{content:\"\\f1a5\"}.fa-digg:before{content:\"\\f1a6\"}.fa-pied-piper:before{content:\"\\f1a7\"}.fa-pied-piper-alt:before{content:\"\\f1a8\"}.fa-drupal:before{content:\"\\f1a9\"}.fa-joomla:before{content:\"\\f1aa\"}.fa-language:before{content:\"\\f1ab\"}.fa-fax:before{content:\"\\f1ac\"}.fa-building:before{content:\"\\f1ad\"}.fa-child:before{content:\"\\f1ae\"}.fa-paw:before{content:\"\\f1b0\"}.fa-spoon:before{content:\"\\f1b1\"}.fa-cube:before{content:\"\\f1b2\"}.fa-cubes:before{content:\"\\f1b3\"}.fa-behance:before{content:\"\\f1b4\"}.fa-behance-square:before{content:\"\\f1b5\"}.fa-steam:before{content:\"\\f1b6\"}.fa-steam-square:before{content:\"\\f1b7\"}.fa-recycle:before{content:\"\\f1b8\"}.fa-automobile:before,.fa-car:before{content:\"\\f1b9\"}.fa-cab:before,.fa-taxi:before{content:\"\\f1ba\"}.fa-tree:before{content:\"\\f1bb\"}.fa-spotify:before{content:\"\\f1bc\"}.fa-deviantart:before{content:\"\\f1bd\"}.fa-soundcloud:before{content:\"\\f1be\"}.fa-database:before{content:\"\\f1c0\"}.fa-file-pdf-o:before{content:\"\\f1c1\"}.fa-file-word-o:before{content:\"\\f1c2\"}.fa-file-excel-o:before{content:\"\\f1c3\"}.fa-file-powerpoint-o:before{content:\"\\f1c4\"}.fa-file-photo-o:before,.fa-file-picture-o:before,.fa-file-image-o:before{content:\"\\f1c5\"}.fa-file-zip-o:before,.fa-file-archive-o:before{content:\"\\f1c6\"}.fa-file-sound-o:before,.fa-file-audio-o:before{content:\"\\f1c7\"}.fa-file-movie-o:before,.fa-file-video-o:before{content:\"\\f1c8\"}.fa-file-code-o:before{content:\"\\f1c9\"}.fa-vine:before{content:\"\\f1ca\"}.fa-codepen:before{content:\"\\f1cb\"}.fa-jsfiddle:before{content:\"\\f1cc\"}.fa-life-bouy:before,.fa-life-buoy:before,.fa-life-saver:before,.fa-support:before,.fa-life-ring:before{content:\"\\f1cd\"}.fa-circle-o-notch:before{content:\"\\f1ce\"}.fa-ra:before,.fa-rebel:before{content:\"\\f1d0\"}.fa-ge:before,.fa-empire:before{content:\"\\f1d1\"}.fa-git-square:before{content:\"\\f1d2\"}.fa-git:before{content:\"\\f1d3\"}.fa-y-combinator-square:before,.fa-yc-square:before,.fa-hacker-news:before{content:\"\\f1d4\"}.fa-tencent-weibo:before{content:\"\\f1d5\"}.fa-qq:before{content:\"\\f1d6\"}.fa-wechat:before,.fa-weixin:before{content:\"\\f1d7\"}.fa-send:before,.fa-paper-plane:before{content:\"\\f1d8\"}.fa-send-o:before,.fa-paper-plane-o:before{content:\"\\f1d9\"}.fa-history:before{content:\"\\f1da\"}.fa-circle-thin:before{content:\"\\f1db\"}.fa-header:before{content:\"\\f1dc\"}.fa-paragraph:before{content:\"\\f1dd\"}.fa-sliders:before{content:\"\\f1de\"}.fa-share-alt:before{content:\"\\f1e0\"}.fa-share-alt-square:before{content:\"\\f1e1\"}.fa-bomb:before{content:\"\\f1e2\"}.fa-soccer-ball-o:before,.fa-futbol-o:before{content:\"\\f1e3\"}.fa-tty:before{content:\"\\f1e4\"}.fa-binoculars:before{content:\"\\f1e5\"}.fa-plug:before{content:\"\\f1e6\"}.fa-slideshare:before{content:\"\\f1e7\"}.fa-twitch:before{content:\"\\f1e8\"}.fa-yelp:before{content:\"\\f1e9\"}.fa-newspaper-o:before{content:\"\\f1ea\"}.fa-wifi:before{content:\"\\f1eb\"}.fa-calculator:before{content:\"\\f1ec\"}.fa-paypal:before{content:\"\\f1ed\"}.fa-google-wallet:before{content:\"\\f1ee\"}.fa-cc-visa:before{content:\"\\f1f0\"}.fa-cc-mastercard:before{content:\"\\f1f1\"}.fa-cc-discover:before{content:\"\\f1f2\"}.fa-cc-amex:before{content:\"\\f1f3\"}.fa-cc-paypal:before{content:\"\\f1f4\"}.fa-cc-stripe:before{content:\"\\f1f5\"}.fa-bell-slash:before{content:\"\\f1f6\"}.fa-bell-slash-o:before{content:\"\\f1f7\"}.fa-trash:before{content:\"\\f1f8\"}.fa-copyright:before{content:\"\\f1f9\"}.fa-at:before{content:\"\\f1fa\"}.fa-eyedropper:before{content:\"\\f1fb\"}.fa-paint-brush:before{content:\"\\f1fc\"}.fa-birthday-cake:before{content:\"\\f1fd\"}.fa-area-chart:before{content:\"\\f1fe\"}.fa-pie-chart:before{content:\"\\f200\"}.fa-line-chart:before{content:\"\\f201\"}.fa-lastfm:before{content:\"\\f202\"}.fa-lastfm-square:before{content:\"\\f203\"}.fa-toggle-off:before{content:\"\\f204\"}.fa-toggle-on:before{content:\"\\f205\"}.fa-bicycle:before{content:\"\\f206\"}.fa-bus:before{content:\"\\f207\"}.fa-ioxhost:before{content:\"\\f208\"}.fa-angellist:before{content:\"\\f209\"}.fa-cc:before{content:\"\\f20a\"}.fa-shekel:before,.fa-sheqel:before,.fa-ils:before{content:\"\\f20b\"}.fa-meanpath:before{content:\"\\f20c\"}.fa-buysellads:before{content:\"\\f20d\"}.fa-connectdevelop:before{content:\"\\f20e\"}.fa-dashcube:before{content:\"\\f210\"}.fa-forumbee:before{content:\"\\f211\"}.fa-leanpub:before{content:\"\\f212\"}.fa-sellsy:before{content:\"\\f213\"}.fa-shirtsinbulk:before{content:\"\\f214\"}.fa-simplybuilt:before{content:\"\\f215\"}.fa-skyatlas:before{content:\"\\f216\"}.fa-cart-plus:before{content:\"\\f217\"}.fa-cart-arrow-down:before{content:\"\\f218\"}.fa-diamond:before{content:\"\\f219\"}.fa-ship:before{content:\"\\f21a\"}.fa-user-secret:before{content:\"\\f21b\"}.fa-motorcycle:before{content:\"\\f21c\"}.fa-street-view:before{content:\"\\f21d\"}.fa-heartbeat:before{content:\"\\f21e\"}.fa-venus:before{content:\"\\f221\"}.fa-mars:before{content:\"\\f222\"}.fa-mercury:before{content:\"\\f223\"}.fa-intersex:before,.fa-transgender:before{content:\"\\f224\"}.fa-transgender-alt:before{content:\"\\f225\"}.fa-venus-double:before{content:\"\\f226\"}.fa-mars-double:before{content:\"\\f227\"}.fa-venus-mars:before{content:\"\\f228\"}.fa-mars-stroke:before{content:\"\\f229\"}.fa-mars-stroke-v:before{content:\"\\f22a\"}.fa-mars-stroke-h:before{content:\"\\f22b\"}.fa-neuter:before{content:\"\\f22c\"}.fa-genderless:before{content:\"\\f22d\"}.fa-facebook-official:before{content:\"\\f230\"}.fa-pinterest-p:before{content:\"\\f231\"}.fa-whatsapp:before{content:\"\\f232\"}.fa-server:before{content:\"\\f233\"}.fa-user-plus:before{content:\"\\f234\"}.fa-user-times:before{content:\"\\f235\"}.fa-hotel:before,.fa-bed:before{content:\"\\f236\"}.fa-viacoin:before{content:\"\\f237\"}.fa-train:before{content:\"\\f238\"}.fa-subway:before{content:\"\\f239\"}.fa-medium:before{content:\"\\f23a\"}.fa-yc:before,.fa-y-combinator:before{content:\"\\f23b\"}.fa-optin-monster:before{content:\"\\f23c\"}.fa-opencart:before{content:\"\\f23d\"}.fa-expeditedssl:before{content:\"\\f23e\"}.fa-battery-4:before,.fa-battery-full:before{content:\"\\f240\"}.fa-battery-3:before,.fa-battery-three-quarters:before{content:\"\\f241\"}.fa-battery-2:before,.fa-battery-half:before{content:\"\\f242\"}.fa-battery-1:before,.fa-battery-quarter:before{content:\"\\f243\"}.fa-battery-0:before,.fa-battery-empty:before{content:\"\\f244\"}.fa-mouse-pointer:before{content:\"\\f245\"}.fa-i-cursor:before{content:\"\\f246\"}.fa-object-group:before{content:\"\\f247\"}.fa-object-ungroup:before{content:\"\\f248\"}.fa-sticky-note:before{content:\"\\f249\"}.fa-sticky-note-o:before{content:\"\\f24a\"}.fa-cc-jcb:before{content:\"\\f24b\"}.fa-cc-diners-club:before{content:\"\\f24c\"}.fa-clone:before{content:\"\\f24d\"}.fa-balance-scale:before{content:\"\\f24e\"}.fa-hourglass-o:before{content:\"\\f250\"}.fa-hourglass-1:before,.fa-hourglass-start:before{content:\"\\f251\"}.fa-hourglass-2:before,.fa-hourglass-half:before{content:\"\\f252\"}.fa-hourglass-3:before,.fa-hourglass-end:before{content:\"\\f253\"}.fa-hourglass:before{content:\"\\f254\"}.fa-hand-grab-o:before,.fa-hand-rock-o:before{content:\"\\f255\"}.fa-hand-stop-o:before,.fa-hand-paper-o:before{content:\"\\f256\"}.fa-hand-scissors-o:before{content:\"\\f257\"}.fa-hand-lizard-o:before{content:\"\\f258\"}.fa-hand-spock-o:before{content:\"\\f259\"}.fa-hand-pointer-o:before{content:\"\\f25a\"}.fa-hand-peace-o:before{content:\"\\f25b\"}.fa-trademark:before{content:\"\\f25c\"}.fa-registered:before{content:\"\\f25d\"}.fa-creative-commons:before{content:\"\\f25e\"}.fa-gg:before{content:\"\\f260\"}.fa-gg-circle:before{content:\"\\f261\"}.fa-tripadvisor:before{content:\"\\f262\"}.fa-odnoklassniki:before{content:\"\\f263\"}.fa-odnoklassniki-square:before{content:\"\\f264\"}.fa-get-pocket:before{content:\"\\f265\"}.fa-wikipedia-w:before{content:\"\\f266\"}.fa-safari:before{content:\"\\f267\"}.fa-chrome:before{content:\"\\f268\"}.fa-firefox:before{content:\"\\f269\"}.fa-opera:before{content:\"\\f26a\"}.fa-internet-explorer:before{content:\"\\f26b\"}.fa-tv:before,.fa-television:before{content:\"\\f26c\"}.fa-contao:before{content:\"\\f26d\"}.fa-500px:before{content:\"\\f26e\"}.fa-amazon:before{content:\"\\f270\"}.fa-calendar-plus-o:before{content:\"\\f271\"}.fa-calendar-minus-o:before{content:\"\\f272\"}.fa-calendar-times-o:before{content:\"\\f273\"}.fa-calendar-check-o:before{content:\"\\f274\"}.fa-industry:before{content:\"\\f275\"}.fa-map-pin:before{content:\"\\f276\"}.fa-map-signs:before{content:\"\\f277\"}.fa-map-o:before{content:\"\\f278\"}.fa-map:before{content:\"\\f279\"}.fa-commenting:before{content:\"\\f27a\"}.fa-commenting-o:before{content:\"\\f27b\"}.fa-houzz:before{content:\"\\f27c\"}.fa-vimeo:before{content:\"\\f27d\"}.fa-black-tie:before{content:\"\\f27e\"}.fa-fonticons:before{content:\"\\f280\"}.fa-reddit-alien:before{content:\"\\f281\"}.fa-edge:before{content:\"\\f282\"}.fa-credit-card-alt:before{content:\"\\f283\"}.fa-codiepie:before{content:\"\\f284\"}.fa-modx:before{content:\"\\f285\"}.fa-fort-awesome:before{content:\"\\f286\"}.fa-usb:before{content:\"\\f287\"}.fa-product-hunt:before{content:\"\\f288\"}.fa-mixcloud:before{content:\"\\f289\"}.fa-scribd:before{content:\"\\f28a\"}.fa-pause-circle:before{content:\"\\f28b\"}.fa-pause-circle-o:before{content:\"\\f28c\"}.fa-stop-circle:before{content:\"\\f28d\"}.fa-stop-circle-o:before{content:\"\\f28e\"}.fa-shopping-bag:before{content:\"\\f290\"}.fa-shopping-basket:before{content:\"\\f291\"}.fa-hashtag:before{content:\"\\f292\"}.fa-bluetooth:before{content:\"\\f293\"}.fa-bluetooth-b:before{content:\"\\f294\"}.fa-percent:before{content:\"\\f295\"}/*!\n",
       " * Bootstrap Tooltips and Popovers v3.3.5 (http://getbootstrap.com)\n",
       " * Copyright 2011-2015 Twitter, Inc.\n",
       " * Licensed under MIT (https://github.com/twbs/bootstrap/blob/master/LICENSE)\n",
       " */.tooltip{position:absolute;z-index:1070;display:block;visibility:visible;font-family:\"Helvetica Neue\",Helvetica,Arial,sans-serif;font-size:12px;font-weight:400;line-height:1.4;opacity:0;filter:alpha(opacity=0)}.tooltip.in{opacity:.9;filter:alpha(opacity=90)}.tooltip.top{margin-top:-3px;padding:5px 0}.tooltip.right{margin-left:3px;padding:0 5px}.tooltip.bottom{margin-top:3px;padding:5px 0}.tooltip.left{margin-left:-3px;padding:0 5px}.tooltip-inner{max-width:200px;padding:3px 8px;color:#fff;text-align:center;text-decoration:none;background-color:#000;border-radius:4px}.tooltip-arrow{position:absolute;width:0;height:0;border-color:transparent;border-style:solid}.tooltip.top .tooltip-arrow{bottom:0;left:50%;margin-left:-5px;border-width:5px 5px 0;border-top-color:#000}.tooltip.top-left .tooltip-arrow{bottom:0;right:5px;margin-bottom:-5px;border-width:5px 5px 0;border-top-color:#000}.tooltip.top-right .tooltip-arrow{bottom:0;left:5px;margin-bottom:-5px;border-width:5px 5px 0;border-top-color:#000}.tooltip.right .tooltip-arrow{top:50%;left:0;margin-top:-5px;border-width:5px 5px 5px 0;border-right-color:#000}.tooltip.left .tooltip-arrow{top:50%;right:0;margin-top:-5px;border-width:5px 0 5px 5px;border-left-color:#000}.tooltip.bottom .tooltip-arrow{top:0;left:50%;margin-left:-5px;border-width:0 5px 5px;border-bottom-color:#000}.tooltip.bottom-left .tooltip-arrow{top:0;right:5px;margin-top:-5px;border-width:0 5px 5px;border-bottom-color:#000}.tooltip.bottom-right .tooltip-arrow{top:0;left:5px;margin-top:-5px;border-width:0 5px 5px;border-bottom-color:#000}.popover{position:absolute;top:0;left:0;z-index:1060;display:none;max-width:276px;padding:1px;font-family:\"Helvetica Neue\",Helvetica,Arial,sans-serif;font-size:14px;font-weight:400;line-height:1.42857143;text-align:left;background-color:#fff;background-clip:padding-box;border:1px solid #ccc;border:1px solid rgba(0,0,0,.2);border-radius:6px;-webkit-box-shadow:0 5px 10px rgba(0,0,0,.2);box-shadow:0 5px 10px rgba(0,0,0,.2);white-space:normal}.popover.top{margin-top:-10px}.popover.right{margin-left:10px}.popover.bottom{margin-top:10px}.popover.left{margin-left:-10px}.popover-title{margin:0;padding:8px 14px;font-size:14px;background-color:#f7f7f7;border-bottom:1px solid #ebebeb;border-radius:5px 5px 0 0}.popover-content{padding:9px 14px}.popover>.arrow,.popover>.arrow:after{position:absolute;display:block;width:0;height:0;border-color:transparent;border-style:solid}.popover>.arrow{border-width:11px}.popover>.arrow:after{border-width:10px;content:\"\"}.popover.top>.arrow{left:50%;margin-left:-11px;border-bottom-width:0;border-top-color:#999;border-top-color:rgba(0,0,0,.25);bottom:-11px}.popover.top>.arrow:after{content:\" \";bottom:1px;margin-left:-10px;border-bottom-width:0;border-top-color:#fff}.popover.right>.arrow{top:50%;left:-11px;margin-top:-11px;border-left-width:0;border-right-color:#999;border-right-color:rgba(0,0,0,.25)}.popover.right>.arrow:after{content:\" \";left:1px;bottom:-10px;border-left-width:0;border-right-color:#fff}.popover.bottom>.arrow{left:50%;margin-left:-11px;border-top-width:0;border-bottom-color:#999;border-bottom-color:rgba(0,0,0,.25);top:-11px}.popover.bottom>.arrow:after{content:\" \";top:1px;margin-left:-10px;border-top-width:0;border-bottom-color:#fff}.popover.left>.arrow{top:50%;right:-11px;margin-top:-11px;border-right-width:0;border-left-color:#999;border-left-color:rgba(0,0,0,.25)}.popover.left>.arrow:after{content:\" \";right:1px;border-right-width:0;border-left-color:#fff;bottom:-10px}.tooltip,.popover{font-family:'Open Sans',Verdana,'DejaVu Sans',Arial,Helvetica,sans-serif}.popover{box-shadow:0 5px 5px -5px #cacaca!important;border-radius:inherit}.popoverTrigger{cursor:pointer}.shareButtonList a{margin:8px}.shareButtonList .fa{vertical-align:middle;margin-right:8px}.shareButtonList .fa-twitter-square{color:#55acee}.shareButtonList .fa-facebook-square{color:#3b5998}.shareButtonList .fa-google-plus-square{color:#da503b}.shareButtonList li:last-child{margin:0}.shareButtonList a{margin:0}\n",
       "\n",
       "            .grid-flex{width:100%}.grid-flex.gutter,.grid-flex.gutter-vertical{width:calc(100% + 16px)}.grid-flex.gutter-vertical-xs,.grid-flex.gutter-xs{width:calc(100% + 2px)}.grid-flex.gutter-s,.grid-flex.gutter-vertical-s{width:calc(100% + 4px)}.grid-flex.gutter-m,.grid-flex.gutter-vertical-m{width:calc(100% + 8px)}.grid-flex.gutter-l,.grid-flex.gutter-vertical-l{width:calc(100% + 16px)}.grid-flex.gutter-vertical-xl,.grid-flex.gutter-xl{width:calc(100% + 24px)}.grid-flex.gutter-vertical-xxl,.grid-flex.gutter-xxl{width:calc(100% + 32px)}@media (min-width:669px){.grid-flex{width:100%}.grid-flex.gutter,.grid-flex.gutter-vertical{width:calc(100% + 24px)}.grid-flex.gutter-vertical-xs,.grid-flex.gutter-xs{width:calc(100% + 4px)}.grid-flex.gutter-s,.grid-flex.gutter-vertical-s{width:calc(100% + 8px)}.grid-flex.gutter-m,.grid-flex.gutter-vertical-m{width:calc(100% + 16px)}.grid-flex.gutter-l,.grid-flex.gutter-vertical-l{width:calc(100% + 24px)}.grid-flex.gutter-vertical-xl,.grid-flex.gutter-xl{width:calc(100% + 32px)}.grid-flex.gutter-vertical-xxl,.grid-flex.gutter-xxl{width:calc(100% + 40px)}}.button-primary.disabled,.button-primary.disabled:active,.button-primary.disabled:focus,.button-primary.disabled:hover,.button-primary.disabled:link,.button-primary.disabled:visited,.button-primary[disabled],a.button-primary.disabled{opacity:1;border-color:#fccda6;background:#ffcfa6}.button-secondary.disabled,.button-secondary.disabled:active,.button-secondary.disabled:focus,.button-secondary.disabled:hover,.button-secondary.disabled:link,.button-secondary.disabled:visited,.button-secondary[disabled],a.button-secondary.disabled{opacity:1;border-color:#a6c4d7;background:#a6c7db}.button.disabled,.button.disabled:active,.button.disabled:focus,.button.disabled:hover,.button.disabled:link,.button.disabled:visited,.button[disabled],a.button.disabled{opacity:1;border-color:#f4f4f4;background-color:#fff;color:#a6b8ca}.ad-skyscraper--left{display:none}@media (min-width:1471px){.has-ad-skyscraper--left .ad-skyscraper--left{display:block}}@media (min-width:669px){.ad-skyscraper--left{position:absolute;z-index:1999}}@media (min-width:1014px){.ad-skyscraper--left{top:120px;width:300px;left:-301px}}.page-wrapper--no-borders{border-width:0;border-color:transparent;padding:0}.content-wrapper--non-centered{margin:auto;max-width:none;background-color:#fff}@media (max-width:668px){.content-wrapper--palm-stretch{padding:0}.content-wrapper--palm-stretch .negate-palm-stretch{padding-left:16px;padding-right:16px}}@media (min-width:669px) and (max-width:1013px){.content-wrapper--lap-stretch{padding:0}.content-wrapper--lap-stretch .negate-lap-stretch{padding-left:24px;padding-right:24px}}.absolute-content--centered{left:50%;top:50%;-webkit-transform:translateX(-50%) translateY(-50%);-moz-transform:translateX(-50%) translateY(-50%);-ms-transform:translateX(-50%) translateY(-50%);-o-transform:translateX(-50%) translateY(-50%);transform:translateX(-50%) translateY(-50%)}.ad_google.tablet #is24-content,.ad_google.tablet #is24-footer{margin-right:0}#is24-content{background-color:#fff}.endOfBody{height:0;overflow:hidden}.horizontally-centered{margin-left:auto;margin-right:auto;display:block}.vertically-centered{margin-top:auto;margin-bottom:auto;top:0;bottom:0;position:absolute}.maxtwoliner,.maxtwoliner-basic{white-space:normal;word-break:normal;overflow:hidden;display:block;text-overflow:ellipsis}.maxtwoliner{max-height:3.2}.maxtwolinerHeadline{max-height:2.66;line-height:1.33!important}.maxtwoliner-fixed-height,.maxtwolinerHeadline{white-space:normal;word-break:normal;overflow:hidden;display:block;text-overflow:ellipsis}.maxtwoliner-fixed-height{max-height:5rem;min-height:5rem}.maxtwoliner,.maxtwoliner *{line-height:1.6!important}.sublist .maxtwoliner{max-height:2.8em}.link-internal{color:#2a7cca;cursor:pointer;text-decoration:underline}.link-internal:hover{color:#ff7500}a.blacklink{color:#262626;text-decoration:none}a.blacklink:hover{color:#ff7500}.loadingEntries .hideWhileLoadingEntries{display:none!important}.no-flex .grid-flex{display:block;-webkit-flex:initial;-moz-flex:initial;-ms-flex:initial;flex:initial;-webkit-flex-flow:row nowrap;-moz-flex-flow:row nowrap;-ms-flex-flow:row nowrap;flex-flow:row nowrap}.no-flex .grid-flex:after{content:\"\"}.no-flex .grid-flex>.grid-item{display:block;-webkit-flex:initial;-moz-flex:initial;-ms-flex:initial;flex:initial;-webkit-flex-flow:row nowrap;-moz-flex-flow:row nowrap;-ms-flex-flow:row nowrap;flex-flow:row nowrap}.button-link,.button-reset{text-align:left;background:none;border:none;padding:0;color:#2a7cca;font-weight:400;vertical-align:baseline}@media (min-width:1014px){.button-link:hover,.button-reset:hover{color:#ff7500}}.button-link:hover{text-decoration:underline}@media (max-width:668px){.padding-horizontal-m2{padding-left:12px!important;padding-right:12px!important}}@media (min-width:669px){.padding-horizontal-m2{padding-left:20px!important;padding-right:20px!important}}@media (max-width:668px){.padding-left-m2{padding-left:12px!important}}@media (min-width:669px){.padding-left-m2{padding-left:20px!important}}@media (max-width:668px){.padding-right-m2{padding-right:12px!important}}@media (min-width:669px){.padding-right-m2{padding-right:20px!important}}.font-gray{color:#747474!important}.listings-content-area__sidebar.listings-content-area__sidebar{width:250px}@media (min-width:1163px){.listings-content-area__sidebar.listings-content-area__sidebar{width:300px}}.listings-content-area__sidebar .background-sidebar{background-color:#fafafa}.listings-content-area__sidebar h1,.listings-content-area__sidebar h2,.listings-content-area__sidebar h3,.listings-content-area__sidebar h4,.listings-content-area__sidebar h5,.listings-content-area__sidebar h6{color:#4c4c4c}.listings-content-area__sidebar p{color:#747474}@media (min-width:1014px){.listings-content-area__listings{margin-right:6px}}.sidebar-teaser-collection-box>*+*{border-top:1px solid #e0e0e0}@media (max-width:668px){.sidebar-teaser-collection-box>*+*{margin-top:16px;padding-top:16px}}@media (min-width:669px){.sidebar-teaser-collection-box>*+*{margin-top:24px;padding-top:24px}}#is24-footer{margin-left:auto;margin-right:auto;clear:both;width:100%}.bottom-box{background-color:#fff}body.no-realtor-ad #maklerAd{display:none}#maklerAd>:first-child{padding-right:10px;padding-bottom:10px}body:not(.small-listings) #is24-maklerad{width:100%}#maklerAd{position:absolute;top:0;left:0;background-color:#fff;z-index:1001}.nomap #maklerAd,.page-ad{position:relative}.page-ad{margin-top:91px}.fullWidthMapAd{width:100%}#resultListItems .is24-adplace div,#resultListItems .is24-adplace iframe{max-width:100%}body.wallpaper_background_shown .viewport{cursor:pointer}body.wallpaper_background_shown #is24-page-wrapper,body.wallpaper_background_shown .topnavigation-slide-in-container{cursor:auto}.banner-top-placeholder{margin-top:15px}@media (max-width:668px){.banner-top-placeholder{display:none}}@media (min-width:669px){.banner-top-placeholder{min-height:90px}}@media (min-width:800px){.banner-top-placeholder--billboard{min-height:250px}}@media (min-width:669px){.banner-top-placeholder--empire-banner{min-height:220px}}.list-banner-bottom{border-top:1px solid #e0e0e0;border-bottom:1px solid #e0e0e0;padding:13px 0 32px;background-color:#f6f6f6}.list-banner-bottom[empty]{display:none}#googleAds__list{bottom:0;line-height:1.35;word-wrap:break-word;font-size:.8em}#googleAds__list a{text-decoration:none}#googleAds__list a:focus,#googleAds__list a:hover{text-decoration:underline}#googleAds__list .ad_header{text-transform:uppercase;color:#999}#googleAds__list .ad_line1{font-weight:700}input.ng-invalid.ng-dirty{background-color:#ffdddc;border-color:#c42525}input::-webkit-inner-spin-button,input::-webkit-outer-spin-button{-webkit-appearance:none}input[type=number]{-moz-appearance:textfield}.fake-dropdown{position:relative}.fake-dropdown.fake-text{padding:.7142em}.fake-dropdown.input-text:focus{border-color:#d4d4d4}.fake-dropdown:after{position:absolute;top:50%;right:.6em;margin-top:-.5em;line-height:1;font-family:FontAwesome;font-size:1.2em;content:\"\\F107\";cursor:pointer;pointer-events:none}.fake-dropdown select{padding-right:1.8em;-moz-appearance:none;-webkit-appearance:none;appearance:none;background-color:transparent;cursor:pointer}.fake-dropdown select::-ms-expand{display:none}.bottom-box h1,.bottom-box h2,.bottom-box h3,.bottom-box h4,.bottom-box h5,.bottom-box h6{color:#4c4c4c}.bottom-box p{color:#747474}@media (max-width:668px){.bottom-box{padding-left:16px;padding-right:16px}}.breadcrumb{border-bottom:none}@media (max-width:668px){.breadcrumb{padding-left:16px;padding-right:16px}}body .page-wrapper.page-wrapper--more-maxwidth{max-width:1186px}@media (min-width:1014px) and (max-width:1501px){.has-ad-skyscraper--right .page-wrapper--with-ads{margin-right:0;margin-left:inherit}}@media (max-width:668px){.expose-carousel-recommendations{padding-left:16px;padding-right:16px}}.two-columns{-webkit-column-count:2;-moz-column-count:2;column-count:2}.three-columns{-webkit-column-count:3;-moz-column-count:3;column-count:3}.four-columns{-webkit-column-count:4;-moz-column-count:4;column-count:4}@media (min-width:669px) and (max-width:1013px){.lap-two-columns{-webkit-column-count:2;-moz-column-count:2;column-count:2}.lap-three-columns{-webkit-column-count:3;-moz-column-count:3;column-count:3}.lap-four-columns{-webkit-column-count:4;-moz-column-count:4;column-count:4}.lap-column-gap-l{-webkit-column-gap:24px;-moz-column-gap:24px;column-gap:24px}}@media (min-width:1014px){.desk-two-columns{-webkit-column-count:2;-moz-column-count:2;column-count:2}.desk-three-columns{-webkit-column-count:3;-moz-column-count:3;column-count:3}.desk-four-columns{-webkit-column-count:4;-moz-column-count:4;column-count:4}}.column-gap-l{-webkit-column-gap:16px;-moz-column-gap:16px;column-gap:16px}@media (min-width:669px){.column-gap-l{-webkit-column-gap:24px;-moz-column-gap:24px;column-gap:24px}}.avoid-break-inside-descendants *{-webkit-column-break-inside:avoid;page-break-inside:avoid;break-inside:avoid;-ms-overflow-y:hidden}.always-break-before{-webkit-column-break-before:always;page-break-before:always;break-before:always}@media (max-width:668px){.header-controls button{font-size:1.3rem}}@media (max-width:668px){.header-controls .sortForm .fake-dropdown select{width:17px;height:23px;padding:0}.header-controls .sortForm .fake-dropdown:after{display:none}.header-controls .sortForm .fake-dropdown .icon-dropdown{position:absolute;top:0;right:0;bottom:0;left:0;pointer-events:none}}@media (min-width:669px){.header-controls .sortForm select{width:180px;padding-top:.45em;padding-bottom:.45em;height:auto;line-height:1.42857}.header-controls .sortForm .icon-dropdown{display:none}}.header-controls .result-count-container{width:.16666667%}.header-controls .save-search-link .stroke{stroke:#2a7cca}.header-controls .save-search-link .fill{fill:#2a7cca}.header-controls .save-search-link:active .stroke,.header-controls .save-search-link:focus .stroke,.header-controls .save-search-link:hover .stroke{stroke:#ff7500}.header-controls .save-search-link:active .fill,.header-controls .save-search-link:focus .fill,.header-controls .save-search-link:hover .fill{fill:#ff7500}.save-search-icon{position:relative;top:2px}body.no-flex .header-controls .result-count-container{width:auto;max-width:30%}body.no-flex .header-controls .sort-form-container{float:right}.modularBackground{position:fixed;top:0;left:0;margin:0;height:100%;width:100%;z-index:3000;background-color:rgba(44,44,44,.75)}.modularBackground .status-message{position:relative;top:10%}.modularBackground .message-box{margin:10% auto 0;width:60%}.modularBackground .message-box .close-button{position:absolute;right:-10px;top:-10px;color:#fff;font-size:18px;background-color:#4c4c4c;border-radius:13px;line-height:26px;width:26px}@media (max-width:668px){.modularBackground .message-box{width:80%}}@media (min-width:669px){.empty-list-message-box{margin-top:24px}}@media (min-width:669px){.search-header-outer{background-color:#f5f5f5;margin-top:15px;margin-bottom:32px;border-top:1px solid #e0e0e0;border-bottom:1px solid #e0e0e0}}.fullsize-map .search-header h1{color:#4c4c4c}.cockpit,.cockpitLayer{background-color:#fff}.cockpitLayer{position:absolute;z-index:1000}.cockpit .two-inputs{display:table;table-layout:fixed;width:100%}.cockpit .two-inputs__column{display:table-cell}.cockpit .two-inputs__column--dash{width:2em;text-align:center}@media (max-width:668px){.cockpit .two-inputs__column--dash{width:1.2em}}.cockpit input:disabled{background-color:#f6f6f6}.cockpit .submit{display:none}.cockpit .textfield-container{position:relative}.cockpit .textfield-container .remove-default-clear-icon::-ms-clear{display:none}.react-cockpit.cockpit{position:static;background-color:inherit}.react-cockpit.cockpit .input-text{-webkit-appearance:none}.react-cockpit .react-cockpit__outside-criteria .criterion{padding-bottom:0}.react-cockpit .react-cockpit__outside-criteria .drop-down-layer .criterion{padding-bottom:32px}.react-cockpit .outside-mode .seach-filter-button-container .cockpit__search-filter-button .adapt-search{height:3em}@media (min-width:1014px){.react-cockpit .outside-mode .seach-filter-button-container .cockpit__search-filter-button .adapt-search{padding-left:40px;padding-right:40px}}.cockpit__region-selection-button{cursor:pointer}.cockpit__region-selection-button .cockpit__region-selection-button-icon-container{position:relative;border:1px solid #d4d4d4;border-right-style:none;width:3em;height:3em;background-color:#fff}.cockpit__region-selection-button .cockpit__region-selection-button-icon-container .cockpit__region-selection-button-icon{display:block;position:absolute;left:50%;top:50%;-webkit-transform:translateX(-50%) translateY(-50%);-moz-transform:translateX(-50%) translateY(-50%);-ms-transform:translateX(-50%) translateY(-50%);-o-transform:translateX(-50%) translateY(-50%);transform:translateX(-50%) translateY(-50%)}.cockpit__region-selection-button .cockpit__region-selection-button-icon-container .cockpit__region-selection-button-icon svg{display:block}.cockpit__region-selection-button .fake-dropdown{padding-right:32px}@media (max-width:668px){.cockpit__region-selection-button .fake-dropdown:after{content:\"\\F105\"}}.cockpit__search-filter-button .adapt-search{display:inline-block}@media (min-width:669px){.cockpit__search-filter-button .button-blue{border-color:#67a0d7;color:#2a7cca;font-weight:600}.cockpit__search-filter-button .button-blue[disabled]{border-color:rgba(103,160,215,.5);color:rgba(42,124,202,.5)}}@media (max-width:668px){.cockpit{transition:left .2s ease-in;position:fixed;top:55px;bottom:0;left:100%;width:100%}.cockpit .criterion{padding-bottom:16px}}@media (min-width:669px){.search-header{position:relative}.cockpit .criterion{padding-bottom:16px;position:relative}.cockpit .submit{display:block}}.gac-field-container{display:block;position:relative;padding-right:42px}.gac-field-container__position-marker{position:absolute;top:0;right:0;bottom:0;border:1px solid #e0e0e0;width:42px;font-size:large;text-align:center;background-color:#f6f6f6;color:#969696;cursor:pointer;display:block}@media (max-width:668px){.gac-field-container__position-marker{line-height:47px}}@media (min-width:669px){.gac-field-container__position-marker{line-height:42px}}.gac-field-container__clear-input{position:absolute;right:58px;top:0;font-size:large;color:#969696;display:block}@media (max-width:668px){.gac-field-container__clear-input{line-height:47px}}@media (min-width:669px){.gac-field-container__clear-input{line-height:42px}}.gac-suggestionbox{position:absolute;left:0;z-index:2001;border:1px solid #e0e0e0;padding:8px;min-width:100%;background:#fff}.gac-suggestionbox li{white-space:nowrap}.gac-suggestionbox .gac-category{display:block;padding-top:2px;color:#969696}.gac-suggestionbox .gac-category.separator{margin-top:8px;border-top:1px solid #e0e0e0;padding-top:4px}.gac-suggestionbox .gac-suggestion{cursor:pointer;display:block;margin-left:8px}.gac-suggestionbox .gac-suggestion.active,.gac-suggestionbox .gac-suggestion:hover{background:#d4dde5}#gac-input::-ms-clear{display:none}.react-cockpit .gac-field-container{border:1px solid #cacaca}.react-cockpit .gac-field{border:none}.react-cockpit .gac-field-container__position-marker{background-color:transparent;border:none;color:#343434}.react-cockpit .gac-field-container__position-marker-disabled{background-color:#f6f6f6;cursor:auto}.geoHierarchySelectionBox{position:absolute;z-index:15;border:1px solid #e0e0e0;background:#fff;width:100%}.geoHierarchySelectionBox .geoHierarchySelectionInnerBox{width:100%}.geoHierarchySelectionBox .geoHierarchySelectionInnerBox ul{border-bottom:1px solid #e0e0e0;max-height:280px;overflow-y:auto;overflow-x:hidden}.geoHierarchySelectionBox .geoHierarchySelectionInnerBox ul li{padding:2px 0;margin:0 8px}.geoHierarchySelectionBox .geoHierarchySelectionInnerBox ul li.checked,.geoHierarchySelectionBox .geoHierarchySelectionInnerBox ul li:hover{background-color:#d4dde5}.geoHierarchySelectionBox .geoHierarchySelectionInnerBox ul li span{color:#5b7c9e}.geoHierarchySelectionBox .geoHierarchySelectionInnerBox ul li:first-child{padding-top:8px;padding-bottom:8px;margin-bottom:8px;border-bottom:1px dashed #e0e0e0}.geoHierarchySelectionBox .geoHierarchyCloseBox{height:42px;position:relative}.geoHierarchySelectionBox .geoHierarchyCloseBox .close{height:20px;right:16px}.overflow-visible{overflow:visible}.energyEfficiencySelectionBox{border:1px solid #e0e0e0;background:#fff;width:100%}.energyEfficiencySelectionBox .energyEfficiencySelectionInnerBox{width:100%}.energyEfficiencySelectionBox .energyEfficiencySelectionInnerBox ul{border-bottom:1px solid #e0e0e0;max-height:72px;overflow-y:scroll;overflow-x:hidden;-webkit-column-width:auto!important;-moz-column-width:auto!important;column-width:auto!important}.energyEfficiencySelectionBox .energyEfficiencySelectionInnerBox ul li{padding:3px 0;margin:0 8px}.energyEfficiencySelectionBox .energyEfficiencySelectionInnerBox ul li span{color:#5b7c9e}.energyEfficiencySelectionBox .energyEfficiencySelectionInnerBox ul li label{margin-left:7px!important;height:1em!important;color:#fff;overflow:visible;margin-bottom:0!important;display:inline-block}.energyEfficiencySelectionBox .energyEfficiencySelectionInnerBox ul li label div,.energyEfficiencySelectionBox .energyEfficiencySelectionInnerBox ul li label span{padding-left:3px;height:100%;line-height:100%;vertical-align:super;color:#fff}.energyEfficiencySelectionBox .energyEfficiencySelectionInnerBox ul li img{height:1em!important;vertical-align:sub}.energyEfficiencySelectionBox .energyEfficiencyCloseBox{height:30px;position:relative}.energyEfficiencySelectionBox .energyEfficiencyCloseBox .close{height:20px;right:16px}label.E_CLASS_A_PLUS{background-color:#247e34;width:3em}label.E_CLASS_A{background-color:#4f9d2a;width:3.5em}label.E_CLASS_B{background-color:#91b41e;width:4em}label.E_CLASS_C{background-color:#e1d506;width:4.5em}label.E_CLASS_D{background-color:#f6e80f;width:5em}label.E_CLASS_E{background-color:#f5a60a;width:5.5em}label.E_CLASS_F{background-color:#e54e1f;width:6em}label.E_CLASS_G{background-color:#df201f;width:6.5em}label.E_CLASS_H{background-color:#df201f;width:7em}.pagination select{color:#ff7500;font-weight:600;height:2.5em}.pagination select option{color:#262626;font-weight:400}.result-list .recommendation-header .search-icon{color:#ff7500}.result-list .recommendation-footer .button{color:#2a7cca}.recommendation-list{border-top:none}.result-list-entry__brand-banner{position:relative;background-color:#343434}.result-list-entry__new-flag{display:inline-block;padding:.23em .41em;font-size:1.1rem;vertical-align:middle;background-color:#2a7cca;color:#fff;font-weight:600}.result-list-entry__new-flag,.result-list-entry__new-flaga:hover{text-decoration:none!important}.result-list-entry__brand-logo{display:block;padding:2px;background-color:#fff}.result-list-entry__brand-logo--private{background-color:transparent}.flex-nowrap{-webkit-flex-wrap:nowrap;-moz-flex-wrap:nowrap;-ms-flex-wrap:nowrap;flex-wrap:nowrap}.result-list-entry{position:relative}.result-list-entry__close-button{position:absolute;z-index:4;line-height:1}.result-list-entry__data{position:relative}.result-list-entry__shortlist-star{position:absolute;cursor:pointer}.result-list-entry__primary-criterion dd{font-size:1.8rem}.result-list-entry__primary-criterion abbr{text-decoration-line:none}.result-list-entry__secondary-criteria>li{display:inline-block;padding:0 .5em;margin-top:8px;margin-right:.6em;background-color:#edf8dd}.result-list-entry__secondary-criteria>li:last-child{margin-right:0}.result-list-entry__realtor-data a{text-decoration:none;color:#343434}.result-list-entry__realtor-data--with-portrait{position:relative;z-index:4;margin-left:-51px}.result-list-entry__realtor-portrait{border:2px solid #fff;border-radius:50%;width:70px;height:70px}.result-list-entry--xl .result-list-entry__brand-banner .result-list-entry__brand-title,.result-list-entry--xl .result-list-entry__brand-banner a{color:#fff;vertical-align:middle}.small-listings--realtor-logo-container{display:none;position:absolute;bottom:0;right:0;padding:0 8px 8px 0}@media (min-width:1014px){.small-listings .small-listings--realtor-logo-container{display:block}}@media (max-width:668px){.small-listings--realtor-logo-container{display:block}}.result-list-entry__map-link{max-width:100%}.result-list-entry__project-button{position:absolute;z-index:4}.grouped-listing__nopicture-container{width:100%;position:relative;background-color:#cacaca}.grouped-listing__nopicture-container:before{display:block;content:\"\";padding-top:75%}.grouped-listing__nopicture{position:absolute;top:0;margin-top:32%;width:100%;text-align:center;color:#fff}#listContainer .slick-gallery .video-play-icon,#listContainer .slick-gallery .virtual-tour-icon{display:none}#listContainer .slick-gallery.slick-initialized .video-play-icon,#listContainer .slick-gallery.slick-initialized .virtual-tour-icon{display:block}#listContainer .video-play-icon,#listContainer .virtual-tour-icon{background-size:72px 72px;position:absolute;top:50%;left:50%;-webkit-transform:translateX(-50%) translateY(-50%);-moz-transform:translateX(-50%) translateY(-50%);-ms-transform:translateX(-50%) translateY(-50%);-o-transform:translateX(-50%) translateY(-50%);transform:translateX(-50%) translateY(-50%);height:72px;width:72px}#listContainer .virtual-tour-icon{background:url(\"https://www.static-immobilienscout24.de/statpic/expose/gallery/f076cfbabc24d0c4a7b16c0209680385_icn_360__72x72.png\") 50% no-repeat}@media (-webkit-min-device-pixel-ratio:2),(min-resolution:192dpi){#listContainer .virtual-tour-icon{background-size:72px 72px;background-image:url(\"https://www.static-immobilienscout24.de/statpic/expose/gallery/3d292f4d7127e34f7204844ace1bba07_icn_360__72x72@2x.png\")}}#listContainer .video-play-icon{background:url(\"https://www.static-immobilienscout24.de/statpic/expose/gallery/e3c5d0fa38cb013f1bf367dfda3c6286_icn_video__72x72.png\") 50% no-repeat}@media (-webkit-min-device-pixel-ratio:2),(min-resolution:192dpi){#listContainer .video-play-icon{background-size:72px 72px;background-image:url(\"https://www.static-immobilienscout24.de/statpic/expose/gallery/e255c8d8ef0f54cb3ec0fac471804352_icn_video__72x72@2x.png\")}}.gallery-historical_marker{display:block;position:absolute;top:15%;z-index:10;background-color:#646464;border:1px solid #646464;overflow:hidden;border-top-right-radius:2em;border-bottom-right-radius:2em;color:#fff;white-space:nowrap}.grouped-listing .gallery-historical_marker{width:100%;top:auto;bottom:0;border-radius:0;padding-left:4px!important}.gallery-responsive .gallery-container .slick-list .slick-slide,.mapCallout .galleryContainer .slick-list .slick-slide{position:relative}.gallery-responsive .gallery-container .slick-list .slick-bg-layer,.mapCallout .galleryContainer .slick-list .slick-bg-layer{position:relative;padding-top:75%;display:block;z-index:-1}.gallery-responsive .gallery-container .slick-list .contact-slick-layer,.mapCallout .galleryContainer .slick-list .contact-slick-layer{display:block;position:absolute;width:100%;height:100%;text-align:center;padding-top:19ex;background-color:rgba(30,30,30,.8);color:#fff}.gallery-responsive .gallery-container .slick-list .contact-slick-layer a,.mapCallout .galleryContainer .slick-list .contact-slick-layer a{text-decoration:none;color:#fff}.gallery-responsive .gallery-container .slick-list .contact-slick-layer .phonenumber,.mapCallout .galleryContainer .slick-list .contact-slick-layer .phonenumber{font-size:21px;display:inline-block;margin-bottom:.7rem}.gallery-responsive .gallery-container .slick-list .contact-slick-layer .phonenumber i.fa,.mapCallout .galleryContainer .slick-list .contact-slick-layer .phonenumber i.fa{font-size:27px;width:3rem;vertical-align:middle}.gallery-responsive .gallery-container .slick-list .contact-slick-layer .phonenumber i.fa-mobile,.mapCallout .galleryContainer .slick-list .contact-slick-layer .phonenumber i.fa-mobile{padding-left:.3ex;font-size:32px}.gallery-responsive .gallery-container .slick-list .contact-slick-layer .phonenumber.last,.mapCallout .galleryContainer .slick-list .contact-slick-layer .phonenumber.last{margin-bottom:2.1rem}.gallery-responsive .gallery-container .slick-list .contact-slick-layer .button,.gallery-responsive .gallery-container .slick-list .contact-slick-layer .button-primary,.mapCallout .galleryContainer .slick-list .contact-slick-layer .button,.mapCallout .galleryContainer .slick-list .contact-slick-layer .button-primary{font-size:16px;width:11em}.gallery-responsive .gallery-container .slick-list .contact-slick-layer .button.button-transparent,.mapCallout .galleryContainer .slick-list .contact-slick-layer .button.button-transparent{background:transparent;color:#fff;border:1px solid #fff;margin-bottom:1ex}.gallery-responsive .gallery-container .slick-list img,.mapCallout .galleryContainer .slick-list img{opacity:1!important}.gallery-responsive .gallery-container .slick-arrow,.mapCallout .galleryContainer .slick-arrow{position:absolute;background-color:transparent;color:#fff;opacity:.8;cursor:pointer;text-shadow:-1px 0 #969696,0 -1px #969696,0 1px #969696,1px 0 #969696;padding:0 8px}.gallery-responsive{position:relative}.gallery-responsive .fullsize,.gallery-responsive .gallery-container{left:0;top:0;right:0;bottom:0;position:absolute}.gallery-responsive .gallery-container{background-color:#e0e0e0}.gallery-responsive .gallery-container:before{display:inline-block;font:normal normal normal 14px/1 FontAwesome;-webkit-font-smoothing:antialiased;-moz-osx-font-smoothing:grayscale;text-rendering:auto;content:\"\\F110\";position:absolute;left:50%;top:1em;margin-left:-.64285714em;-webkit-animation:fa-spin 2s infinite linear;-moz-animation:fa-spin 2s infinite linear;-o-animation:fa-spin 2s infinite linear;animation:fa-spin 2s infinite linear;width:1.28571429em;text-align:center;font-size:2em;color:#646464;visibility:visible}.result-list-entry__waiting .gallery-responsive .gallery-container:before{display:none}.gallery-responsive .gallery__nopicture-container{width:100%;height:100%;background-color:#e0e0e0}.gallery-responsive .gallery__nopicture-container .gallery__nopicture-icon{font-size:80px}.gallery-responsive .gallery__nopicture-container .gallery__nopicture{background-color:#cacaca;background-clip:content-box;color:#fff}.gallery-responsive .gallery__image,.gallery-responsive .gallery__video{width:100%;max-height:100%;position:absolute;top:0;left:0}.gallery-responsive .gallery__video{height:100%}.gallery-responsive .gallery__count{position:relative;margin-top:4px;margin-right:8px;padding:0 4px;line-height:24px;background:#646464;color:#fff;display:inline-block}.gallery-responsive .gallery__count-new-container{position:absolute;left:0;bottom:0;z-index:4}.gallery-responsive .gallery__count-new-container .result-list-entry__new-flag{padding:0 4px}.gallery-responsive .gallery__spotlight{z-index:4;display:inline-block}.gallery-responsive .gallery__spotlight-label{margin-top:4px;padding:0 4px;line-height:24px;background:#2a7cca;color:#fff}.result-list-entry__grouped-listings{overflow:hidden}.result-list-entry__grouped-listings .slick-slider{width:8000px}.result-list-entry__grouped-listings .slick-slider .slick-slide{display:block}.result-list-entry__grouped-listings .slick-initialized.slick-slider{width:auto}.grouped-listing__criterion{display:inline-block}.grouped-listing__criterion:after{content:\"|\"}.grouped-listing__criterion:last-child:after{content:\"\"}.grouped-listing__shortlist-star-container{position:absolute;top:8px;right:8px}.grouped-listing{position:relative}.grouped-listing .result-list-entry__linkable-criteria a{width:auto}.grouped-listing .result-list-entry__shortlist-star{padding-top:8px!important}.grouped-listing a{position:relative;display:block;width:100%;overflow:hidden}.grouped-listing a.metadata:active,.grouped-listing a.metadata:active *,.grouped-listing a.metadata:focus,.grouped-listing a.metadata:focus *,.grouped-listing a.metadata:hover,.grouped-listing a.metadata:hover *{color:#ff7500!important}.grouped-listing a img{position:absolute;top:0;left:0;width:100%}.grouped-listing a .aspect-ratio{padding-top:75%}.shortlist-star{color:#747474;font-size:28px;line-height:1}.shortlist-star:before{content:\"\\F006\"}.shortlist-star--shortlisted,.shortlist-star:hover{color:#ff7500}.shortlist-star--shortlisted:before{content:\"\\F005\"}.shortlist-star-background{color:#fff}.shortlist-star-background:before{content:\"\\F005\"}@media (max-width:479px){.logo_link img{max-width:94px}}@media (min-width:480px){.logo_link img{max-width:120px}}.rating-stars-container{display:inline-block;position:relative;width:83px;height:15px;vertical-align:middle}.rating-stars{position:absolute;left:0;top:0;max-width:100%;height:100%}.rating-stars--empty{width:100%;height:15px;background-image:url(\"data:image/png;base64,iVBORw0KGgoAAAANSUhEUgAAAFMAAAAPCAMAAACvIAO+AAAAS1BMVEX////c3Nzc3Nzc3Nzc3Nzc3Nzc3Nzc3Nzc3Nzc3Nzc3Nzc3Nzc3Nzc3Nze3t7k5OTl5eXm5ubn5+fp6ent7e3v7+/w8PDx8fH09PS5Y+95AAAADXRSTlMAECBAUGBwgLDA0ODwodfqLwAAAIBJREFUOMut08ESgyAMBNCNLaIEEbEV/v9Lq7boTK/snsibzHDZAN888Jd2kNDRwSYLNmj2IMNzLtHwwE175ld5x+PhKCAulZrkBGQ4Ry78RhJo3sescjWtHSScf4R7oR1s2pZp2e7KEkBX36P3q4IGJo7HoXZjrSwBhnoOZgAFPl+JIMzimIakAAAAAElFTkSuQmCC\")}.rating-stars--filled{height:15px;background-image:url(\"data:image/png;base64,iVBORw0KGgoAAAANSUhEUgAAAFMAAAAPCAMAAACvIAO+AAAAS1BMVEX////5qxT5qxT5qxT5qxT5qxT5qxT5qxT5qxT5qxT5qxT5qxT5qxT5qxT5rRb7txz7uh37ux78vh/8wCH9xyX+yif+zCj+zSn/0izFCiHMAAAADXRSTlMAECBAUGBwgLDA0ODwodfqLwAAAIBJREFUOMut08ESgyAMBNCNLaIEEbEV/v9Lq7boTK/snsibzHDZAN888Jd2kNDRwSYLNmj2IMNzLtHwwE175ld5x+PhKCAulZrkBGQ4Ry78RhJo3sescjWtHSScf4R7oR1s2pZp2e7KEkBX36P3q4IGJo7HoXZjrSwBhnoOZgAFPl+JIMzimIakAAAAAElFTkSuQmCC\")}.slick-slider{-webkit-user-select:none;-khtml-user-select:none;-moz-user-select:none;-ms-user-select:none;user-select:none;-webkit-touch-callout:none;-ms-touch-action:pan-y;touch-action:pan-y;-webkit-tap-highlight-color:transparent}.slick-list,.slick-slider{display:block;position:relative}.slick-list{overflow:hidden;margin:0;padding:0;height:100%}.slick-list:focus{outline:none}.slick-list.dragging{cursor:pointer}.slick-slider .slick-track{-webkit-transform:translateZ(0);-moz-transform:translateZ(0);-ms-transform:translateZ(0);-o-transform:translateZ(0);transform:translateZ(0);height:100%}.slick-track{display:block;position:relative;left:0;top:0}.slick-track:after,.slick-track:before{content:\"\";display:table}.slick-track:after{clear:both}.slick-loading .slick-track{visibility:hidden}.slick-slide{display:none;float:left;height:100%;min-height:1px}[dir=rtl] .slick-slide{float:right}.slick-slide img{display:block}.slick-slide.slick-loading img{display:none}.slick-slide.dragging img{pointer-events:none}.slick-initialized .slick-slide{display:block}.slick-loading .slick-slide{visibility:hidden}.slick-vertical .slick-slide{display:block;border:1px solid transparent;height:auto}.slick-next,.slick-prev{outline:none;border:none;padding:0;font-size:50px;position:absolute;top:50%;-webkit-transform:translateY(-50%);-moz-transform:translateY(-50%);-ms-transform:translateY(-50%);-o-transform:translateY(-50%);transform:translateY(-50%);z-index:1;width:.8em;height:1.2em;overflow:hidden;text-indent:200%;background-color:#fff;opacity:.85;cursor:pointer}.slick-next:hover,.slick-prev:hover{opacity:1}.slick-next:before,.slick-prev:before{content:\"\";display:block;position:absolute;left:0;width:100%;font-family:FontAwesome;line-height:1.2em;text-indent:0;top:50%;-webkit-transform:translateY(-50%);-moz-transform:translateY(-50%);-ms-transform:translateY(-50%);-o-transform:translateY(-50%);transform:translateY(-50%)}.slick-next{right:0}.slick-next:before{content:\"\\F105\";text-indent:.1em}.slick-prev{left:0}.slick-prev:before{content:\"\\F104\";text-indent:-.1em}.slick-disabled,.slick-disabled:before{display:none!important}.grouped-listing--highlight-when-active{padding-top:3px}.grouped-listing--active.grouped-listing--highlight-when-active:before{content:\"\";display:block;position:absolute;top:0;right:0;bottom:0;left:0;border-top:3px solid #000}.grouped-listing--active.grouped-listing--highlight-when-active .grouped-listing__title{font-weight:700!important}.result-list-entry__realtor-data--empty-portrait{width:70px!important;height:70px}.result-list-entry__data-count-info{max-width:94%}@media (max-width:668px){.nhb-expose-headline{font-size:1.4rem;line-height:1.33}}@media (min-width:669px){.nhb-expose-headline{font-size:1.8rem;line-height:1.33}}.hidden-result__container{padding:0 8px}.hidden-result__criteria{position:relative}.hidden-result__close-button{position:absolute;right:0;line-height:1;padding:.35em}.hidden-result__value{max-width:150px;margin-right:8px}@media (min-width:669px){.hidden-result__value{margin-right:16px}}.hidden-result__value:last-child{margin-right:0}@media (max-width:668px){body.fullsize-map #mapContainer{display:none}body.fullsize-map .hide-when-map-shown{display:block}body.fullsize-map .hide-when-list-shown{display:none}body.fullsize-map.fullsize-map--show-map #mapContainer{display:block}body.fullsize-map.fullsize-map--show-map #searchMapContainer,body.fullsize-map.fullsize-map--show-map .hide-when-map-shown{display:none}body.fullsize-map.fullsize-map--show-map .hide-when-list-shown{display:block}body.fullsize-map:not(.fullsize-map--show-map) .ad-skyscraper--left,body.fullsize-map:not(.fullsize-map--show-map) .ad-skyscraper--right{display:none!important}.result-list{border-top:1px solid #e0e0e0}.result-list .recommendation-header{margin:82px 0 24px}.result-list .recommendation-header .search-icon{font-size:3.2rem}.result-list .recommendation-footer{margin-top:24px;margin-bottom:16px}.result-list .recommendation-footer .button{margin-top:16px}.listings-content-area__listings s24-ad-slot,.result-list__listing{padding-bottom:16px;box-shadow:inset 0 -16px 0 #f6f6f6;background-color:#fff}.listings-content-area__listings s24-ad-slot:first-child,.result-list__listing:first-child{padding-top:0}.result-list-entry{border-bottom:1px solid #e0e0e0}.listings-content-area__listings s24-ad-slot{background-color:#f6f6f6}.result-list__listing--hidden,.result-list__listing--xl{margin-top:-1px}.listings-content-area__listings li:not(.result-list__first-slot) s24-ad-slot{margin-top:-16px}.result-list__listing--hidden .hidden-result{padding-top:16px;padding-bottom:16px;border-bottom:1px solid #e0e0e0}.onlyLarge{display:none!important}.result-list-entry__close-button{right:0;top:0}.result-list-entry__close-button.link-internal{text-decoration:none}.result-list-entry__close-button .close-x{height:36px;width:34px;background-color:#747474;border-radius:0 0 0 18px}.result-list-entry__close-button .close-x .fa{padding-top:10px}.result-list-entry__brand-logo{max-width:94px}.result-list-entry__data-container,.result-list-entry__gallery-container{width:100%!important}.result-list-entry__data{padding:16px 8px}.result-list-entry__grouped-listings{padding:0 8px 16px}.result-list-entry__data{overflow:hidden;display:block;display:-webkit-flex;display:-moz-flex;display:-ms-flexbox;display:-ms-flex;display:flex;-webkit-flex-direction:column;-moz-flex-direction:column;-ms-flex-direction:column;flex-direction:column}.result-list-entry__criteria{-webkit-order:-2;-moz-order:-2;-ms-flex-order:-2;-ms-order:-2;order:-2}.result-list-entry__address{-webkit-order:-1;-moz-order:-1;-ms-flex-order:-1;-ms-order:-1;order:-1}.result-list-entry__primary-criterion.gt3{display:none}.result-list-entry__primary-criterion dd{font-weight:600}.result-list-entry__secondary-criteria-container,.result-list-entry__short-description{display:none}.result-list-entry__shortlist-star{top:50%;right:8px;margin-top:-19px;padding:5px 0}.result-list-entry__realtor-data-container{display:none}.result-list-entry--xl .result-list-entry__brand-banner{height:32px}.result-list-entry--xl .result-list-entry__brand-logo{position:absolute;top:8px;left:8px;z-index:4}.result-list-entry--xl .result-list-entry__close-button{top:32px}.gallery__count-new-container{padding-bottom:8px;padding-left:8px}.gallery-responsive .gallery-container .slick-slide .contact-slick-layer{padding-top:6ex}.result-list-entry__project-button{bottom:8px;right:8px}.grouped-listing{margin-right:8px;width:120px}.result-list-entry__grouped-listings .slick-slider:not(:hover) .slick-next:not(.slick-disabled),.result-list-entry__grouped-listings .slick-slider:not(:hover) .slick-prev:not(.slick-disabled){display:none!important}.result-list-entry--m .gallery__image,.result-list-entry--m .gallery__nopicture,.result-list-entry--s .gallery__image,.result-list-entry--s .gallery__nopicture{padding:24px 32px}}@media (max-width:668px) and (min-width:1014px){body.fullsize-map:not(.fullsize-map--show-map):not(.empty-list) .hide-when-sidebar-shown{display:none!important}}@media (max-width:668px) and (max-width:668px){.result-list .recommendation-footer,.result-list .recommendation-header{padding-left:8px;padding-right:8px}}@media (max-width:668px) and (min-width:669px){.result-list .recommendation-footer h3,.result-list .recommendation-header h3{font-size:2.1rem}}@media (min-width:669px) and (max-width:1013px){body.fullsize-map #mapContainer{display:none}body.fullsize-map .hide-when-map-shown{display:block}body.fullsize-map .hide-when-list-shown{display:none}body.fullsize-map.fullsize-map--show-map #mapContainer{display:block}body.fullsize-map.fullsize-map--show-map #searchMapContainer,body.fullsize-map.fullsize-map--show-map .hide-when-map-shown{display:none}body.fullsize-map.fullsize-map--show-map .hide-when-list-shown{display:block}body.fullsize-map:not(.fullsize-map--show-map) .ad-skyscraper--left,body.fullsize-map:not(.fullsize-map--show-map) .ad-skyscraper--right{display:none!important}.result-list .recommendation-header{margin-top:128px}.result-list .recommendation-header .search-icon{font-size:56px}.result-list .recommendation-footer{margin-top:24px;margin-bottom:16px}.result-list .recommendation-footer .button{margin-top:16px}.result-list__listing{border-bottom:1px solid #e0e0e0;padding:32px 0;background-color:#fff}.listings-content-area__listings s24-ad-slot{border-bottom:1px solid #e0e0e0;padding:13px 0 32px;background-color:#f6f6f6}.result-list__listing--xl:first-child,.result-list__top-banner+.result-list__listing--xl{padding-top:0}.result-list__listing--hidden:first-child{border-top:none}.onlySmall{display:none!important}.result-list-entry__close-button{top:-16px;right:8px;color:#747474}.result-list-entry__brand-logo{max-width:120px}.result-list-entry .result-list-entry__gallery-container{width:47%}.result-list-entry .result-list-entry__data-container{width:53%}.result-list-entry__data{padding:0 16px}.result-list-entry__grouped-listings{padding-top:16px}.result-list-entry__criteria{margin-top:16px}.result-list-entry__primary-criterion dd{font-weight:600}.result-list-entry__short-description{line-height:1.6;max-height:4.8em;overflow:hidden}.result-list-entry--l .result-list-entry__shortlist-star,.result-list-entry--m .result-list-entry__shortlist-star,.result-list-entry--s .result-list-entry__shortlist-star{top:55px;right:8px}.result-list-entry--l .result-list-entry__linkable-criteria,.result-list-entry--l .result-list-entry__secondary-criteria,.result-list-entry--m .result-list-entry__linkable-criteria,.result-list-entry--m .result-list-entry__secondary-criteria,.result-list-entry--s .result-list-entry__linkable-criteria,.result-list-entry--s .result-list-entry__secondary-criteria{display:inline-block}.result-list-entry--l .result-list-entry__secondary-criteria,.result-list-entry--m .result-list-entry__secondary-criteria,.result-list-entry--s .result-list-entry__secondary-criteria{margin-right:8px}.result-list-entry--xl .result-list-entry__close-button{top:8px;color:#fff}.result-list-entry--xl .result-list-entry__brand-banner{display:table;height:70px;width:100%}.result-list-entry--xl .result-list-entry__brand-banner .result-list-entry__brand-logo-container{display:table-cell;width:1px}.result-list-entry--xl .result-list-entry__brand-banner .result-list-entry__brand-logo-container .result-list-entry__brand-logo{display:inline-block;vertical-align:middle;margin-right:16px}.result-list-entry--xl .result-list-entry__brand-banner .result-list-entry__brand-title-container{display:table-cell;text-align:left;padding-right:16px}.result-list-entry--xl .result-list-entry__gallery-container{width:62%}.result-list-entry--xl .result-list-entry__data-container{width:38%}.result-list-entry--xl .result-list-entry__data{padding:16px}.result-list-entry--xl .grid-flex>.grid-item.result-list-entry__primary-criterion{width:50%}.result-list-entry--xl .result-list-entry__shortlist-star{top:0;right:0;padding:19px 7px}.result-list-entry--xl .result-list-entry__data-container{position:relative}.result-list-entry--xl .result-list-entry__realtor-data-container{position:absolute;bottom:8%;left:16px;right:16px}.result-list-entry--xl .result-list-entry__realtor-data-container--optimize-space-for-details{bottom:2%}.gallery__count-new-container{padding-bottom:16px;padding-left:16px}.result-list-entry--project .result-list-entry__realtor-data-container{bottom:13%}.result-list-entry__project-button{position:absolute;left:16px;bottom:0}.result-list-entry--xl.result-list-entry--project .grid-flex>.grid-item.result-list-entry__primary-criterion{width:100%}.result-list-entry--m .gallery__image,.result-list-entry--m .gallery__nopicture,.result-list-entry--s .gallery__image,.result-list-entry--s .gallery__nopicture{padding:24px 32px}.gallery__trigger{padding:0 16px}.grouped-listing{margin-right:16px;width:162px}}@media (min-width:669px) and (max-width:1013px) and (min-width:1014px){body.fullsize-map:not(.fullsize-map--show-map):not(.empty-list) .hide-when-sidebar-shown{display:none!important}}@media (min-width:1014px){.searchmaplist-wrapper{display:-webkit-flex;display:-moz-flex;display:-ms-flexbox;display:-ms-flex;display:flex}.searchmaplist-list,.searchmaplist-map{min-width:0}.searchmaplist-map{margin-left:24px}body.fullsize-map #mapContainer{display:none}body.fullsize-map .hide-when-map-shown{display:block}body.fullsize-map .hide-when-list-shown{display:none}body.fullsize-map.fullsize-map--show-map #mapContainer{display:block}body.fullsize-map.fullsize-map--show-map #searchMapContainer,body.fullsize-map.fullsize-map--show-map .hide-when-map-shown{display:none}body.fullsize-map.fullsize-map--show-map .hide-when-list-shown{display:block}body.fullsize-map:not(.fullsize-map--show-map) .ad-skyscraper--left,body.fullsize-map:not(.fullsize-map--show-map) .ad-skyscraper--right{display:none!important}.result-list .recommendation-header{margin-top:128px}.result-list .recommendation-header .search-icon{font-size:56px}.result-list .recommendation-footer{margin-top:24px;margin-bottom:16px}.result-list .recommendation-footer .button{margin-top:16px}.result-list__listing{border-bottom:1px solid #e0e0e0;padding:32px 0;background-color:#fff}.listings-content-area__listings s24-ad-slot{border-bottom:1px solid #e0e0e0;padding:13px 0 32px;background-color:#f6f6f6}.result-list__listing--xl:first-child,.result-list__top-banner+.result-list__listing--xl{padding-top:0}.result-list__listing--hidden:first-child{border-top:none}.onlySmall{display:none!important}.result-list-entry__close-button{top:-16px;right:8px;color:#747474}.result-list-entry__brand-logo{max-width:120px}.result-list-entry .result-list-entry__gallery-container{width:47%}.result-list-entry .result-list-entry__data-container{width:53%}.result-list-entry__data{padding:0 16px}.result-list-entry__grouped-listings{padding-top:16px}.result-list-entry__criteria{margin-top:16px}.result-list-entry__primary-criterion dd{font-weight:600}.result-list-entry__short-description{line-height:1.6;max-height:4.8em;overflow:hidden}.result-list-entry--l .result-list-entry__shortlist-star,.result-list-entry--m .result-list-entry__shortlist-star,.result-list-entry--s .result-list-entry__shortlist-star{top:55px;right:8px}.result-list-entry--l .result-list-entry__linkable-criteria,.result-list-entry--l .result-list-entry__secondary-criteria,.result-list-entry--m .result-list-entry__linkable-criteria,.result-list-entry--m .result-list-entry__secondary-criteria,.result-list-entry--s .result-list-entry__linkable-criteria,.result-list-entry--s .result-list-entry__secondary-criteria{display:inline-block}.result-list-entry--l .result-list-entry__secondary-criteria,.result-list-entry--m .result-list-entry__secondary-criteria,.result-list-entry--s .result-list-entry__secondary-criteria{margin-right:8px}.result-list-entry--xl .result-list-entry__close-button{top:8px;color:#fff}.result-list-entry--xl .result-list-entry__brand-banner{display:table;height:70px;width:100%}.result-list-entry--xl .result-list-entry__brand-banner .result-list-entry__brand-logo-container{display:table-cell;width:1px}.result-list-entry--xl .result-list-entry__brand-banner .result-list-entry__brand-logo-container .result-list-entry__brand-logo{display:inline-block;vertical-align:middle;margin-right:16px}.result-list-entry--xl .result-list-entry__brand-banner .result-list-entry__brand-title-container{display:table-cell;text-align:left;padding-right:16px}.result-list-entry--xl .result-list-entry__gallery-container{width:62%}.result-list-entry--xl .result-list-entry__data-container{width:38%}.result-list-entry--xl .result-list-entry__data{padding:16px}.result-list-entry--xl .grid-flex>.grid-item.result-list-entry__primary-criterion{width:50%}.result-list-entry--xl .result-list-entry__shortlist-star{top:0;right:0;padding:19px 7px}.result-list-entry--xl .result-list-entry__data-container{position:relative}.result-list-entry--xl .result-list-entry__realtor-data-container{position:absolute;bottom:8%;left:16px;right:16px}.result-list-entry--xl .result-list-entry__realtor-data-container--optimize-space-for-details{bottom:2%}.gallery__count-new-container{padding-bottom:16px;padding-left:16px}.result-list-entry--project .result-list-entry__realtor-data-container{bottom:13%}.result-list-entry__project-button{position:absolute;left:16px;bottom:0}.result-list-entry--xl.result-list-entry--project .grid-flex>.grid-item.result-list-entry__primary-criterion{width:100%}.result-list-entry--m .gallery__image,.result-list-entry--m .gallery__nopicture,.result-list-entry--s .gallery__image,.result-list-entry--s .gallery__nopicture{padding:24px 32px}.gallery__trigger{padding:0 16px}.grouped-listing{margin-right:16px;width:162px}body:not(.no-realtor-ad).nomap .searchmaplist-list,body:not(.nomap) .searchmaplist-list{-webkit-flex:1 1 auto;-moz-flex:1 1 auto;-ms-flex:1 1 auto;flex:1 1 auto;max-width:924px;width:100%}body:not(.no-realtor-ad).nomap .searchmaplist-map,body:not(.nomap) .searchmaplist-map{-webkit-flex:1 0 auto;-moz-flex:1 0 auto;-ms-flex:1 0 auto;flex:1 0 auto;width:250px;margin-left:24px}}@media (min-width:1014px) and (min-width:1014px){body.fullsize-map:not(.fullsize-map--show-map):not(.empty-list) .hide-when-sidebar-shown{display:none!important}}.slick-arrow::-moz-focus-inner{border:0}body.no-flex .result-list-entry--xl .result-list-entry__realtor-data-container,body.no-flex .result-list-entry__project-button{position:inherit}@media (min-width:669px){#google-map-container{min-height:450px;height:100%}#map{height:844px;min-height:450px;border:1px solid #e0e0e0;line-height:normal}.fullsize-map #map{height:calc(100vh - 14em)}#map .map-status{padding:10px}#map .video-play-icon,#map .virtual-tour-icon{background-size:64px 64px;position:absolute;top:50%;left:50%;-webkit-transform:translateX(-50%) translateY(-50%);-moz-transform:translateX(-50%) translateY(-50%);-ms-transform:translateX(-50%) translateY(-50%);-o-transform:translateX(-50%) translateY(-50%);transform:translateX(-50%) translateY(-50%);height:64px;width:64px}#map .virtual-tour-icon{background:url(\"https://www.static-immobilienscout24.de/statpic/expose/gallery/793281a53a0e2018f4748febd169ec82_icn_360__64x64.png\") 50% no-repeat}#map .video-play-icon{background:url(\"https://www.static-immobilienscout24.de/statpic/expose/gallery/3900bea97bd3bbc890d288da50c7ec1f_icn_video__64x64.png\") 50% no-repeat}.searchmaplist-wrapper__mapcontainer{position:relative}}@media (min-width:669px) and (-webkit-min-device-pixel-ratio:2),(min-width:669px) and (min-resolution:192dpi){#map .virtual-tour-icon{background-image:url(\"https://www.static-immobilienscout24.de/statpic/expose/gallery/c6cf8efe6ddd6bc39c803887477cc39e_icn_360__64x64@2x.png\");background-size:64px 64px}}@media (min-width:669px) and (-webkit-min-device-pixel-ratio:2),(min-width:669px) and (min-resolution:192dpi){#map .video-play-icon{background-image:url(\"https://www.static-immobilienscout24.de/statpic/expose/gallery/bdc180721813b140cfa27e750e13e8ea_icn_video__64x64@2x.png\");background-size:64px 64px}}:root{--header-height:48px;--viewport-height:100vh}@media (max-width:668px){.fullsize-map.fullsize-map--show-map #branch-banner-iframe,.fullsize-map.fullsize-map--show-map .smartbanner{display:none}.fullsize-map.fullsize-map--show-map .viewport{position:fixed;top:0;left:0;height:100vh}.fullsize-map.fullsize-map--show-map .viewport #mapContainer .mapContainer{height:calc(100vh - 160px)!important;height:calc(var(--viewport-height) - var(--header-height) - 69px)!important}}.externalMap{position:relative}@media (min-width:669px){.externalMap .mapContainer{min-height:320px}}@media (min-width:669px){.externalMap>div:first-child>div:first-child{position:relative}.externalMap>div:first-child>div:first-child #google-map-container{min-height:unset}.externalMap{border:1px solid #e0e0e0}}.map-toomanyitems-message{display:block;padding:16px;left:50%;top:15px;width:288px;-webkit-transform:translateX(-50%);-moz-transform:translateX(-50%);-ms-transform:translateX(-50%);-o-transform:translateX(-50%);transform:translateX(-50%)}@media (min-width:669px){.map-toomanyitems-message{top:96px}}.map-toomanyitems-message .map-toomanyitems-message-main-text{padding-bottom:16px}@media (max-width:668px){.map-toomanyitems-message .map-toomanyitems-message-main-text{text-align:center}}.map-bounds-message{display:block;padding:16px;left:50%;top:50%;width:314px;-webkit-transform:translateX(-50%) translateY(-50%);-moz-transform:translateX(-50%) translateY(-50%);-ms-transform:translateX(-50%) translateY(-50%);-o-transform:translateX(-50%) translateY(-50%);transform:translateX(-50%) translateY(-50%)}.map-bounds-message .map-bounds-message-main-text{padding-bottom:16px;text-align:center}.map-hint-message{display:none}@media (max-height:420px) and (max-width:668px){.fullsize-map.fullsize-map--show-map .map-toomanyitems-message{display:none}.fullsize-map.fullsize-map--show-map #mapContainer .map-hint-message{z-index:10000;position:fixed;top:0;left:0;height:100%;width:100%;background-color:rgba(44,44,44,.75);display:block}}@media (max-height:600px) and (min-width:669px){.fullsize-map.fullsize-map--show-map .map-toomanyitems-message{display:none!important}.fullsize-map.fullsize-map--show-map #mapContainer .map-hint-message{z-index:10000;position:fixed;top:0;left:0;height:100%;width:100%;background-color:rgba(44,44,44,.75);display:block}}.map-callout .gallery{position:relative}.map-callout .gallery,.map-callout .gallery .galleryImage,.map-callout .gallery .video{width:266px;height:200px}.map-callout .gallery .spinner{position:absolute;top:48%;left:45%;right:45%;margin:0 auto}.map-callout .gallery .gallery_left,.map-callout .gallery .gallery_right{height:50px;width:30px}.map-callout .gallery-responsive{position:relative;overflow:hidden;padding-bottom:75%}.map-callout .gallery__trigger--left{left:0}.map-callout .gallery__trigger--right{right:0;text-align:right}.map-callout .gallery__trigger{position:absolute;z-index:5;opacity:.8;font-size:50px;cursor:pointer;text-shadow:-1px 0 #969696,0 -1px #969696,0 1px #969696,1px 0 #969696;padding:0 8px;height:60%;top:20%;width:15%}.map-callout .gallery__spinner{position:absolute;top:50%;left:50%;margin:-.5em 0 0 -.5em;font-size:2em;line-height:1}.map-callout .gallery__trigger span{position:relative;top:40%;-webkit-transform:translateY(-50%);-moz-transform:translateY(-50%);-ms-transform:translateY(-50%);-o-transform:translateY(-50%);transform:translateY(-50%)}.map-callout .gallery__slide.gallery__slide--prev{left:-100%;z-index:1}.map-callout .gallery__slide.gallery__slide--current{left:0;z-index:3}.map-callout a.gallery__slide.gallery__slide--current{text-decoration:none}.map-callout .gallery__slide.gallery__slide--next{left:100%;z-index:2}.map-callout .gallery__slide{position:absolute;top:0;left:100%;width:100%;height:100%;background-color:transparent;transition:left .5s ease-out}.map-callout{font-family:Open Sans,Verdana,DejaVu Sans,Arial,Helvetica,sans-serif!important;font-size:14px;color:#343434}.map-callout.map-callout-no-arrow .leaflet-popup-tip-container{display:none}.map-callout .leaflet-popup-content-wrapper{border-radius:0}.map-callout .leaflet-popup-content-wrapper .leaflet-popup-content{line-height:inherit;margin:0}.map-callout a.leaflet-popup-close-button{z-index:10;width:24px;height:24px;padding:4px 2px 0 0;background:none repeat scroll 0 0 #fff;color:#969696}.map-callout .callout-picture-container{width:266px;height:200px;position:relative}.map-callout .callout-picture-container img{width:266px;height:200px}.map-callout .callout-project{position:relative}.map-callout .callout-project .callout-project-button{z-index:4;padding:1px 10px;height:24px;position:absolute;right:8px;bottom:8px}.map-callout .gallery-responsive .gallery__trigger{padding-left:8px;padding-right:8px}.map-callout .gallery-responsive .gallery__count-new-container{padding-bottom:8px!important;padding-left:8px!important}.map-callout .callout-text-container{margin:16px 8px;width:234px}.map-callout .callout-text-container .callout-title{margin-top:8px;margin-bottom:12px;width:234px;overflow:hidden;text-overflow:ellipsis;white-space:nowrap}.map-callout .callout-text-container .callout-title a{font-size:16px;color:#0a4678}.map-callout .callout-text-container .callout-title a:hover{color:#ff7500}.map-callout .callout-text-container .callout-data-container{display:table}.map-callout .callout-text-container .callout-data-container .callout-addr-attr{display:table-cell}.map-callout .callout-text-container .callout-data-container .callout-attributes{margin-bottom:8px;white-space:nowrap;width:210px;overflow:hidden;text-overflow:ellipsis}.map-callout .callout-text-container .callout-data-container .callout-attributes span{border-right:1px solid #343434;padding-right:8px;margin-right:8px}.map-callout .callout-text-container .callout-data-container .callout-attributes span:last-child{border-right:none;padding-right:0;margin-right:0}.map-callout .callout-text-container .callout-data-container .callout-address{width:210px;overflow:hidden;text-overflow:ellipsis;white-space:nowrap}.map-callout .callout-navigation{display:table;line-height:21px;margin-top:12px}.map-callout .callout-navigation .callout-arrow{font-size:18px;width:20px;display:table-cell;text-align:center}.map-callout .callout-navigation .callout-arrow i{cursor:pointer}.map-callout .callout-navigation .callout-text{width:194px;text-align:center;vertical-align:middle;display:table-cell}.marker-icon{margin-top:-19px;margin-left:-16px}.marker-icon .largeIcon{margin-top:-4px;margin-left:-4px}.marker-icon .largeIcon .marker-label{top:1px}.marker-icon .marker-label{color:#fff;position:absolute;top:5px;right:8px;font-size:.9em;font-weight:700}.marker-icon .marker-label.largeNumber{right:6px}.map-polygon-box{color:#343434;font-size:13px;padding:.7em 0}.map-polygon-box .polygon-box-text{white-space:nowrap;font-weight:400!important}.map-polygon-box .polygon-box-link{margin-top:.4em}.map-polygon-box .polygon-box-link a{color:#0a4678;font-weight:400!important}.map-message_box_close{color:#969696;cursor:pointer;position:absolute;top:5px;right:5px}.map-message_box{background-color:#fff;border:1px solid #e0e0e0;box-shadow:1px 1px 3px 0 #999;position:absolute;z-index:1001;font-size:13px}.map-message_box.map-message-hidden_objects{left:0;right:0;margin:0 auto;bottom:25px;width:33%;min-width:228px}.map-message_box.map-message-browser_too_old{left:0;right:0;top:0;bottom:0;margin:auto;width:228px;height:100px}.map-message_box .map-message_box_text{color:#343434;padding:16px 32px 16px 16px;text-align:center}.map-message_box .map-message_box_close{color:#262626;cursor:pointer;position:absolute;padding-top:8px;padding-right:8px;top:0;right:0}.leaflet-container .message-box-headline{margin-right:32px}.leaflet-container .message-box-expose-link a{color:#2a7cca}.leaflet-container .message-box-expose-link a:hover{color:#ff7500}.callout-shortlist-star{width:24px;height:46px;display:table-cell;vertical-align:middle}.callout-shortlist-star.react{display:block}.historicalListing .callout-shortlist-star.react{display:none}.searchmaplist-wrapper__clip{position:absolute;top:50%;margin-top:-30px;height:100px;line-height:100px;width:40px;left:0;background-color:#fff;z-index:1101;text-align:center;text-decoration:none;cursor:pointer;border-top:1px solid #e0e0e0;border-right:1px solid #e0e0e0;border-bottom:1px solid #e0e0e0}.searchmaplist-wrapper__clip:hover{text-decoration:none}.searchmaplist-wrapper__clip a{font-size:1em;text-decoration:none}.searchmaplist-wrapper__clip a:focus,.searchmaplist-wrapper__clip a:hover{text-decoration:none;color:#343434}.searchmaplist-wrapper__clip i{color:#343434;vertical-align:middle}.searchmaplist-wrapper__clip i.openmap{display:inline-block}.searchmaplist-wrapper__clip i.closemap,body.map-expanded .searchmaplist-wrapper__clip i.openmap{display:none}body.map-expanded .searchmaplist-wrapper__clip i.closemap{display:inline-block}.lt-ie9 .searchmaplist-wrapper__clip{left:0;border:1px solid #747474;background-color:#000}.db_logo_map{background-color:hsla(0,0%,96%,.7);position:absolute;bottom:20px;right:50px;color:#343434;line-height:20px;padding:4px;z-index:1000}.db_logo_map img{height:20px;vertical-align:bottom}.db_logo_map.react{display:none}.travelTimeSearch .db_logo_map.react{display:block}.maklerAd-wrapper{display:none}.has-ad-makler .maklerAd-wrapper{display:block;height:auto;overflow:hidden;top:auto;margin-bottom:5px;position:absolute}.searchmaplist-map{display:none}@media (min-width:669px){.searchmaplist-map{display:block}.searchmaplist-wrapper.nomap .searchmaplist-map{display:none}}.searchmaplist-map{position:relative}.sticky .sticky-map-area{position:fixed;top:0;left:auto;bottom:0}.sticky-bottom .sticky-map-area{position:absolute;bottom:0}@media (max-width:668px){body.nomap .show-only-with-map{display:none!important}}@media (min-width:669px){body.nomap .show-only-with-map{display:none!important}}.map-toggle button{outline:none}.map-toggle button.map-toggle--first{border-radius:20px 0 0 20px}.map-toggle button.map-toggle--first.button{border-left-color:#cacaca;border-top-color:#cacaca;border-bottom-color:#cacaca;color:#262626;border-right:none;font-weight:400}.map-toggle button.map-toggle--first.button-primary{-moz-box-shadow:inset 0 1px 2px 0 rgba(52,52,52,.7);-webkit-box-shadow:inset 0 1px 2px 0 rgba(52,52,52,.7);box-shadow:inset 0 1px 2px 0 rgba(52,52,52,.7);border-color:#cacaca;background-color:#ff851d;font-weight:400}.map-toggle button.map-toggle--second{border-radius:0 20px 20px 0}.map-toggle button.map-toggle--second.button{border-right-color:#cacaca;border-top-color:#cacaca;border-bottom-color:#cacaca;color:#262626;border-left:none;font-weight:400}.map-toggle button.map-toggle--second.button-primary{-moz-box-shadow:inset 0 1px 2px 0 rgba(52,52,52,.7);-webkit-box-shadow:inset 0 1px 2px 0 rgba(52,52,52,.7);box-shadow:inset 0 1px 2px 0 rgba(52,52,52,.7);border-color:#cacaca;background-color:#ff851d;font-weight:400}.fullsize-map--show-map #sorting-control{display:none}\n",
       "          </style>\n",
       "<style>\n",
       "  .ng-cloak { display: none; }\n",
       "</style>\n",
       "</head>"
      ]
     },
     "execution_count": 8,
     "metadata": {},
     "output_type": "execute_result"
    }
   ],
   "source": [
    "#@solution\n",
    "soup.find('head')"
   ]
  },
  {
   "cell_type": "markdown",
   "metadata": {},
   "source": [
    "Now we want to find all entries of the exposes.\n",
    "For this we have to know how they are stored in the html file.\n",
    "\n",
    "### Option 1\n",
    "- look for a catchy word in the caption of an expose.\n",
    "- search for it in the source code of the website (in the browser: rightclick `show source code` or `view page source`)\n",
    "- work through the text till you find the tags / pattern how the website is build up\n",
    "\n",
    "### Option 2 (better!)\n",
    "- use the `inspect` tool of your browser (if it has one!)\n",
    "    - Chrome : `inspect` (right click or `CTRL + SHIFT + I`\n",
    "    - FireFox : `inspect Element` (right click)\n",
    "- move your mouse in the `Elements` tab over the elements and see which are highlighted\n",
    "- find the element associated with the box of the expose"
   ]
  },
  {
   "cell_type": "markdown",
   "metadata": {},
   "source": [
    "### box expose"
   ]
  },
  {
   "cell_type": "markdown",
   "metadata": {},
   "source": [
    "The expose is saved in an element called `<li>` with `class=\"result-list__listing \"`. (Note the tailing space!)\n",
    "\n",
    "Let's search for this elements!\n",
    "But this time we want all elements! So we use `.find_all` instead of `.find`."
   ]
  },
  {
   "cell_type": "code",
   "execution_count": 9,
   "metadata": {
    "ExecuteTime": {
     "end_time": "2018-10-18T13:14:48.345611Z",
     "start_time": "2018-10-18T13:14:48.334245Z"
    }
   },
   "outputs": [],
   "source": [
    "#@solution\n",
    "entries = soup.find_all('li', {'class': \"result-list__listing \"})"
   ]
  },
  {
   "cell_type": "markdown",
   "metadata": {},
   "source": [
    "Let's have a look into the first entry."
   ]
  },
  {
   "cell_type": "code",
   "execution_count": 10,
   "metadata": {
    "ExecuteTime": {
     "end_time": "2018-10-18T13:14:48.900585Z",
     "start_time": "2018-10-18T13:14:48.890467Z"
    }
   },
   "outputs": [
    {
     "name": "stdout",
     "output_type": "stream",
     "text": [
      "<li class=\"result-list__listing \" data-id=\"107798016\"><div><article class=\"result-list-entry result-list-entry--s\" data-item=\"result\" data-listing-size=\"S\" data-obid=\"107798016\" id=\"result-107798016\"><button aria-label=\"Ausblenden\" class=\"button-reset result-list-entry__close-button link-internal\"><span class=\"palm-hide fa fa-times\"></span><div class=\"lap-hide desk-hide close-x align-center\"><span class=\"fa fa-times font-white\"></span></div></button><div class=\"grid grid-flex\"><div aria-hidden=\"true\" class=\"grid-item result-list-entry__gallery-container\" style=\"position:relative\"><div class=\"gallery-responsive\"><div style=\"padding-top:75%\"></div><div class=\"gallery-container\"><a data-go-to-expose-id=\"107798016\" data-go-to-expose-referrer=\"RESULT_LIST_LISTING\" data-go-to-expose-searchtype=\"district\" href=\"/expose/107798016\"><span class=\"slick-bg-layer\"></span><img alt=\"Immobilienbild\" class=\"gallery__image block height-full\" src=\"https://pictures.immobilienscout24.de/listings/f64bf49f-6384-46d1-8eed-2d9dfa82f7d2-1246069947.jpg/ORIG/legacy_thumbnail/420x315/format/jpg/quality/80\"/></a></div><div class=\"gallery__count-new-container\"><div class=\"onlySmall result-list-entry__new-flag\">NEU</div><div class=\"gallery__count\"><i class=\"fa fa-picture-o margin-right-xs\"></i><span class=\"total-media-count-label\">10</span></div></div></div><div class=\"small-listings--realtor-logo-container\"><a class=\"result-list-entry__brand-logo-container\" data-go-to-expose-hash=\"/basicContact\" data-go-to-expose-id=\"107798016\" data-go-to-expose-referrer=\"RESULT_LIST_LISTING\" data-go-to-expose-searchtype=\"district\" href=\"/expose/107798016\"><img alt=\"Anbieterlogo\" class=\"result-list-entry__brand-logo\" src=\"https://pic.immobilienscout24.de/pic/orig02/L/150/910/489/150910489-0.jpg/ORIG/resize/120x50%3E/quality/80\"/></a></div></div><div class=\"grid-item result-list-entry__data-container\"><div class=\"result-list-entry__data\"><div class=\"result-list-entry__shortlist-star\"><button aria-label=\"zum Merkzettel hinzufügen\" class=\"button-reset fa shortlist-star \" data-id=\"107798016\"></button></div><a class=\"result-list-entry__brand-title-container\" data-go-to-expose-id=\"107798016\" data-go-to-expose-referrer=\"RESULT_LIST_LISTING\" data-go-to-expose-searchtype=\"district\" href=\"/expose/107798016\"><h5 class=\"result-list-entry__brand-title font-h6 onlyLarge nine-tenths font-ellipsis\"><span class=\"result-list-entry__new-flag margin-right-xs\">NEU</span>Moderne 1-Zimmer-Wohnung in bevorzugter Wohnlage von Konstanz-Allmannsdorf</h5></a><div class=\"nine-tenths\"><div class=\"float-left\"></div><div class=\"result-list-entry__address\"><button class=\"button-link link-internal result-list-entry__map-link\" data-result-id=\"107798016\" title=\"Auf der Karte anzeigen\"><div class=\"font-ellipsis\">Konstanz, Konstanz (Kreis)</div></button></div></div><div class=\"result-list-entry__criteria margin-bottom-s\"><div><div class=\"grid grid-flex gutter-horizontal-l gutter-vertical-s\" data-is24-qa=\"attributes\"><dl class=\"grid-item result-list-entry__primary-criterion \" role=\"presentation\"><dd class=\"font-nowrap font-line-xs\">450 €</dd><dt class=\"font-s onlyLarge\">Kaltmiete</dt></dl><dl class=\"grid-item result-list-entry__primary-criterion \" role=\"presentation\"><dd class=\"font-nowrap font-line-xs\">31 m²</dd><dt class=\"font-s onlyLarge\">Wohnfläche</dt></dl><dl class=\"grid-item result-list-entry__primary-criterion \" role=\"presentation\"><dd class=\"font-nowrap font-line-xs\"><span><span class=\"onlySmall\">1<!-- --> Zi.</span><span class=\"onlyLarge\">1</span></span></dd><dt class=\"font-s onlyLarge\"><abbr title=\"Zimmer\">Zi.</abbr></dt></dl></div><div class=\"result-list-entry__secondary-criteria-container font-s margin-top-s \"><ul class=\"result-list-entry__secondary-criteria\" role=\"presentation\"><li class=\"margin-top-none margin-bottom-xs\">Balkon/Terrasse</li><li class=\"margin-top-none margin-bottom-xs\">Einbauküche</li></ul></div></div></div><div class=\"result-list-entry__realtor-data-container border-top border-dotted padding-top-s\"><div class=\"result-list-entry__realtor-data\"><div class=\"grid flex-nowrap grid-flex grid-fill-rows gutter-m\"><div class=\"grid-item grid-item-fixed-width\"><a class=\"result-list-entry__brand-logo-container\" data-go-to-expose-hash=\"/basicContact\" data-go-to-expose-id=\"107798016\" data-go-to-expose-referrer=\"RESULT_LIST_LISTING\" data-go-to-expose-searchtype=\"district\" href=\"/expose/107798016\"><img alt=\"Anbieterlogo\" class=\"result-list-entry__brand-logo\" src=\"https://pic.immobilienscout24.de/pic/orig02/L/150/910/489/150910489-0.jpg/ORIG/resize/120x50%3E/quality/80\"/></a></div><div class=\"grid-item one-third font-ellipsis\"><a class=\"font-s\" data-event=\"evtrack\" data-go-to-expose-hash=\"/basicContact\" data-go-to-expose-id=\"107798016\" data-go-to-expose-referrer=\"RESULT_LIST_LISTING\" data-go-to-expose-searchtype=\"district\" data-tracking='{\n",
      "          \"evt_ga_category\": \"commercial\",\n",
      "          \"evt_ga_action\": \"contact_realtor\",\n",
      "          \"evt_ga_label\": \"mail_intent_agent_name\",\n",
      "          \"ns_type\": \"hidden\"\n",
      "         }' href=\"/expose/107798016\" target=\"_self\"><span class=\"block font-ellipsis\">Vermietungs- Team</span><span class=\"block font-ellipsis\">Horta Immobilien GmbH &amp; Co.KG</span></a></div><div class=\"grid-item grid-item-fixed-width\"><span style=\"font-size:0\"></span></div></div></div></div></div></div></div></article></div></li>\n"
     ]
    }
   ],
   "source": [
    "#@solution\n",
    "entry = entries[0]\n",
    "print(entry)"
   ]
  },
  {
   "cell_type": "markdown",
   "metadata": {},
   "source": [
    "Still a lots of text. Maybe we can refine it further.\n",
    "What we see is that is has an attribute called `data-id=` in the first field.\n",
    "This seems to be the **unique** id for the expose."
   ]
  },
  {
   "cell_type": "code",
   "execution_count": 11,
   "metadata": {
    "ExecuteTime": {
     "end_time": "2018-10-18T13:14:49.214042Z",
     "start_time": "2018-10-18T13:14:49.204901Z"
    }
   },
   "outputs": [
    {
     "data": {
      "text/plain": [
       "107798016"
      ]
     },
     "execution_count": 11,
     "metadata": {},
     "output_type": "execute_result"
    }
   ],
   "source": [
    "#@solution\n",
    "expose = int(entry['data-id'])\n",
    "expose"
   ]
  },
  {
   "cell_type": "markdown",
   "metadata": {},
   "source": [
    "If we **inspect** the element further with our browser we can see that the **title** is stored in a `<h5>` element (**h**eadline of level 5).\n",
    "\n",
    "Let's find it and get the text it surrounds.\n",
    "\n",
    "Therefore, we filter the `entry` for the `<h5>` tag."
   ]
  },
  {
   "cell_type": "code",
   "execution_count": 12,
   "metadata": {
    "ExecuteTime": {
     "end_time": "2018-10-18T13:14:49.951417Z",
     "start_time": "2018-10-18T13:14:49.940532Z"
    }
   },
   "outputs": [
    {
     "data": {
      "text/plain": [
       "<h5 class=\"result-list-entry__brand-title font-h6 onlyLarge nine-tenths font-ellipsis\"><span class=\"result-list-entry__new-flag margin-right-xs\">NEU</span>Moderne 1-Zimmer-Wohnung in bevorzugter Wohnlage von Konstanz-Allmannsdorf</h5>"
      ]
     },
     "execution_count": 12,
     "metadata": {},
     "output_type": "execute_result"
    }
   ],
   "source": [
    "#@solution\n",
    "entry.find('h5')"
   ]
  },
  {
   "cell_type": "markdown",
   "metadata": {},
   "source": [
    "the text we get with `.text`"
   ]
  },
  {
   "cell_type": "code",
   "execution_count": 13,
   "metadata": {
    "ExecuteTime": {
     "end_time": "2018-10-18T13:14:50.590779Z",
     "start_time": "2018-10-18T13:14:50.580870Z"
    }
   },
   "outputs": [
    {
     "data": {
      "text/plain": [
       "'NEUModerne 1-Zimmer-Wohnung in bevorzugter Wohnlage von Konstanz-Allmannsdorf'"
      ]
     },
     "execution_count": 13,
     "metadata": {},
     "output_type": "execute_result"
    }
   ],
   "source": [
    "#@solution\n",
    "title = entry.find('h5').text\n",
    "title"
   ]
  },
  {
   "cell_type": "markdown",
   "metadata": {},
   "source": [
    "We can now do the same for the address in a nested way."
   ]
  },
  {
   "cell_type": "code",
   "execution_count": 14,
   "metadata": {
    "ExecuteTime": {
     "end_time": "2018-10-18T13:14:51.300351Z",
     "start_time": "2018-10-18T13:14:51.293568Z"
    }
   },
   "outputs": [],
   "source": [
    "address = entry.find('div', {'class': \"result-list-entry__address\"}).find('button').find('div').text"
   ]
  },
  {
   "cell_type": "markdown",
   "metadata": {},
   "source": [
    "All the informations are stored in `<dl>` elements lets filter them and then get the different values from them. (stored in a `dd` element)"
   ]
  },
  {
   "cell_type": "code",
   "execution_count": 15,
   "metadata": {
    "ExecuteTime": {
     "end_time": "2018-10-18T13:14:51.715315Z",
     "start_time": "2018-10-18T13:14:51.709464Z"
    }
   },
   "outputs": [],
   "source": [
    "infos = entry.find_all('dl')\n",
    "price = float(infos[0].find('dd').text.split()[0].replace(',', '.'))\n",
    "space = float(infos[1].find('dd').text.split()[0].replace(',', '.'))\n",
    "rooms = int(infos[2].find('dd').text.split()[0])"
   ]
  },
  {
   "cell_type": "markdown",
   "metadata": {},
   "source": [
    "Let's store them in a dict so everything is ordered."
   ]
  },
  {
   "cell_type": "code",
   "execution_count": 16,
   "metadata": {
    "ExecuteTime": {
     "end_time": "2018-10-18T13:14:52.054806Z",
     "start_time": "2018-10-18T13:14:52.045095Z"
    }
   },
   "outputs": [
    {
     "data": {
      "text/plain": [
       "{'title': 'NEUModerne 1-Zimmer-Wohnung in bevorzugter Wohnlage von Konstanz-Allmannsdorf',\n",
       " 'expose': 107798016,\n",
       " 'address': 'Konstanz, Konstanz (Kreis)',\n",
       " 'price_cold': 450.0,\n",
       " 'space': 31.0,\n",
       " 'rooms': 1}"
      ]
     },
     "execution_count": 16,
     "metadata": {},
     "output_type": "execute_result"
    }
   ],
   "source": [
    "result = dict(\n",
    "            title=title,\n",
    "            expose=expose,\n",
    "            address=address,\n",
    "            price_cold=price,\n",
    "            space=space,\n",
    "            rooms=rooms,\n",
    "        )\n",
    "result"
   ]
  },
  {
   "cell_type": "markdown",
   "metadata": {},
   "source": [
    "If we want to do it for all our entries we can put it into a loop."
   ]
  },
  {
   "cell_type": "code",
   "execution_count": 17,
   "metadata": {
    "ExecuteTime": {
     "end_time": "2018-10-18T13:14:52.658456Z",
     "start_time": "2018-10-18T13:14:52.620880Z"
    }
   },
   "outputs": [],
   "source": [
    "results = []\n",
    "for entry in entries:\n",
    "    expose = int(entry['data-id'])\n",
    "\n",
    "    title = entry.find('h5').text\n",
    "\n",
    "    address = entry.find('div', {'class': \"result-list-entry__address\"}).find('button').find('div').text\n",
    "\n",
    "    infos = entry.find_all('dl')\n",
    "    price = float(infos[0].find('dd').text.split()[0].replace(',', '.'))\n",
    "    space = float(infos[1].find('dd').text.split()[0].replace(',', '.'))\n",
    "    rooms = float(infos[2].find('dd').text.split()[0].replace(',', '.'))\n",
    "\n",
    "    results.append(dict(\n",
    "        title=title,\n",
    "        expose=expose,\n",
    "        address=address,\n",
    "        price_cold=price,\n",
    "        space=space,\n",
    "        rooms=rooms,\n",
    "    ))"
   ]
  },
  {
   "cell_type": "markdown",
   "metadata": {},
   "source": [
    "We can now store the results in a `pandas` `DataFrame`."
   ]
  },
  {
   "cell_type": "code",
   "execution_count": 18,
   "metadata": {
    "ExecuteTime": {
     "end_time": "2018-10-18T13:14:53.706412Z",
     "start_time": "2018-10-18T13:14:53.394437Z"
    }
   },
   "outputs": [],
   "source": [
    "#@solution\n",
    "import pandas as pd"
   ]
  },
  {
   "cell_type": "code",
   "execution_count": 19,
   "metadata": {
    "ExecuteTime": {
     "end_time": "2018-10-18T13:14:53.757558Z",
     "start_time": "2018-10-18T13:14:53.754261Z"
    }
   },
   "outputs": [],
   "source": [
    "#@solution\n",
    "df = pd.DataFrame(results).set_index('expose')"
   ]
  },
  {
   "cell_type": "code",
   "execution_count": 20,
   "metadata": {
    "ExecuteTime": {
     "end_time": "2018-10-18T13:14:53.979286Z",
     "start_time": "2018-10-18T13:14:53.947686Z"
    }
   },
   "outputs": [
    {
     "data": {
      "text/html": [
       "<div>\n",
       "<style scoped>\n",
       "    .dataframe tbody tr th:only-of-type {\n",
       "        vertical-align: middle;\n",
       "    }\n",
       "\n",
       "    .dataframe tbody tr th {\n",
       "        vertical-align: top;\n",
       "    }\n",
       "\n",
       "    .dataframe thead th {\n",
       "        text-align: right;\n",
       "    }\n",
       "</style>\n",
       "<table border=\"1\" class=\"dataframe\">\n",
       "  <thead>\n",
       "    <tr style=\"text-align: right;\">\n",
       "      <th></th>\n",
       "      <th>address</th>\n",
       "      <th>price_cold</th>\n",
       "      <th>rooms</th>\n",
       "      <th>space</th>\n",
       "      <th>title</th>\n",
       "    </tr>\n",
       "    <tr>\n",
       "      <th>expose</th>\n",
       "      <th></th>\n",
       "      <th></th>\n",
       "      <th></th>\n",
       "      <th></th>\n",
       "      <th></th>\n",
       "    </tr>\n",
       "  </thead>\n",
       "  <tbody>\n",
       "    <tr>\n",
       "      <th>107798016</th>\n",
       "      <td>Konstanz, Konstanz (Kreis)</td>\n",
       "      <td>450.00</td>\n",
       "      <td>1.0</td>\n",
       "      <td>31.00</td>\n",
       "      <td>NEUModerne 1-Zimmer-Wohnung in bevorzugter Woh...</td>\n",
       "    </tr>\n",
       "    <tr>\n",
       "      <th>107796971</th>\n",
       "      <td>Feldbergstr. 52, Singen (Hohentwiel), Konstanz...</td>\n",
       "      <td>245.00</td>\n",
       "      <td>1.0</td>\n",
       "      <td>40.22</td>\n",
       "      <td>NEUSeniorenwohnung mit Betreuung durch das DRK</td>\n",
       "    </tr>\n",
       "    <tr>\n",
       "      <th>107597166</th>\n",
       "      <td>Konstanz, Konstanz (Kreis)</td>\n",
       "      <td>400.00</td>\n",
       "      <td>1.0</td>\n",
       "      <td>40.00</td>\n",
       "      <td>NEUAll Inklusive》ZWISCHENMIETE《teilmöbilierte ...</td>\n",
       "    </tr>\n",
       "    <tr>\n",
       "      <th>107471975</th>\n",
       "      <td>Zähringerplatz 8, Konstanz, Konstanz (Kreis)</td>\n",
       "      <td>350.00</td>\n",
       "      <td>1.0</td>\n",
       "      <td>43.00</td>\n",
       "      <td>Freundliche 1-Zimmer-Wohnung mit Balkon und EB...</td>\n",
       "    </tr>\n",
       "    <tr>\n",
       "      <th>99491471</th>\n",
       "      <td>Birnaublich  19, Konstanz, Konstanz (Kreis)</td>\n",
       "      <td>500.00</td>\n",
       "      <td>1.5</td>\n",
       "      <td>43.00</td>\n",
       "      <td>+++Single- Appartement in Wallhausen +++</td>\n",
       "    </tr>\n",
       "    <tr>\n",
       "      <th>95942599</th>\n",
       "      <td>Röschberg 5, Hohenfels, Konstanz (Kreis)</td>\n",
       "      <td>340.00</td>\n",
       "      <td>1.0</td>\n",
       "      <td>30.00</td>\n",
       "      <td>Schöne 1 Zimmer Wohnung in Hohenfels</td>\n",
       "    </tr>\n",
       "    <tr>\n",
       "      <th>81638413</th>\n",
       "      <td>Singen (Hohentwiel), Konstanz (Kreis)</td>\n",
       "      <td>450.00</td>\n",
       "      <td>2.0</td>\n",
       "      <td>44.84</td>\n",
       "      <td>NEUModerne 2 -Zimmerwohnung mit Balkon in Singen</td>\n",
       "    </tr>\n",
       "    <tr>\n",
       "      <th>100903160</th>\n",
       "      <td>Gartenstraße 3, Königsfeld im Schwarzwald, Sch...</td>\n",
       "      <td>220.00</td>\n",
       "      <td>1.0</td>\n",
       "      <td>24.80</td>\n",
       "      <td>NEUhelle 1-Zimmer-Wohnung in Königsfeld</td>\n",
       "    </tr>\n",
       "    <tr>\n",
       "      <th>101871233</th>\n",
       "      <td>Panoramastraße 73, Oberteuringen, Bodenseekreis</td>\n",
       "      <td>450.00</td>\n",
       "      <td>2.0</td>\n",
       "      <td>49.00</td>\n",
       "      <td>NEUMöblierte 2-Zimmer-Wohnung mit Balkon im Fe...</td>\n",
       "    </tr>\n",
       "    <tr>\n",
       "      <th>107646969</th>\n",
       "      <td>Furtwangen im Schwarzwald, Schwarzwald-Baar-Kreis</td>\n",
       "      <td>450.00</td>\n",
       "      <td>3.0</td>\n",
       "      <td>80.00</td>\n",
       "      <td>NEUHelle 3-Zimmer-DG-Wohnung in Furtwangen-Sch...</td>\n",
       "    </tr>\n",
       "    <tr>\n",
       "      <th>107864970</th>\n",
       "      <td>Freiligrathstraße 4, Friedrichshafen, Bodensee...</td>\n",
       "      <td>370.00</td>\n",
       "      <td>1.0</td>\n",
       "      <td>33.00</td>\n",
       "      <td>NEUNeuwertige 1-Zimmer-Wohnung mit Balkon und ...</td>\n",
       "    </tr>\n",
       "    <tr>\n",
       "      <th>107864877</th>\n",
       "      <td>Friedenstraße 7, Villingen-Schwenningen, Schwa...</td>\n",
       "      <td>280.00</td>\n",
       "      <td>2.0</td>\n",
       "      <td>36.86</td>\n",
       "      <td>NEUDas Glück hat ein Zuhause: individuelle 2-Z...</td>\n",
       "    </tr>\n",
       "    <tr>\n",
       "      <th>107848702</th>\n",
       "      <td>In der Muslen 5, Villingen-Schwenningen, Schwa...</td>\n",
       "      <td>450.00</td>\n",
       "      <td>3.5</td>\n",
       "      <td>85.00</td>\n",
       "      <td>NEUSchöne, sonnige 3,5-Zimmer-Wohnung in Villi...</td>\n",
       "    </tr>\n",
       "    <tr>\n",
       "      <th>107847648</th>\n",
       "      <td>Bronnenweg 10, Sigmaringen, Sigmaringen (Kreis)</td>\n",
       "      <td>211.97</td>\n",
       "      <td>1.0</td>\n",
       "      <td>32.61</td>\n",
       "      <td>NEUStudenten aufgepasst: Wohnheimplatz in eine...</td>\n",
       "    </tr>\n",
       "    <tr>\n",
       "      <th>107833691</th>\n",
       "      <td>Hildegardring 45, Überlingen, Bodenseekreis</td>\n",
       "      <td>490.00</td>\n",
       "      <td>2.5</td>\n",
       "      <td>62.00</td>\n",
       "      <td>NEUGepflegte 2,5 Zimmerwohnung mit Einbauküche...</td>\n",
       "    </tr>\n",
       "    <tr>\n",
       "      <th>107821253</th>\n",
       "      <td>Villingen-Schwenningen, Schwarzwald-Baar-Kreis</td>\n",
       "      <td>225.00</td>\n",
       "      <td>1.0</td>\n",
       "      <td>15.00</td>\n",
       "      <td>NEUWG-Zimmer ca. 18qm Zentrumsnah- -All Inclus...</td>\n",
       "    </tr>\n",
       "    <tr>\n",
       "      <th>107812648</th>\n",
       "      <td>Wiesenstr. 5, Sankt Georgen im Schwarzwald, Sc...</td>\n",
       "      <td>419.27</td>\n",
       "      <td>3.0</td>\n",
       "      <td>73.50</td>\n",
       "      <td>NEUGroßzügige 3-Zimmer Wohnung in St. Georgen</td>\n",
       "    </tr>\n",
       "    <tr>\n",
       "      <th>107806900</th>\n",
       "      <td>Adlerweg 9, Villingen-Schwenningen, Schwarzwal...</td>\n",
       "      <td>500.00</td>\n",
       "      <td>2.5</td>\n",
       "      <td>54.00</td>\n",
       "      <td>NEUFreundliche 2,5-Zimmer-EG-Wohnung mit Balko...</td>\n",
       "    </tr>\n",
       "    <tr>\n",
       "      <th>107804050</th>\n",
       "      <td>Sophienstraße 27, Villingen-Schwenningen, Schw...</td>\n",
       "      <td>400.00</td>\n",
       "      <td>1.0</td>\n",
       "      <td>32.00</td>\n",
       "      <td>NEU1 Zimmer Appartment Schwenningen</td>\n",
       "    </tr>\n",
       "    <tr>\n",
       "      <th>107780556</th>\n",
       "      <td>Schwenninger Str. 11/2, Villingen-Schwenningen...</td>\n",
       "      <td>260.00</td>\n",
       "      <td>1.0</td>\n",
       "      <td>28.00</td>\n",
       "      <td>NEUGepflegte 1-Zimmer-DG-Wohnung mit Balkon un...</td>\n",
       "    </tr>\n",
       "  </tbody>\n",
       "</table>\n",
       "</div>"
      ],
      "text/plain": [
       "                                                     address  price_cold  \\\n",
       "expose                                                                     \n",
       "107798016                         Konstanz, Konstanz (Kreis)      450.00   \n",
       "107796971  Feldbergstr. 52, Singen (Hohentwiel), Konstanz...      245.00   \n",
       "107597166                         Konstanz, Konstanz (Kreis)      400.00   \n",
       "107471975       Zähringerplatz 8, Konstanz, Konstanz (Kreis)      350.00   \n",
       "99491471         Birnaublich  19, Konstanz, Konstanz (Kreis)      500.00   \n",
       "95942599            Röschberg 5, Hohenfels, Konstanz (Kreis)      340.00   \n",
       "81638413               Singen (Hohentwiel), Konstanz (Kreis)      450.00   \n",
       "100903160  Gartenstraße 3, Königsfeld im Schwarzwald, Sch...      220.00   \n",
       "101871233    Panoramastraße 73, Oberteuringen, Bodenseekreis      450.00   \n",
       "107646969  Furtwangen im Schwarzwald, Schwarzwald-Baar-Kreis      450.00   \n",
       "107864970  Freiligrathstraße 4, Friedrichshafen, Bodensee...      370.00   \n",
       "107864877  Friedenstraße 7, Villingen-Schwenningen, Schwa...      280.00   \n",
       "107848702  In der Muslen 5, Villingen-Schwenningen, Schwa...      450.00   \n",
       "107847648    Bronnenweg 10, Sigmaringen, Sigmaringen (Kreis)      211.97   \n",
       "107833691        Hildegardring 45, Überlingen, Bodenseekreis      490.00   \n",
       "107821253     Villingen-Schwenningen, Schwarzwald-Baar-Kreis      225.00   \n",
       "107812648  Wiesenstr. 5, Sankt Georgen im Schwarzwald, Sc...      419.27   \n",
       "107806900  Adlerweg 9, Villingen-Schwenningen, Schwarzwal...      500.00   \n",
       "107804050  Sophienstraße 27, Villingen-Schwenningen, Schw...      400.00   \n",
       "107780556  Schwenninger Str. 11/2, Villingen-Schwenningen...      260.00   \n",
       "\n",
       "           rooms  space                                              title  \n",
       "expose                                                                      \n",
       "107798016    1.0  31.00  NEUModerne 1-Zimmer-Wohnung in bevorzugter Woh...  \n",
       "107796971    1.0  40.22     NEUSeniorenwohnung mit Betreuung durch das DRK  \n",
       "107597166    1.0  40.00  NEUAll Inklusive》ZWISCHENMIETE《teilmöbilierte ...  \n",
       "107471975    1.0  43.00  Freundliche 1-Zimmer-Wohnung mit Balkon und EB...  \n",
       "99491471     1.5  43.00           +++Single- Appartement in Wallhausen +++  \n",
       "95942599     1.0  30.00               Schöne 1 Zimmer Wohnung in Hohenfels  \n",
       "81638413     2.0  44.84   NEUModerne 2 -Zimmerwohnung mit Balkon in Singen  \n",
       "100903160    1.0  24.80            NEUhelle 1-Zimmer-Wohnung in Königsfeld  \n",
       "101871233    2.0  49.00  NEUMöblierte 2-Zimmer-Wohnung mit Balkon im Fe...  \n",
       "107646969    3.0  80.00  NEUHelle 3-Zimmer-DG-Wohnung in Furtwangen-Sch...  \n",
       "107864970    1.0  33.00  NEUNeuwertige 1-Zimmer-Wohnung mit Balkon und ...  \n",
       "107864877    2.0  36.86  NEUDas Glück hat ein Zuhause: individuelle 2-Z...  \n",
       "107848702    3.5  85.00  NEUSchöne, sonnige 3,5-Zimmer-Wohnung in Villi...  \n",
       "107847648    1.0  32.61  NEUStudenten aufgepasst: Wohnheimplatz in eine...  \n",
       "107833691    2.5  62.00  NEUGepflegte 2,5 Zimmerwohnung mit Einbauküche...  \n",
       "107821253    1.0  15.00  NEUWG-Zimmer ca. 18qm Zentrumsnah- -All Inclus...  \n",
       "107812648    3.0  73.50      NEUGroßzügige 3-Zimmer Wohnung in St. Georgen  \n",
       "107806900    2.5  54.00  NEUFreundliche 2,5-Zimmer-EG-Wohnung mit Balko...  \n",
       "107804050    1.0  32.00                NEU1 Zimmer Appartment Schwenningen  \n",
       "107780556    1.0  28.00  NEUGepflegte 1-Zimmer-DG-Wohnung mit Balkon un...  "
      ]
     },
     "execution_count": 20,
     "metadata": {},
     "output_type": "execute_result"
    }
   ],
   "source": [
    "#@solution\n",
    "df"
   ]
  },
  {
   "cell_type": "markdown",
   "metadata": {},
   "source": [
    "Let's save the Pandas table in a file, so we could restore it in the \"next\" run. Let's save them in `JSON` format with `df.to_json`"
   ]
  },
  {
   "cell_type": "code",
   "execution_count": 21,
   "metadata": {
    "ExecuteTime": {
     "end_time": "2018-10-18T13:15:34.455449Z",
     "start_time": "2018-10-18T13:15:34.451947Z"
    }
   },
   "outputs": [],
   "source": [
    "#@solution\n",
    "df.to_json('mytable.json', orient='columns')"
   ]
  },
  {
   "cell_type": "markdown",
   "metadata": {},
   "source": [
    "If we want to load the results we can do it with: `pd.read_json`"
   ]
  },
  {
   "cell_type": "code",
   "execution_count": 22,
   "metadata": {
    "ExecuteTime": {
     "end_time": "2018-10-18T13:15:44.847866Z",
     "start_time": "2018-10-18T13:15:44.832215Z"
    }
   },
   "outputs": [
    {
     "data": {
      "text/html": [
       "<div>\n",
       "<style scoped>\n",
       "    .dataframe tbody tr th:only-of-type {\n",
       "        vertical-align: middle;\n",
       "    }\n",
       "\n",
       "    .dataframe tbody tr th {\n",
       "        vertical-align: top;\n",
       "    }\n",
       "\n",
       "    .dataframe thead th {\n",
       "        text-align: right;\n",
       "    }\n",
       "</style>\n",
       "<table border=\"1\" class=\"dataframe\">\n",
       "  <thead>\n",
       "    <tr style=\"text-align: right;\">\n",
       "      <th></th>\n",
       "      <th>address</th>\n",
       "      <th>price_cold</th>\n",
       "      <th>rooms</th>\n",
       "      <th>space</th>\n",
       "      <th>title</th>\n",
       "    </tr>\n",
       "    <tr>\n",
       "      <th>expose</th>\n",
       "      <th></th>\n",
       "      <th></th>\n",
       "      <th></th>\n",
       "      <th></th>\n",
       "      <th></th>\n",
       "    </tr>\n",
       "  </thead>\n",
       "  <tbody>\n",
       "    <tr>\n",
       "      <th>100903160</th>\n",
       "      <td>Gartenstraße 3, Königsfeld im Schwarzwald, Sch...</td>\n",
       "      <td>220.00</td>\n",
       "      <td>1.0</td>\n",
       "      <td>24.80</td>\n",
       "      <td>NEUhelle 1-Zimmer-Wohnung in Königsfeld</td>\n",
       "    </tr>\n",
       "    <tr>\n",
       "      <th>101871233</th>\n",
       "      <td>Panoramastraße 73, Oberteuringen, Bodenseekreis</td>\n",
       "      <td>450.00</td>\n",
       "      <td>2.0</td>\n",
       "      <td>49.00</td>\n",
       "      <td>NEUMöblierte 2-Zimmer-Wohnung mit Balkon im Fe...</td>\n",
       "    </tr>\n",
       "    <tr>\n",
       "      <th>107471975</th>\n",
       "      <td>Zähringerplatz 8, Konstanz, Konstanz (Kreis)</td>\n",
       "      <td>350.00</td>\n",
       "      <td>1.0</td>\n",
       "      <td>43.00</td>\n",
       "      <td>Freundliche 1-Zimmer-Wohnung mit Balkon und EB...</td>\n",
       "    </tr>\n",
       "    <tr>\n",
       "      <th>107597166</th>\n",
       "      <td>Konstanz, Konstanz (Kreis)</td>\n",
       "      <td>400.00</td>\n",
       "      <td>1.0</td>\n",
       "      <td>40.00</td>\n",
       "      <td>NEUAll Inklusive》ZWISCHENMIETE《teilmöbilierte ...</td>\n",
       "    </tr>\n",
       "    <tr>\n",
       "      <th>107646969</th>\n",
       "      <td>Furtwangen im Schwarzwald, Schwarzwald-Baar-Kreis</td>\n",
       "      <td>450.00</td>\n",
       "      <td>3.0</td>\n",
       "      <td>80.00</td>\n",
       "      <td>NEUHelle 3-Zimmer-DG-Wohnung in Furtwangen-Sch...</td>\n",
       "    </tr>\n",
       "    <tr>\n",
       "      <th>107780556</th>\n",
       "      <td>Schwenninger Str. 11/2, Villingen-Schwenningen...</td>\n",
       "      <td>260.00</td>\n",
       "      <td>1.0</td>\n",
       "      <td>28.00</td>\n",
       "      <td>NEUGepflegte 1-Zimmer-DG-Wohnung mit Balkon un...</td>\n",
       "    </tr>\n",
       "    <tr>\n",
       "      <th>107796971</th>\n",
       "      <td>Feldbergstr. 52, Singen (Hohentwiel), Konstanz...</td>\n",
       "      <td>245.00</td>\n",
       "      <td>1.0</td>\n",
       "      <td>40.22</td>\n",
       "      <td>NEUSeniorenwohnung mit Betreuung durch das DRK</td>\n",
       "    </tr>\n",
       "    <tr>\n",
       "      <th>107798016</th>\n",
       "      <td>Konstanz, Konstanz (Kreis)</td>\n",
       "      <td>450.00</td>\n",
       "      <td>1.0</td>\n",
       "      <td>31.00</td>\n",
       "      <td>NEUModerne 1-Zimmer-Wohnung in bevorzugter Woh...</td>\n",
       "    </tr>\n",
       "    <tr>\n",
       "      <th>107804050</th>\n",
       "      <td>Sophienstraße 27, Villingen-Schwenningen, Schw...</td>\n",
       "      <td>400.00</td>\n",
       "      <td>1.0</td>\n",
       "      <td>32.00</td>\n",
       "      <td>NEU1 Zimmer Appartment Schwenningen</td>\n",
       "    </tr>\n",
       "    <tr>\n",
       "      <th>107806900</th>\n",
       "      <td>Adlerweg 9, Villingen-Schwenningen, Schwarzwal...</td>\n",
       "      <td>500.00</td>\n",
       "      <td>2.5</td>\n",
       "      <td>54.00</td>\n",
       "      <td>NEUFreundliche 2,5-Zimmer-EG-Wohnung mit Balko...</td>\n",
       "    </tr>\n",
       "    <tr>\n",
       "      <th>107812648</th>\n",
       "      <td>Wiesenstr. 5, Sankt Georgen im Schwarzwald, Sc...</td>\n",
       "      <td>419.27</td>\n",
       "      <td>3.0</td>\n",
       "      <td>73.50</td>\n",
       "      <td>NEUGroßzügige 3-Zimmer Wohnung in St. Georgen</td>\n",
       "    </tr>\n",
       "    <tr>\n",
       "      <th>107821253</th>\n",
       "      <td>Villingen-Schwenningen, Schwarzwald-Baar-Kreis</td>\n",
       "      <td>225.00</td>\n",
       "      <td>1.0</td>\n",
       "      <td>15.00</td>\n",
       "      <td>NEUWG-Zimmer ca. 18qm Zentrumsnah- -All Inclus...</td>\n",
       "    </tr>\n",
       "    <tr>\n",
       "      <th>107833691</th>\n",
       "      <td>Hildegardring 45, Überlingen, Bodenseekreis</td>\n",
       "      <td>490.00</td>\n",
       "      <td>2.5</td>\n",
       "      <td>62.00</td>\n",
       "      <td>NEUGepflegte 2,5 Zimmerwohnung mit Einbauküche...</td>\n",
       "    </tr>\n",
       "    <tr>\n",
       "      <th>107847648</th>\n",
       "      <td>Bronnenweg 10, Sigmaringen, Sigmaringen (Kreis)</td>\n",
       "      <td>211.97</td>\n",
       "      <td>1.0</td>\n",
       "      <td>32.61</td>\n",
       "      <td>NEUStudenten aufgepasst: Wohnheimplatz in eine...</td>\n",
       "    </tr>\n",
       "    <tr>\n",
       "      <th>107848702</th>\n",
       "      <td>In der Muslen 5, Villingen-Schwenningen, Schwa...</td>\n",
       "      <td>450.00</td>\n",
       "      <td>3.5</td>\n",
       "      <td>85.00</td>\n",
       "      <td>NEUSchöne, sonnige 3,5-Zimmer-Wohnung in Villi...</td>\n",
       "    </tr>\n",
       "    <tr>\n",
       "      <th>107864877</th>\n",
       "      <td>Friedenstraße 7, Villingen-Schwenningen, Schwa...</td>\n",
       "      <td>280.00</td>\n",
       "      <td>2.0</td>\n",
       "      <td>36.86</td>\n",
       "      <td>NEUDas Glück hat ein Zuhause: individuelle 2-Z...</td>\n",
       "    </tr>\n",
       "    <tr>\n",
       "      <th>107864970</th>\n",
       "      <td>Freiligrathstraße 4, Friedrichshafen, Bodensee...</td>\n",
       "      <td>370.00</td>\n",
       "      <td>1.0</td>\n",
       "      <td>33.00</td>\n",
       "      <td>NEUNeuwertige 1-Zimmer-Wohnung mit Balkon und ...</td>\n",
       "    </tr>\n",
       "    <tr>\n",
       "      <th>81638413</th>\n",
       "      <td>Singen (Hohentwiel), Konstanz (Kreis)</td>\n",
       "      <td>450.00</td>\n",
       "      <td>2.0</td>\n",
       "      <td>44.84</td>\n",
       "      <td>NEUModerne 2 -Zimmerwohnung mit Balkon in Singen</td>\n",
       "    </tr>\n",
       "    <tr>\n",
       "      <th>95942599</th>\n",
       "      <td>Röschberg 5, Hohenfels, Konstanz (Kreis)</td>\n",
       "      <td>340.00</td>\n",
       "      <td>1.0</td>\n",
       "      <td>30.00</td>\n",
       "      <td>Schöne 1 Zimmer Wohnung in Hohenfels</td>\n",
       "    </tr>\n",
       "    <tr>\n",
       "      <th>99491471</th>\n",
       "      <td>Birnaublich  19, Konstanz, Konstanz (Kreis)</td>\n",
       "      <td>500.00</td>\n",
       "      <td>1.5</td>\n",
       "      <td>43.00</td>\n",
       "      <td>+++Single- Appartement in Wallhausen +++</td>\n",
       "    </tr>\n",
       "  </tbody>\n",
       "</table>\n",
       "</div>"
      ],
      "text/plain": [
       "                                                     address  price_cold  \\\n",
       "expose                                                                     \n",
       "100903160  Gartenstraße 3, Königsfeld im Schwarzwald, Sch...      220.00   \n",
       "101871233    Panoramastraße 73, Oberteuringen, Bodenseekreis      450.00   \n",
       "107471975       Zähringerplatz 8, Konstanz, Konstanz (Kreis)      350.00   \n",
       "107597166                         Konstanz, Konstanz (Kreis)      400.00   \n",
       "107646969  Furtwangen im Schwarzwald, Schwarzwald-Baar-Kreis      450.00   \n",
       "107780556  Schwenninger Str. 11/2, Villingen-Schwenningen...      260.00   \n",
       "107796971  Feldbergstr. 52, Singen (Hohentwiel), Konstanz...      245.00   \n",
       "107798016                         Konstanz, Konstanz (Kreis)      450.00   \n",
       "107804050  Sophienstraße 27, Villingen-Schwenningen, Schw...      400.00   \n",
       "107806900  Adlerweg 9, Villingen-Schwenningen, Schwarzwal...      500.00   \n",
       "107812648  Wiesenstr. 5, Sankt Georgen im Schwarzwald, Sc...      419.27   \n",
       "107821253     Villingen-Schwenningen, Schwarzwald-Baar-Kreis      225.00   \n",
       "107833691        Hildegardring 45, Überlingen, Bodenseekreis      490.00   \n",
       "107847648    Bronnenweg 10, Sigmaringen, Sigmaringen (Kreis)      211.97   \n",
       "107848702  In der Muslen 5, Villingen-Schwenningen, Schwa...      450.00   \n",
       "107864877  Friedenstraße 7, Villingen-Schwenningen, Schwa...      280.00   \n",
       "107864970  Freiligrathstraße 4, Friedrichshafen, Bodensee...      370.00   \n",
       "81638413               Singen (Hohentwiel), Konstanz (Kreis)      450.00   \n",
       "95942599            Röschberg 5, Hohenfels, Konstanz (Kreis)      340.00   \n",
       "99491471         Birnaublich  19, Konstanz, Konstanz (Kreis)      500.00   \n",
       "\n",
       "           rooms  space                                              title  \n",
       "expose                                                                      \n",
       "100903160    1.0  24.80            NEUhelle 1-Zimmer-Wohnung in Königsfeld  \n",
       "101871233    2.0  49.00  NEUMöblierte 2-Zimmer-Wohnung mit Balkon im Fe...  \n",
       "107471975    1.0  43.00  Freundliche 1-Zimmer-Wohnung mit Balkon und EB...  \n",
       "107597166    1.0  40.00  NEUAll Inklusive》ZWISCHENMIETE《teilmöbilierte ...  \n",
       "107646969    3.0  80.00  NEUHelle 3-Zimmer-DG-Wohnung in Furtwangen-Sch...  \n",
       "107780556    1.0  28.00  NEUGepflegte 1-Zimmer-DG-Wohnung mit Balkon un...  \n",
       "107796971    1.0  40.22     NEUSeniorenwohnung mit Betreuung durch das DRK  \n",
       "107798016    1.0  31.00  NEUModerne 1-Zimmer-Wohnung in bevorzugter Woh...  \n",
       "107804050    1.0  32.00                NEU1 Zimmer Appartment Schwenningen  \n",
       "107806900    2.5  54.00  NEUFreundliche 2,5-Zimmer-EG-Wohnung mit Balko...  \n",
       "107812648    3.0  73.50      NEUGroßzügige 3-Zimmer Wohnung in St. Georgen  \n",
       "107821253    1.0  15.00  NEUWG-Zimmer ca. 18qm Zentrumsnah- -All Inclus...  \n",
       "107833691    2.5  62.00  NEUGepflegte 2,5 Zimmerwohnung mit Einbauküche...  \n",
       "107847648    1.0  32.61  NEUStudenten aufgepasst: Wohnheimplatz in eine...  \n",
       "107848702    3.5  85.00  NEUSchöne, sonnige 3,5-Zimmer-Wohnung in Villi...  \n",
       "107864877    2.0  36.86  NEUDas Glück hat ein Zuhause: individuelle 2-Z...  \n",
       "107864970    1.0  33.00  NEUNeuwertige 1-Zimmer-Wohnung mit Balkon und ...  \n",
       "81638413     2.0  44.84   NEUModerne 2 -Zimmerwohnung mit Balkon in Singen  \n",
       "95942599     1.0  30.00               Schöne 1 Zimmer Wohnung in Hohenfels  \n",
       "99491471     1.5  43.00           +++Single- Appartement in Wallhausen +++  "
      ]
     },
     "execution_count": 22,
     "metadata": {},
     "output_type": "execute_result"
    }
   ],
   "source": [
    "df_old = pd.read_json('mytable.json',\n",
    "                          orient='columns',\n",
    "                          convert_dates=False,  # dont convert columns to dates\n",
    "                          convert_axes=False,  # dont convert index to dates\n",
    "                          )\n",
    "df_old.index = df_old.index.astype(int)\n",
    "df_old.index.name = 'expose'\n",
    "df_old"
   ]
  },
  {
   "cell_type": "markdown",
   "metadata": {},
   "source": [
    "## find new entries"
   ]
  },
  {
   "cell_type": "markdown",
   "metadata": {},
   "source": [
    "<div class='alert alert-block alert-info'>\n",
    "\n",
    "\n",
    "<ul>\n",
    "    <li>Load the file `mytable_old.json` (created yesterday).</li>\n",
    "    <li>Write a function to compare the both pandas frames to find new entries.</li>\n",
    "</ul>\n",
    "\n",
    "</div>"
   ]
  },
  {
   "cell_type": "code",
   "execution_count": 23,
   "metadata": {
    "ExecuteTime": {
     "end_time": "2018-10-18T13:15:46.518431Z",
     "start_time": "2018-10-18T13:15:46.506269Z"
    }
   },
   "outputs": [
    {
     "data": {
      "text/html": [
       "<div>\n",
       "<style scoped>\n",
       "    .dataframe tbody tr th:only-of-type {\n",
       "        vertical-align: middle;\n",
       "    }\n",
       "\n",
       "    .dataframe tbody tr th {\n",
       "        vertical-align: top;\n",
       "    }\n",
       "\n",
       "    .dataframe thead th {\n",
       "        text-align: right;\n",
       "    }\n",
       "</style>\n",
       "<table border=\"1\" class=\"dataframe\">\n",
       "  <thead>\n",
       "    <tr style=\"text-align: right;\">\n",
       "      <th></th>\n",
       "      <th>address</th>\n",
       "      <th>price_cold</th>\n",
       "      <th>rooms</th>\n",
       "      <th>space</th>\n",
       "      <th>title</th>\n",
       "    </tr>\n",
       "    <tr>\n",
       "      <th>expose</th>\n",
       "      <th></th>\n",
       "      <th></th>\n",
       "      <th></th>\n",
       "      <th></th>\n",
       "      <th></th>\n",
       "    </tr>\n",
       "  </thead>\n",
       "  <tbody>\n",
       "    <tr>\n",
       "      <th>100903160</th>\n",
       "      <td>Gartenstraße 3, Königsfeld im Schwarzwald, Sch...</td>\n",
       "      <td>220.00</td>\n",
       "      <td>1.0</td>\n",
       "      <td>24.80</td>\n",
       "      <td>NEUhelle 1-Zimmer-Wohnung in Königsfeld</td>\n",
       "    </tr>\n",
       "    <tr>\n",
       "      <th>101871233</th>\n",
       "      <td>Panoramastraße 73, Oberteuringen, Bodenseekreis</td>\n",
       "      <td>450.00</td>\n",
       "      <td>2.0</td>\n",
       "      <td>49.00</td>\n",
       "      <td>NEUMöblierte 2-Zimmer-Wohnung mit Balkon im Fe...</td>\n",
       "    </tr>\n",
       "    <tr>\n",
       "      <th>107471975</th>\n",
       "      <td>Zähringerplatz 8, Konstanz, Konstanz (Kreis)</td>\n",
       "      <td>350.00</td>\n",
       "      <td>1.0</td>\n",
       "      <td>43.00</td>\n",
       "      <td>Freundliche 1-Zimmer-Wohnung mit Balkon und EB...</td>\n",
       "    </tr>\n",
       "    <tr>\n",
       "      <th>107597166</th>\n",
       "      <td>Konstanz, Konstanz (Kreis)</td>\n",
       "      <td>400.00</td>\n",
       "      <td>1.0</td>\n",
       "      <td>40.00</td>\n",
       "      <td>NEUAll Inklusive》ZWISCHENMIETE《teilmöbilierte ...</td>\n",
       "    </tr>\n",
       "    <tr>\n",
       "      <th>107646969</th>\n",
       "      <td>Furtwangen im Schwarzwald, Schwarzwald-Baar-Kreis</td>\n",
       "      <td>450.00</td>\n",
       "      <td>3.0</td>\n",
       "      <td>80.00</td>\n",
       "      <td>NEUHelle 3-Zimmer-DG-Wohnung in Furtwangen-Sch...</td>\n",
       "    </tr>\n",
       "    <tr>\n",
       "      <th>107765884</th>\n",
       "      <td>Schwarzwaldstrasse X, Schönwald im Schwarzwald...</td>\n",
       "      <td>150.00</td>\n",
       "      <td>1.0</td>\n",
       "      <td>25.00</td>\n",
       "      <td>NEU1-Zi Whg SCHÖNWALD neben Furtwangen</td>\n",
       "    </tr>\n",
       "    <tr>\n",
       "      <th>107780556</th>\n",
       "      <td>Schwenninger Str. 11/2, Villingen-Schwenningen...</td>\n",
       "      <td>260.00</td>\n",
       "      <td>1.0</td>\n",
       "      <td>28.00</td>\n",
       "      <td>NEUGepflegte 1-Zimmer-DG-Wohnung mit Balkon un...</td>\n",
       "    </tr>\n",
       "    <tr>\n",
       "      <th>107796971</th>\n",
       "      <td>Feldbergstr. 52, Singen (Hohentwiel), Konstanz...</td>\n",
       "      <td>245.00</td>\n",
       "      <td>1.0</td>\n",
       "      <td>40.22</td>\n",
       "      <td>NEUSeniorenwohnung mit Betreuung durch das DRK</td>\n",
       "    </tr>\n",
       "    <tr>\n",
       "      <th>107798016</th>\n",
       "      <td>Konstanz, Konstanz (Kreis)</td>\n",
       "      <td>450.00</td>\n",
       "      <td>1.0</td>\n",
       "      <td>31.00</td>\n",
       "      <td>NEUModerne 1-Zimmer-Wohnung in bevorzugter Woh...</td>\n",
       "    </tr>\n",
       "    <tr>\n",
       "      <th>107804050</th>\n",
       "      <td>Sophienstraße 27, Villingen-Schwenningen, Schw...</td>\n",
       "      <td>400.00</td>\n",
       "      <td>1.0</td>\n",
       "      <td>32.00</td>\n",
       "      <td>NEU1 Zimmer Appartment Schwenningen</td>\n",
       "    </tr>\n",
       "    <tr>\n",
       "      <th>107806900</th>\n",
       "      <td>Adlerweg 9, Villingen-Schwenningen, Schwarzwal...</td>\n",
       "      <td>500.00</td>\n",
       "      <td>2.5</td>\n",
       "      <td>54.00</td>\n",
       "      <td>NEUFreundliche 2,5-Zimmer-EG-Wohnung mit Balko...</td>\n",
       "    </tr>\n",
       "    <tr>\n",
       "      <th>107812648</th>\n",
       "      <td>Wiesenstr. 5, Sankt Georgen im Schwarzwald, Sc...</td>\n",
       "      <td>419.27</td>\n",
       "      <td>3.0</td>\n",
       "      <td>73.50</td>\n",
       "      <td>NEUGroßzügige 3-Zimmer Wohnung in St. Georgen</td>\n",
       "    </tr>\n",
       "    <tr>\n",
       "      <th>107814659</th>\n",
       "      <td>Laimgasse 4, Friedrichshafen, Bodenseekreis</td>\n",
       "      <td>494.00</td>\n",
       "      <td>2.0</td>\n",
       "      <td>55.00</td>\n",
       "      <td>NEUHelle 2,5 Zimmer Wohnung möbliert mit Küche...</td>\n",
       "    </tr>\n",
       "    <tr>\n",
       "      <th>107821253</th>\n",
       "      <td>Villingen-Schwenningen, Schwarzwald-Baar-Kreis</td>\n",
       "      <td>225.00</td>\n",
       "      <td>1.0</td>\n",
       "      <td>15.00</td>\n",
       "      <td>NEUWG-Zimmer ca. 18qm Zentrumsnah- -All Inclus...</td>\n",
       "    </tr>\n",
       "    <tr>\n",
       "      <th>107833691</th>\n",
       "      <td>Hildegardring 45, Überlingen, Bodenseekreis</td>\n",
       "      <td>490.00</td>\n",
       "      <td>2.5</td>\n",
       "      <td>62.00</td>\n",
       "      <td>NEUGepflegte 2,5 Zimmerwohnung mit Einbauküche...</td>\n",
       "    </tr>\n",
       "    <tr>\n",
       "      <th>107847648</th>\n",
       "      <td>Bronnenweg 10, Sigmaringen, Sigmaringen (Kreis)</td>\n",
       "      <td>211.97</td>\n",
       "      <td>1.0</td>\n",
       "      <td>32.61</td>\n",
       "      <td>NEUStudenten aufgepasst: Wohnheimplatz in eine...</td>\n",
       "    </tr>\n",
       "    <tr>\n",
       "      <th>107848702</th>\n",
       "      <td>In der Muslen 5, Villingen-Schwenningen, Schwa...</td>\n",
       "      <td>450.00</td>\n",
       "      <td>3.5</td>\n",
       "      <td>85.00</td>\n",
       "      <td>NEUSchöne, sonnige 3,5-Zimmer-Wohnung in Villi...</td>\n",
       "    </tr>\n",
       "    <tr>\n",
       "      <th>81638413</th>\n",
       "      <td>Singen (Hohentwiel), Konstanz (Kreis)</td>\n",
       "      <td>450.00</td>\n",
       "      <td>2.0</td>\n",
       "      <td>44.84</td>\n",
       "      <td>NEUModerne 2 -Zimmerwohnung mit Balkon in Singen</td>\n",
       "    </tr>\n",
       "    <tr>\n",
       "      <th>95942599</th>\n",
       "      <td>Röschberg 5, Hohenfels, Konstanz (Kreis)</td>\n",
       "      <td>340.00</td>\n",
       "      <td>1.0</td>\n",
       "      <td>30.00</td>\n",
       "      <td>Schöne 1 Zimmer Wohnung in Hohenfels</td>\n",
       "    </tr>\n",
       "    <tr>\n",
       "      <th>99491471</th>\n",
       "      <td>Birnaublich  19, Konstanz, Konstanz (Kreis)</td>\n",
       "      <td>500.00</td>\n",
       "      <td>1.5</td>\n",
       "      <td>43.00</td>\n",
       "      <td>+++Single- Appartement in Wallhausen +++</td>\n",
       "    </tr>\n",
       "  </tbody>\n",
       "</table>\n",
       "</div>"
      ],
      "text/plain": [
       "                                                     address  price_cold  \\\n",
       "expose                                                                     \n",
       "100903160  Gartenstraße 3, Königsfeld im Schwarzwald, Sch...      220.00   \n",
       "101871233    Panoramastraße 73, Oberteuringen, Bodenseekreis      450.00   \n",
       "107471975       Zähringerplatz 8, Konstanz, Konstanz (Kreis)      350.00   \n",
       "107597166                         Konstanz, Konstanz (Kreis)      400.00   \n",
       "107646969  Furtwangen im Schwarzwald, Schwarzwald-Baar-Kreis      450.00   \n",
       "107765884  Schwarzwaldstrasse X, Schönwald im Schwarzwald...      150.00   \n",
       "107780556  Schwenninger Str. 11/2, Villingen-Schwenningen...      260.00   \n",
       "107796971  Feldbergstr. 52, Singen (Hohentwiel), Konstanz...      245.00   \n",
       "107798016                         Konstanz, Konstanz (Kreis)      450.00   \n",
       "107804050  Sophienstraße 27, Villingen-Schwenningen, Schw...      400.00   \n",
       "107806900  Adlerweg 9, Villingen-Schwenningen, Schwarzwal...      500.00   \n",
       "107812648  Wiesenstr. 5, Sankt Georgen im Schwarzwald, Sc...      419.27   \n",
       "107814659        Laimgasse 4, Friedrichshafen, Bodenseekreis      494.00   \n",
       "107821253     Villingen-Schwenningen, Schwarzwald-Baar-Kreis      225.00   \n",
       "107833691        Hildegardring 45, Überlingen, Bodenseekreis      490.00   \n",
       "107847648    Bronnenweg 10, Sigmaringen, Sigmaringen (Kreis)      211.97   \n",
       "107848702  In der Muslen 5, Villingen-Schwenningen, Schwa...      450.00   \n",
       "81638413               Singen (Hohentwiel), Konstanz (Kreis)      450.00   \n",
       "95942599            Röschberg 5, Hohenfels, Konstanz (Kreis)      340.00   \n",
       "99491471         Birnaublich  19, Konstanz, Konstanz (Kreis)      500.00   \n",
       "\n",
       "           rooms  space                                              title  \n",
       "expose                                                                      \n",
       "100903160    1.0  24.80            NEUhelle 1-Zimmer-Wohnung in Königsfeld  \n",
       "101871233    2.0  49.00  NEUMöblierte 2-Zimmer-Wohnung mit Balkon im Fe...  \n",
       "107471975    1.0  43.00  Freundliche 1-Zimmer-Wohnung mit Balkon und EB...  \n",
       "107597166    1.0  40.00  NEUAll Inklusive》ZWISCHENMIETE《teilmöbilierte ...  \n",
       "107646969    3.0  80.00  NEUHelle 3-Zimmer-DG-Wohnung in Furtwangen-Sch...  \n",
       "107765884    1.0  25.00             NEU1-Zi Whg SCHÖNWALD neben Furtwangen  \n",
       "107780556    1.0  28.00  NEUGepflegte 1-Zimmer-DG-Wohnung mit Balkon un...  \n",
       "107796971    1.0  40.22     NEUSeniorenwohnung mit Betreuung durch das DRK  \n",
       "107798016    1.0  31.00  NEUModerne 1-Zimmer-Wohnung in bevorzugter Woh...  \n",
       "107804050    1.0  32.00                NEU1 Zimmer Appartment Schwenningen  \n",
       "107806900    2.5  54.00  NEUFreundliche 2,5-Zimmer-EG-Wohnung mit Balko...  \n",
       "107812648    3.0  73.50      NEUGroßzügige 3-Zimmer Wohnung in St. Georgen  \n",
       "107814659    2.0  55.00  NEUHelle 2,5 Zimmer Wohnung möbliert mit Küche...  \n",
       "107821253    1.0  15.00  NEUWG-Zimmer ca. 18qm Zentrumsnah- -All Inclus...  \n",
       "107833691    2.5  62.00  NEUGepflegte 2,5 Zimmerwohnung mit Einbauküche...  \n",
       "107847648    1.0  32.61  NEUStudenten aufgepasst: Wohnheimplatz in eine...  \n",
       "107848702    3.5  85.00  NEUSchöne, sonnige 3,5-Zimmer-Wohnung in Villi...  \n",
       "81638413     2.0  44.84   NEUModerne 2 -Zimmerwohnung mit Balkon in Singen  \n",
       "95942599     1.0  30.00               Schöne 1 Zimmer Wohnung in Hohenfels  \n",
       "99491471     1.5  43.00           +++Single- Appartement in Wallhausen +++  "
      ]
     },
     "execution_count": 23,
     "metadata": {},
     "output_type": "execute_result"
    }
   ],
   "source": [
    "#@solution\n",
    "df_old = pd.read_json('mytable_old.json',\n",
    "                          orient='columns',\n",
    "                          convert_dates=False,  # dont convert columns to dates\n",
    "                          convert_axes=False,  # dont convert index to dates\n",
    "                          )\n",
    "df_old.index = df_old.index.astype(int)\n",
    "df_old.index.name = 'expose'\n",
    "df_old"
   ]
  },
  {
   "cell_type": "code",
   "execution_count": 24,
   "metadata": {
    "ExecuteTime": {
     "end_time": "2018-10-18T13:15:47.429100Z",
     "start_time": "2018-10-18T13:15:47.426386Z"
    }
   },
   "outputs": [],
   "source": [
    "#@solution\n",
    "def check_for_new(df, df_old):\n",
    "    \"\"\"\n",
    "    Function to check for new expose\n",
    "    \"\"\"\n",
    "\n",
    "    # get the index of the new expose\n",
    "    list_new = [expose for expose in df.index if expose not in df_old.index]\n",
    "    # create sub pandas frame\n",
    "    df_new = df.loc[list_new]\n",
    "    return df_new"
   ]
  },
  {
   "cell_type": "code",
   "execution_count": 25,
   "metadata": {
    "ExecuteTime": {
     "end_time": "2018-10-18T13:15:48.253192Z",
     "start_time": "2018-10-18T13:15:48.247128Z"
    }
   },
   "outputs": [
    {
     "data": {
      "text/html": [
       "<div>\n",
       "<style scoped>\n",
       "    .dataframe tbody tr th:only-of-type {\n",
       "        vertical-align: middle;\n",
       "    }\n",
       "\n",
       "    .dataframe tbody tr th {\n",
       "        vertical-align: top;\n",
       "    }\n",
       "\n",
       "    .dataframe thead th {\n",
       "        text-align: right;\n",
       "    }\n",
       "</style>\n",
       "<table border=\"1\" class=\"dataframe\">\n",
       "  <thead>\n",
       "    <tr style=\"text-align: right;\">\n",
       "      <th></th>\n",
       "      <th>address</th>\n",
       "      <th>price_cold</th>\n",
       "      <th>rooms</th>\n",
       "      <th>space</th>\n",
       "      <th>title</th>\n",
       "    </tr>\n",
       "    <tr>\n",
       "      <th>expose</th>\n",
       "      <th></th>\n",
       "      <th></th>\n",
       "      <th></th>\n",
       "      <th></th>\n",
       "      <th></th>\n",
       "    </tr>\n",
       "  </thead>\n",
       "  <tbody>\n",
       "    <tr>\n",
       "      <th>107864970</th>\n",
       "      <td>Freiligrathstraße 4, Friedrichshafen, Bodensee...</td>\n",
       "      <td>370.0</td>\n",
       "      <td>1.0</td>\n",
       "      <td>33.00</td>\n",
       "      <td>NEUNeuwertige 1-Zimmer-Wohnung mit Balkon und ...</td>\n",
       "    </tr>\n",
       "    <tr>\n",
       "      <th>107864877</th>\n",
       "      <td>Friedenstraße 7, Villingen-Schwenningen, Schwa...</td>\n",
       "      <td>280.0</td>\n",
       "      <td>2.0</td>\n",
       "      <td>36.86</td>\n",
       "      <td>NEUDas Glück hat ein Zuhause: individuelle 2-Z...</td>\n",
       "    </tr>\n",
       "  </tbody>\n",
       "</table>\n",
       "</div>"
      ],
      "text/plain": [
       "                                                     address  price_cold  \\\n",
       "expose                                                                     \n",
       "107864970  Freiligrathstraße 4, Friedrichshafen, Bodensee...       370.0   \n",
       "107864877  Friedenstraße 7, Villingen-Schwenningen, Schwa...       280.0   \n",
       "\n",
       "           rooms  space                                              title  \n",
       "expose                                                                      \n",
       "107864970    1.0  33.00  NEUNeuwertige 1-Zimmer-Wohnung mit Balkon und ...  \n",
       "107864877    2.0  36.86  NEUDas Glück hat ein Zuhause: individuelle 2-Z...  "
      ]
     },
     "execution_count": 25,
     "metadata": {},
     "output_type": "execute_result"
    }
   ],
   "source": [
    "#@solution\n",
    "check_for_new(df, df_old)"
   ]
  },
  {
   "cell_type": "code",
   "execution_count": 26,
   "metadata": {},
   "outputs": [],
   "source": []
  }
 ],
 "metadata": {
  "kernelspec": {
   "display_name": "Anaconda (OPS)",
   "language": "python",
   "name": "ops"
  },
  "language_info": {
   "codemirror_mode": {
    "name": "ipython",
    "version": 3
   },
   "file_extension": ".py",
   "mimetype": "text/x-python",
   "name": "python",
   "nbconvert_exporter": "python",
   "pygments_lexer": "ipython3",
   "version": "3.6.6"
  },
  "toc": {
   "base_numbering": 1,
   "nav_menu": {},
   "number_sections": true,
   "sideBar": true,
   "skip_h1_title": false,
   "title_cell": "Table of Contents",
   "title_sidebar": "Contents",
   "toc_cell": false,
   "toc_position": {},
   "toc_section_display": "block",
   "toc_window_display": false
  }
 },
 "nbformat": 4,
 "nbformat_minor": 2
}
